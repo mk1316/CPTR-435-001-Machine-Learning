{
 "cells": [
  {
   "cell_type": "markdown",
   "metadata": {
    "id": "BFckEjnc4GO7"
   },
   "source": [
    "# Getting started with Python and friends"
   ]
  },
  {
   "cell_type": "markdown",
   "metadata": {
    "id": "2MnoMLXy4GO8"
   },
   "source": [
    "Name: Kaleb Tsegaye\n",
    "\n",
    "Class: CPTR 435"
   ]
  },
  {
   "cell_type": "markdown",
   "metadata": {
    "id": "e6tPKGyh4GO9"
   },
   "source": [
    "This activity is based on chapter 1 from *Introduction to Machine Learning with Python: a guide for Data Scientists* by Muller and Guido (2017)."
   ]
  },
  {
   "cell_type": "code",
   "execution_count": null,
   "metadata": {},
   "outputs": [],
   "source": []
  },
  {
   "cell_type": "markdown",
   "metadata": {
    "id": "vkm6J975EQdV"
   },
   "source": [
    "# Basic Python\n",
    "The following introduces the syntax of common python statements such as output, if statements, loops, and functions.\n"
   ]
  },
  {
   "cell_type": "code",
   "execution_count": 11,
   "metadata": {
    "id": "3X0ixP23BRnc"
   },
   "outputs": [
    {
     "name": "stdout",
     "output_type": "stream",
     "text": [
      "Hello World\n"
     ]
    }
   ],
   "source": [
    "print('Hello World')"
   ]
  },
  {
   "cell_type": "markdown",
   "metadata": {
    "id": "djEDE9XOe-n1"
   },
   "source": [
    "## Variables\n",
    "In Python, variables do not need to explicitly declared as in C++ or Java. \n",
    "\n",
    "Assigning a value to a valid variable name automatically creates and initializes a variable.\n",
    "\n",
    "The following creates a variable `a` and assigns it the value 3."
   ]
  },
  {
   "cell_type": "code",
   "execution_count": 12,
   "metadata": {
    "id": "aOm7PTBqBRnh"
   },
   "outputs": [],
   "source": [
    "a = 3"
   ]
  },
  {
   "cell_type": "code",
   "execution_count": 13,
   "metadata": {
    "id": "fl19IT1aBRnk"
   },
   "outputs": [
    {
     "name": "stdout",
     "output_type": "stream",
     "text": [
      "3\n"
     ]
    }
   ],
   "source": [
    "print(a)"
   ]
  },
  {
   "cell_type": "code",
   "execution_count": 14,
   "metadata": {
    "id": "RY1SrQy_fx13"
   },
   "outputs": [],
   "source": [
    "b = 'hello'"
   ]
  },
  {
   "cell_type": "code",
   "execution_count": 15,
   "metadata": {
    "id": "x82I8MkQf1Kp"
   },
   "outputs": [
    {
     "name": "stdout",
     "output_type": "stream",
     "text": [
      "hello\n"
     ]
    }
   ],
   "source": [
    "print(b)"
   ]
  },
  {
   "cell_type": "markdown",
   "metadata": {
    "id": "wNQxvhd4Rwks"
   },
   "source": [
    "Unlike C++ and Java, division in Python results in real numbers. \n"
   ]
  },
  {
   "cell_type": "code",
   "execution_count": 16,
   "metadata": {
    "id": "IfjVaYLuSWAr"
   },
   "outputs": [
    {
     "name": "stdout",
     "output_type": "stream",
     "text": [
      "2.5\n"
     ]
    }
   ],
   "source": [
    "print(5/2)"
   ]
  },
  {
   "cell_type": "code",
   "execution_count": 17,
   "metadata": {
    "id": "L2stwMPDSfeG"
   },
   "outputs": [
    {
     "name": "stdout",
     "output_type": "stream",
     "text": [
      "2.0\n"
     ]
    }
   ],
   "source": [
    "print(4/2)"
   ]
  },
  {
   "cell_type": "markdown",
   "metadata": {
    "id": "2QoMpf4ZTU1p"
   },
   "source": [
    "If you would like the result to be an integer, you can use the `int()` function to convert the result."
   ]
  },
  {
   "cell_type": "code",
   "execution_count": 18,
   "metadata": {
    "id": "PUFnewn5Th5B"
   },
   "outputs": [
    {
     "name": "stdout",
     "output_type": "stream",
     "text": [
      "2\n"
     ]
    }
   ],
   "source": [
    "print(int(5/2))"
   ]
  },
  {
   "cell_type": "markdown",
   "metadata": {
    "id": "_ydz6nLFT1S1"
   },
   "source": [
    "Or you can use the integer division operator `//`"
   ]
  },
  {
   "cell_type": "code",
   "execution_count": 19,
   "metadata": {
    "id": "n5eQ24DdT7GG"
   },
   "outputs": [
    {
     "name": "stdout",
     "output_type": "stream",
     "text": [
      "2\n"
     ]
    }
   ],
   "source": [
    "print(5//2)"
   ]
  },
  {
   "cell_type": "markdown",
   "metadata": {
    "id": "sJ8jViPne9xX"
   },
   "source": [
    "## Statement blocks and Control flow\n",
    "Indentation is used to define statement blocks. There are no begin/end keywords or symbols (e.g. `{}`).\n",
    "\n",
    "Statement blocks for `if` statements, `for`and `while` loops, and functions begin with a colon `:`.\n",
    "\n",
    "The amount of indent does not matter (two spaces, eight spaces, three tabs), it just has to be the same for each statment in the block."
   ]
  },
  {
   "cell_type": "code",
   "execution_count": 20,
   "metadata": {
    "id": "9cMEgWo0BRnn"
   },
   "outputs": [
    {
     "name": "stdout",
     "output_type": "stream",
     "text": [
      "world\n"
     ]
    }
   ],
   "source": [
    "if a > 4:\n",
    "    print('hi')\n",
    "else:\n",
    "    print('world')"
   ]
  },
  {
   "cell_type": "code",
   "execution_count": 21,
   "metadata": {
    "id": "OSZF7BBch9yn"
   },
   "outputs": [
    {
     "name": "stdout",
     "output_type": "stream",
     "text": [
      "5\n"
     ]
    }
   ],
   "source": [
    "#a = 0\n",
    "a = 5\n",
    "\n",
    "if a > 1 and a < 10:\n",
    "  print(a)\n",
    "else:\n",
    "  # following is an example of a formatted string\n",
    "  # value of a replaces the {} symbols.\n",
    "  print('a is out of range (a={})'.format(a))"
   ]
  },
  {
   "cell_type": "markdown",
   "metadata": {
    "id": "Kkn5UD0-jEz1"
   },
   "source": [
    "Functions are defined using the `def` keyword. \n"
   ]
  },
  {
   "cell_type": "code",
   "execution_count": 22,
   "metadata": {
    "id": "SE5cusezBRnp"
   },
   "outputs": [
    {
     "name": "stdout",
     "output_type": "stream",
     "text": [
      "10\n"
     ]
    }
   ],
   "source": [
    "# define function\n",
    "def foo(x):\n",
    "    y = x*2\n",
    "    print(y)\n",
    "    \n",
    "# call function\n",
    "foo(5)"
   ]
  },
  {
   "cell_type": "code",
   "execution_count": 23,
   "metadata": {
    "id": "hLtsKnOoBRns"
   },
   "outputs": [
    {
     "data": {
      "text/plain": [
       "12"
      ]
     },
     "execution_count": 23,
     "metadata": {},
     "output_type": "execute_result"
    }
   ],
   "source": [
    "def bar(a,b):\n",
    "    return a*b\n",
    "\n",
    "bar(3,4)"
   ]
  },
  {
   "cell_type": "markdown",
   "metadata": {
    "id": "tutDDGXzmEUf"
   },
   "source": [
    "Functions can return multiple values separated by a comma."
   ]
  },
  {
   "cell_type": "code",
   "execution_count": 24,
   "metadata": {
    "id": "HVbQxjQFmN5Z"
   },
   "outputs": [],
   "source": [
    "def bar(x):\n",
    "  ''' \n",
    "  Takes a value and returns \n",
    "  half the value, double the value and its square\n",
    "  '''  \n",
    "  return x/2.0, x*2, x**2"
   ]
  },
  {
   "cell_type": "markdown",
   "metadata": {
    "id": "6kcLfGdom3Hg"
   },
   "source": [
    "The return value may be assigned to a single variable (as a ***tuple***) or a comma separated list of variables (*exactly* one variable per value)."
   ]
  },
  {
   "cell_type": "code",
   "execution_count": 25,
   "metadata": {
    "id": "wpUtW2o9mUjI"
   },
   "outputs": [
    {
     "name": "stdout",
     "output_type": "stream",
     "text": [
      "(1.5, 6, 9)\n",
      "a=1.5, b=6, c=9\n"
     ]
    }
   ],
   "source": [
    "d = bar(3)    # d is a tuple\n",
    "print(d)\n",
    "\n",
    "a, b, c = bar(3)   # a, b, c are regular variables\n",
    "print('a={}, b={}, c={}'.format(a,b,c))"
   ]
  },
  {
   "cell_type": "markdown",
   "metadata": {
    "id": "IiDTjRrsjOzp"
   },
   "source": [
    "## Lists\n",
    "***Lists*** are the fundamental array data structure in Python. \n",
    "\n",
    "They are ***dynamic arrays***. They resize themselves as needed.\n",
    "\n",
    "***Indices*** are specified between `[]` (e.g. `b[2]`).\n",
    "\n",
    "Lists are ***zero indexed***, so the first element has index 0.\n",
    "\n",
    "`:` can be used to specify a range of indices for working with multiple elements at once.\n",
    "\n",
    "`len()` operator gets the number of elements in a list."
   ]
  },
  {
   "cell_type": "code",
   "execution_count": 26,
   "metadata": {
    "id": "ISMgv94SBRnv"
   },
   "outputs": [
    {
     "name": "stdout",
     "output_type": "stream",
     "text": [
      "[4, 5, 6, 7]\n",
      "[4, 5]\n",
      "4\n"
     ]
    }
   ],
   "source": [
    "b = [4,5,6,7]\n",
    "print(b)       # print entire array\n",
    "print(b[0:2])  # print elements 0, 1\n",
    "print(len(b))  # print the number of items in the array"
   ]
  },
  {
   "cell_type": "markdown",
   "metadata": {
    "id": "2iRXswPIjywg"
   },
   "source": [
    "`append` adds new elements to the back of the list (resizing as needed)."
   ]
  },
  {
   "cell_type": "code",
   "execution_count": 27,
   "metadata": {
    "id": "jTbtbh9XBRnx"
   },
   "outputs": [
    {
     "name": "stdout",
     "output_type": "stream",
     "text": [
      "[4, 5, 6, 7, 42]\n"
     ]
    }
   ],
   "source": [
    "b.append(42)\n",
    "print(b)"
   ]
  },
  {
   "cell_type": "code",
   "execution_count": 28,
   "metadata": {
    "id": "oWoF083pBRn0"
   },
   "outputs": [
    {
     "name": "stdout",
     "output_type": "stream",
     "text": [
      "[32, 8]\n"
     ]
    }
   ],
   "source": [
    "c = []        # start with empty list\n",
    "c.append(32)\n",
    "c.append(8)\n",
    "print(c)"
   ]
  },
  {
   "cell_type": "markdown",
   "metadata": {
    "id": "6tefmavIkxie"
   },
   "source": [
    "`for` loops iterate through lists and other ***iterable*** objects (recall CPTR 276 Data Structures and Algorithms)."
   ]
  },
  {
   "cell_type": "code",
   "execution_count": 29,
   "metadata": {
    "id": "vvM_0qZSBRn2"
   },
   "outputs": [
    {
     "name": "stdout",
     "output_type": "stream",
     "text": [
      "4\n",
      "5\n",
      "6\n",
      "7\n",
      "42\n"
     ]
    }
   ],
   "source": [
    "for item in b:\n",
    "    print(item)"
   ]
  },
  {
   "cell_type": "markdown",
   "metadata": {
    "id": "u6PXNvZxlR6R"
   },
   "source": [
    "`enumerate` operator is useful when you want to iterate through a list, but also want the index of each element in the list.\n",
    "\n",
    "For each iteration of the loop, `enumerate(b)` returns the **index** of the next  element in `b` along with the **value** of the element."
   ]
  },
  {
   "cell_type": "code",
   "execution_count": 30,
   "metadata": {
    "id": "c9d8mwKBBRn5"
   },
   "outputs": [
    {
     "name": "stdout",
     "output_type": "stream",
     "text": [
      "0: 4\n",
      "1: 5\n",
      "2: 6\n",
      "3: 7\n",
      "4: 42\n"
     ]
    }
   ],
   "source": [
    "for i, item in enumerate(b):\n",
    "    print('{}: {}'.format(i,item))   # formatted print stmt for two values"
   ]
  },
  {
   "cell_type": "markdown",
   "metadata": {
    "id": "fh5ogULxniq3"
   },
   "source": [
    "## Tuples\n",
    "***Tuples*** are ordered lists of values surrounded by `()`. \n",
    "\n",
    "The values do not need to be the same type.\n",
    "\n",
    "Tuples are a simple way of bundling values together (less work than creating a ***class***)."
   ]
  },
  {
   "cell_type": "code",
   "execution_count": 31,
   "metadata": {
    "id": "Fr6XFLs0rMZy"
   },
   "outputs": [
    {
     "name": "stdout",
     "output_type": "stream",
     "text": [
      "(2, 'hi', 3.14)\n"
     ]
    }
   ],
   "source": [
    "t = (2, 'hi', 3.14)    # create a tuple of three values\n",
    "\n",
    "print(t)"
   ]
  },
  {
   "cell_type": "markdown",
   "metadata": {
    "id": "K4PLkmwMrZ_O"
   },
   "source": [
    "Values in a tuple may be access with indices or splitting the tuple by assign it to a comma separated list of variables."
   ]
  },
  {
   "cell_type": "code",
   "execution_count": 32,
   "metadata": {
    "id": "dCTOoZlJrwNE"
   },
   "outputs": [
    {
     "name": "stdout",
     "output_type": "stream",
     "text": [
      "x=2, y=hi, z=3.14\n"
     ]
    }
   ],
   "source": [
    "x, y, z = t   # assign values to list of variables\n",
    "\n",
    "print('x={}, y={}, z={}'.format(x,y,z))"
   ]
  },
  {
   "cell_type": "markdown",
   "metadata": {
    "id": "T5kdVJ92sMy0"
   },
   "source": [
    "Indices are specified with `[]` and start at zero."
   ]
  },
  {
   "cell_type": "code",
   "execution_count": 33,
   "metadata": {
    "id": "8H-8nzgIr_iC"
   },
   "outputs": [
    {
     "name": "stdout",
     "output_type": "stream",
     "text": [
      "x=2, y=hi, z=3.14\n"
     ]
    }
   ],
   "source": [
    "x = t[0]\n",
    "y = t[1]\n",
    "z = t[2]\n",
    "\n",
    "print('x={}, y={}, z={}'.format(x,y,z))"
   ]
  },
  {
   "cell_type": "markdown",
   "metadata": {
    "id": "jN74wdofsdCZ"
   },
   "source": [
    "`()` is a tuple with zero elements.\n",
    "\n",
    "`('hi',) is a tuple with one element. \n",
    "\n",
    "Tuples cannot be modified (unlike lists). \n",
    "\n",
    "Like strings in Java, tuples are ***immutable*** objects (hence, they can be used as keys in hash tables, where as lists cannot).\n",
    "\n",
    "If you want to change a tuple, you must create a new tuple to replace the old one."
   ]
  },
  {
   "cell_type": "code",
   "execution_count": 34,
   "metadata": {
    "id": "t4rvQc75spny"
   },
   "outputs": [
    {
     "name": "stdout",
     "output_type": "stream",
     "text": [
      "t=(), length=0\n",
      "\n",
      "t=('alice',), length=1\n",
      "\n",
      "t=('alice', 'bob'), length=2\n"
     ]
    }
   ],
   "source": [
    "t = ()     # empty tuple\n",
    "print('t={}, length={}\\n'.format(t, len(t)))\n",
    "\n",
    "t = t + ('alice',)  # create new tuple\n",
    "print('t={}, length={}\\n'.format(t, len(t)))\n",
    "\n",
    "t = t + ('bob',)  # create new tuple\n",
    "print('t={}, length={}'.format(t, len(t)))"
   ]
  },
  {
   "cell_type": "markdown",
   "metadata": {
    "id": "qVMqjBAsBRn8"
   },
   "source": [
    "## Range\n",
    "`range()` is used when generating sequences of values. It is often used to implement tradition for loop patterns that have a starting and ending value.\n",
    "\n",
    "It has potentially three parameters `range([start], stop[, step]):\n",
    "* `start`: starting number in sequence\n",
    "* `stop`: generate numbers up to, but not including this number\n",
    "* `step`: difference between each number in the sequence\n",
    "\n",
    "Note: all parameters must be integers!\n",
    "\n",
    "for more see https://www.pythoncentral.io/pythons-range-function-explained/"
   ]
  },
  {
   "cell_type": "code",
   "execution_count": 35,
   "metadata": {
    "id": "pImqq1yTBRn9"
   },
   "outputs": [
    {
     "name": "stdout",
     "output_type": "stream",
     "text": [
      "range(0, 5)\n"
     ]
    }
   ],
   "source": [
    "x = range(5)\n",
    "print(x)"
   ]
  },
  {
   "cell_type": "markdown",
   "metadata": {
    "id": "cTUjVBzqBRn_"
   },
   "source": [
    "The value in `x` is not a list. Range in Python 3.x generates values on the fly. This saves memory if `range` is generating a lot of numbers. If you want all of the numbers at once, convert using `list`."
   ]
  },
  {
   "cell_type": "code",
   "execution_count": 36,
   "metadata": {
    "id": "YZjzNjuZBRoA"
   },
   "outputs": [
    {
     "name": "stdout",
     "output_type": "stream",
     "text": [
      "[0, 1, 2, 3, 4]\n"
     ]
    }
   ],
   "source": [
    "y = list(x)\n",
    "print(y)"
   ]
  },
  {
   "cell_type": "code",
   "execution_count": 37,
   "metadata": {
    "id": "_2LsDbcHBRoC"
   },
   "outputs": [
    {
     "name": "stdout",
     "output_type": "stream",
     "text": [
      "0\n",
      "1\n",
      "2\n",
      "3\n",
      "4\n"
     ]
    }
   ],
   "source": [
    "for i in x:\n",
    "    print(i)"
   ]
  },
  {
   "cell_type": "code",
   "execution_count": 38,
   "metadata": {
    "id": "-7zkhEg1BRoE"
   },
   "outputs": [
    {
     "name": "stdout",
     "output_type": "stream",
     "text": [
      "2\n",
      "3\n",
      "4\n",
      "5\n",
      "6\n"
     ]
    }
   ],
   "source": [
    "for i in range(2,7):\n",
    "    print(i)"
   ]
  },
  {
   "cell_type": "markdown",
   "metadata": {
    "id": "qRK3-6D8BRoH"
   },
   "source": [
    "Note that 7 is not included! \n",
    "\n",
    "    range(start, stop)\n",
    "    \n",
    "Generates integers `i` < `stop`, beginning at `start`.\n",
    "\n",
    "The following in python\n",
    "\n",
    "    for i in range(start, stop, step):\n",
    "        ...\n",
    "        \n",
    "Is equivalent to the following in C/C++/Java\n",
    "\n",
    "    for (i = start; i < stop; i+=step) {\n",
    "        ...\n",
    "    }"
   ]
  },
  {
   "cell_type": "code",
   "execution_count": 39,
   "metadata": {
    "id": "dhm5EnQlBRoH"
   },
   "outputs": [
    {
     "name": "stdout",
     "output_type": "stream",
     "text": [
      "10\n",
      "8\n",
      "6\n",
      "4\n",
      "2\n"
     ]
    }
   ],
   "source": [
    "for i in range(10, 0, -2):\n",
    "    print(i)"
   ]
  },
  {
   "cell_type": "markdown",
   "metadata": {
    "id": "v_JaoeofBRoK"
   },
   "source": [
    "## Hash tables (AKA Dictionaries)\n",
    "***Hash tables*** or ***dictionaries*** are commonly used data types in Python.\n",
    "\n",
    "They store a list (key, value) pairs.\n",
    "\n",
    "***Keys*** can be an ***immutable*** value.\n",
    "\n",
    "Empty hash tables are created with `{}`."
   ]
  },
  {
   "cell_type": "code",
   "execution_count": 40,
   "metadata": {
    "id": "0CBHFNdjBRoK"
   },
   "outputs": [],
   "source": [
    "h = {}"
   ]
  },
  {
   "cell_type": "markdown",
   "metadata": {
    "id": "9S24ZBVOvxWB"
   },
   "source": [
    "Values are accessed using array/list syntax. The ***key*** is treated as the ***index***."
   ]
  },
  {
   "cell_type": "code",
   "execution_count": 41,
   "metadata": {
    "id": "K7Y7Yq5-vrvu"
   },
   "outputs": [
    {
     "name": "stdout",
     "output_type": "stream",
     "text": [
      "{'hi': 5}\n",
      "5\n",
      "{'hi': 10}\n"
     ]
    }
   ],
   "source": [
    "h['hi']=5    # insert key, value pair ('hi',5). The key is 'hi'\n",
    "\n",
    "print(h)\n",
    "print(h['hi'])\n",
    "\n",
    "h['hi'] = h['hi'] * 2\n",
    "print(h)"
   ]
  },
  {
   "cell_type": "markdown",
   "metadata": {
    "id": "1nTWi1O9BRoc"
   },
   "source": [
    "## Classes\n",
    "***Classes*** are created using the keyword `class`.\n",
    "\n",
    "All class variables (***instance variables***) and functions must have the same indentation.\n",
    "\n",
    "`__init__` is the name of the function that is called immediately after the object is created. Technically, it is **not** a constructor in the C++/Java sense (the object has already been created), but it serves a similar purpose. Use it to initialize your class variables.\n",
    "\n",
    "Parameter lists for class functions begin with the variable `self` which is a reference to the *current instance* of the class (similar to `this` in Java). `self` is used to access class variables (variables global to all functions in the class)."
   ]
  },
  {
   "cell_type": "code",
   "execution_count": 42,
   "metadata": {
    "id": "lut0XgTlBRod"
   },
   "outputs": [],
   "source": [
    "class A:\n",
    "    x=3                      # instance variables with default values\n",
    "    y=3.14\n",
    "    \n",
    "    def __init__(self, z):   # \"constructor\"-like-thing\n",
    "        self.x = z           \n",
    "        \n",
    "    def foo(self):           # a class function\n",
    "        print(self.x)"
   ]
  },
  {
   "cell_type": "code",
   "execution_count": 43,
   "metadata": {
    "id": "CBWEdO5L0E9W"
   },
   "outputs": [
    {
     "name": "stdout",
     "output_type": "stream",
     "text": [
      "6\n"
     ]
    }
   ],
   "source": [
    "# create a new instance of A. \n",
    "# Pass 6 to y in the __init__(self, y)__ function\n",
    "a = A(6) \n",
    "\n",
    "# call the class function foo()\n",
    "a.foo()"
   ]
  },
  {
   "cell_type": "markdown",
   "metadata": {
    "id": "ZF8AHhHu0f-o"
   },
   "source": [
    "Create another instance of A. This time store a string in `x`."
   ]
  },
  {
   "cell_type": "code",
   "execution_count": 44,
   "metadata": {
    "id": "C537fXlvBRoh"
   },
   "outputs": [],
   "source": [
    "b = A('hi')"
   ]
  },
  {
   "cell_type": "code",
   "execution_count": 45,
   "metadata": {
    "id": "Yq3KqAm8BRoj"
   },
   "outputs": [
    {
     "name": "stdout",
     "output_type": "stream",
     "text": [
      "hi\n"
     ]
    }
   ],
   "source": [
    "b.foo()"
   ]
  },
  {
   "cell_type": "markdown",
   "metadata": {
    "id": "Mx7PDhOD1BYY"
   },
   "source": [
    "Both instances assigned different values to `x`."
   ]
  },
  {
   "cell_type": "code",
   "execution_count": 46,
   "metadata": {
    "id": "rLLfxBqr1YUI"
   },
   "outputs": [
    {
     "name": "stdout",
     "output_type": "stream",
     "text": [
      "6\n",
      "hi\n"
     ]
    }
   ],
   "source": [
    "print(a.x)\n",
    "print(b.x)"
   ]
  },
  {
   "cell_type": "markdown",
   "metadata": {
    "id": "JpZk9DfY1dHb"
   },
   "source": [
    "However, `__init__` never changed `y`, so both instances are initialized to the same value.\n",
    "\n",
    "Changing `y` for once instance, only changes it for that instance."
   ]
  },
  {
   "cell_type": "code",
   "execution_count": 47,
   "metadata": {
    "id": "mcNpe4le1xeF"
   },
   "outputs": [
    {
     "name": "stdout",
     "output_type": "stream",
     "text": [
      "3.14\n",
      "3.14\n",
      "7\n",
      "3.14\n"
     ]
    }
   ],
   "source": [
    "print(a.y)\n",
    "print(b.y)\n",
    "\n",
    "a.y = 7  # only changes y for a\n",
    "\n",
    "print(a.y)\n",
    "print(b.y)"
   ]
  },
  {
   "cell_type": "markdown",
   "metadata": {
    "id": "ENEb40e2BRol"
   },
   "source": [
    "## List comprehensions\n",
    "\n",
    "***List comprehensions*** are a compact way of creating lists that require for loops. \n",
    "\n",
    "Their syntax is somewhat similar to ***set builder notation*** used in Discrete Math for defining sets.\n",
    "https://www.mathsisfun.com/sets/set-builder-notation.html\n",
    "\n",
    "List comprehension:\n",
    "```\n",
    "[ item  code-generating-each-item ]\n",
    "```\n",
    "\n",
    "Consider creating an array of even values from 0 to 18. This can be done using a for loop using a familiar pattern from CS I."
   ]
  },
  {
   "cell_type": "code",
   "execution_count": 48,
   "metadata": {
    "id": "g6I6CHheBRom"
   },
   "outputs": [
    {
     "name": "stdout",
     "output_type": "stream",
     "text": [
      "[0, 2, 4, 6, 8, 10, 12, 14, 16, 18]\n"
     ]
    }
   ],
   "source": [
    "a = []\n",
    "for i in range(0, 10):\n",
    "    a.append(i*2)\n",
    "\n",
    "print(a)"
   ]
  },
  {
   "cell_type": "markdown",
   "metadata": {
    "id": "Ew8S1foRBRoo"
   },
   "source": [
    "This may be written more compactly as a list comprehension."
   ]
  },
  {
   "cell_type": "code",
   "execution_count": 49,
   "metadata": {
    "id": "GtHdAH2IBRoo"
   },
   "outputs": [
    {
     "name": "stdout",
     "output_type": "stream",
     "text": [
      "[0, 2, 4, 6, 8, 10, 12, 14, 16, 18]\n"
     ]
    }
   ],
   "source": [
    "a = [i*2 for i in range(0, 10)]\n",
    "\n",
    "print(a)"
   ]
  },
  {
   "cell_type": "markdown",
   "metadata": {
    "id": "Hgyeu3QJBRor"
   },
   "source": [
    "We may even use conditions."
   ]
  },
  {
   "cell_type": "code",
   "execution_count": 50,
   "metadata": {
    "id": "QAdLnpzLBRor"
   },
   "outputs": [
    {
     "name": "stdout",
     "output_type": "stream",
     "text": [
      "[0, 3, 6, 9]\n"
     ]
    }
   ],
   "source": [
    "a = [i for i in range(0, 10) if i%3 == 0]\n",
    "\n",
    "print(a)"
   ]
  },
  {
   "cell_type": "markdown",
   "metadata": {
    "id": "Sr8WLziR4GO-"
   },
   "source": [
    "# NumPy"
   ]
  },
  {
   "cell_type": "markdown",
   "metadata": {
    "id": "_awcqWoN4GO_"
   },
   "source": [
    "Fundamental package for scientific computing. Contains data structures and operations for multidimensional arrays (vectors, matrices) and common numerical operations. Used by Machine Learning libraries such as scikit-learn and tensorflow."
   ]
  },
  {
   "cell_type": "markdown",
   "metadata": {
    "id": "B8b4fnz34GPA"
   },
   "source": [
    "The fundamental data structure in NumPy is``ndarray``. This is a class for a multidimensional array where all elements are the same type.\n",
    "\n",
    "Type (don't copy/paste) the following to import the NumPy module, create a simple ``ndarray`` and display its contents.\n",
    "    \n",
    "    import numpy as np    # import numpy library\n",
    "    \n",
    "    x = np.array([[1, 2, 3], [4, 5, 6]])\n",
    "    print('x:\\n{}'.format(x))"
   ]
  },
  {
   "cell_type": "code",
   "execution_count": 51,
   "metadata": {
    "id": "zP--fLUd4GPA"
   },
   "outputs": [
    {
     "name": "stdout",
     "output_type": "stream",
     "text": [
      "x:\n",
      "[[1 2 3]\n",
      " [4 5 6]]\n"
     ]
    }
   ],
   "source": [
    "import numpy as np\n",
    "\n",
    "x = np.array([[1,2,3], [4,5,6]])\n",
    "print('x:\\n{}'.format(x))"
   ]
  },
  {
   "cell_type": "markdown",
   "metadata": {
    "id": "7g-r-cKJ5cfM"
   },
   "source": [
    "This code created a 2D array (***matrix***)."
   ]
  },
  {
   "cell_type": "code",
   "execution_count": 52,
   "metadata": {
    "id": "jXO9CoFn4GPG"
   },
   "outputs": [
    {
     "name": "stdout",
     "output_type": "stream",
     "text": [
      "[[1 2 3]\n",
      " [4 5 6]]\n"
     ]
    }
   ],
   "source": [
    "print(x)"
   ]
  },
  {
   "cell_type": "markdown",
   "metadata": {
    "id": "aDHmKL8s5iOK"
   },
   "source": [
    "Arithmatic perform on the array variable are applied to each element in the array."
   ]
  },
  {
   "cell_type": "code",
   "execution_count": 53,
   "metadata": {
    "id": "jsle5tqsFzhD"
   },
   "outputs": [
    {
     "data": {
      "text/plain": [
       "array([[12, 14, 16],\n",
       "       [18, 20, 22]])"
      ]
     },
     "execution_count": 53,
     "metadata": {},
     "output_type": "execute_result"
    }
   ],
   "source": [
    "x*2 + 10"
   ]
  },
  {
   "cell_type": "markdown",
   "metadata": {
    "id": "HnFpEXhu7KXb"
   },
   "source": [
    "Numpy arrays are  ***tensors***, multidimensional arrays with specific mathematical properties and rules for how operations can be applied to them (e.g. multiplication).\n",
    "\n",
    "***Vectors*** (rank=1) and ***Matrices*** (rank=2) are examples of Tensors. Vectors have one axis. Matrices are tensors with two axes. Tensors may have any number of axes.\n",
    "\n",
    "***Vectors*** (1D Numpy arrays) are a list of values contained within `[]`.\n",
    "\n",
    "Example:\n",
    "```\n",
    "np.array([5, 3, 7, -18, 2])\n",
    "```\n",
    "\n",
    "***Matrices*** (2D Numpy arrays) are a list of ***vectors*** contained within `[]`.\n",
    "\n",
    "Example:\n",
    "```\n",
    "np.array([ [3, 2, 5], [7, 0, 4] ])\n",
    "```"
   ]
  },
  {
   "cell_type": "code",
   "execution_count": 54,
   "metadata": {
    "id": "qSZON4oqF0Gm"
   },
   "outputs": [
    {
     "name": "stdout",
     "output_type": "stream",
     "text": [
      "[1 2 3]\n",
      "[10  0  2]\n"
     ]
    }
   ],
   "source": [
    "u = np.array([1, 2, 3])   # vector\n",
    "v = np.array([10, 0, 2])  # vector\n",
    "print(u)\n",
    "print(v)\n"
   ]
  },
  {
   "cell_type": "markdown",
   "metadata": {
    "id": "shUsa6Mx647d"
   },
   "source": [
    "The addition/subtraction operators (`+` and `-`) performs element-by-element addition/subtraction. Array elements in the same positions are added or subtracted."
   ]
  },
  {
   "cell_type": "code",
   "execution_count": 55,
   "metadata": {
    "id": "jC3k1N3u62vu"
   },
   "outputs": [
    {
     "data": {
      "text/plain": [
       "array([11,  2,  5])"
      ]
     },
     "execution_count": 55,
     "metadata": {},
     "output_type": "execute_result"
    }
   ],
   "source": [
    "u+v"
   ]
  },
  {
   "cell_type": "markdown",
   "metadata": {
    "id": "6dnVeo3i6dJI"
   },
   "source": [
    "The multiplication operator (`*`) performs ***element-by-element muliplication***.\n",
    "\n",
    "This operation is also known as the ***Hadamard product***.\n",
    "https://en.wikipedia.org/wiki/Hadamard_product_(matrices)\n"
   ]
  },
  {
   "cell_type": "code",
   "execution_count": 56,
   "metadata": {
    "id": "JWZNVtRCF0YA"
   },
   "outputs": [
    {
     "data": {
      "text/plain": [
       "array([10,  0,  6])"
      ]
     },
     "execution_count": 56,
     "metadata": {},
     "output_type": "execute_result"
    }
   ],
   "source": [
    "u*v"
   ]
  },
  {
   "cell_type": "markdown",
   "metadata": {
    "id": "2vD_Po1Q_Kyo"
   },
   "source": [
    "If you have learned some linear algebra, you know that you can compute a ***dot product*** of two vectors (*sum* of the Hadamard products of the two vectors).\n",
    "\n",
    "With Numpy arrays, the array function `dot` will compute the dot product."
   ]
  },
  {
   "cell_type": "code",
   "execution_count": 57,
   "metadata": {
    "id": "v3Df68_G6cVz"
   },
   "outputs": [
    {
     "name": "stdout",
     "output_type": "stream",
     "text": [
      "16\n"
     ]
    }
   ],
   "source": [
    "print(u.dot(v))"
   ]
  },
  {
   "cell_type": "markdown",
   "metadata": {
    "id": "Q4x8GeIy_0Hr"
   },
   "source": [
    "***Dot products*** are computed *all of the time* in Machine Learning. Even if you haven't taken linear algebra, you *will learn* to compute dot products in this course."
   ]
  },
  {
   "cell_type": "markdown",
   "metadata": {
    "id": "k2oZJFXgtYbn"
   },
   "source": [
    "## Random numbers\n",
    "We often need to generate arrays of random numbers. Sometimes we want to randomly select samples from a data set, sometimes we want arrays of random noise. \n",
    "\n",
    "For example, neural nets designed to create new images or movies often take random arrays as input. The output may be a realistic image or video. The random array provides the source of creativity so the neural net does not output the same result all of the time.\n",
    "\n",
    "Python has the library `random` which contains functions for:\n",
    "- generating random values\n",
    "- shuffling elements in an array\n",
    "- randomly sampling from an array\n",
    "\n",
    "For more:\n",
    "\n",
    "https://docs.python.org/dev/library/random.html#random.random"
   ]
  },
  {
   "cell_type": "code",
   "execution_count": 58,
   "metadata": {
    "id": "tDA-iKTUvrCx"
   },
   "outputs": [],
   "source": [
    "import random    # Python library containing various random functions"
   ]
  },
  {
   "cell_type": "markdown",
   "metadata": {
    "id": "6SWJQmXGwa8b"
   },
   "source": [
    "To set the random seed, use `random.seed(random_seed)`.\n",
    "\n",
    "Setting the random seed is useful for testing/debugging your code. With the same random seed, you will get the same sequence of random number all the time.\n",
    "\n",
    "To get different sequences, you will want to set the seed to a different value."
   ]
  },
  {
   "cell_type": "code",
   "execution_count": 59,
   "metadata": {
    "id": "dA6z0iG-v_Yc"
   },
   "outputs": [],
   "source": [
    "random.seed(42)    # set the random seed to 42. I mean, why not?"
   ]
  },
  {
   "cell_type": "markdown",
   "metadata": {
    "id": "0bq-bFkAw5W_"
   },
   "source": [
    "`random.randint(a,b)` generates a single random integer N that is between a and b (inclusive), i.e. `a <= N <= b`.\n",
    "\n",
    "Calling `randint` repeatedly generates each random int in the sequence."
   ]
  },
  {
   "cell_type": "code",
   "execution_count": 60,
   "metadata": {
    "id": "0ugm5U8Vw2MI"
   },
   "outputs": [
    {
     "name": "stdout",
     "output_type": "stream",
     "text": [
      "0\n"
     ]
    }
   ],
   "source": [
    "print(random.randint(0,4))    # generate random number between 0 and 4 (inclusive)"
   ]
  },
  {
   "cell_type": "code",
   "execution_count": 61,
   "metadata": {
    "id": "Ow2oVYBrxh98"
   },
   "outputs": [
    {
     "name": "stdout",
     "output_type": "stream",
     "text": [
      "0\n",
      "2\n",
      "1\n",
      "1\n",
      "1\n",
      "0\n",
      "4\n",
      "0\n",
      "4\n",
      "3\n"
     ]
    }
   ],
   "source": [
    "# print 10 random integers from 0 to 4\n",
    "for i in range(0,10):\n",
    "  print(random.randint(0,4))"
   ]
  },
  {
   "cell_type": "markdown",
   "metadata": {
    "id": "adZ5trBAx0tW"
   },
   "source": [
    "`random.random()` generates a random floating point number in the range [0.0, 1.0). "
   ]
  },
  {
   "cell_type": "code",
   "execution_count": 62,
   "metadata": {
    "id": "KKxBWk9hyfhu"
   },
   "outputs": [
    {
     "name": "stdout",
     "output_type": "stream",
     "text": [
      "0.03178267948178359\n",
      "0.09369523986159245\n",
      "0.2326608933907396\n",
      "0.6020187290499803\n",
      "0.561245062938613\n",
      "0.7160196129224035\n",
      "0.7013249735902359\n",
      "0.41951982096165874\n",
      "0.4492090462838536\n",
      "0.2781907082306627\n"
     ]
    }
   ],
   "source": [
    "# print 10 random real numbers from 0 to 4\n",
    "for i in range(0,10):\n",
    "  print(random.random())"
   ]
  },
  {
   "cell_type": "markdown",
   "metadata": {
    "id": "hPOmFkoEyxu7"
   },
   "source": [
    "***What if want random real numbers in the range [a, b)?***\n",
    "\n",
    "You can always scale and offset the results of `random.random()` using:\n",
    "\n",
    "```\n",
    "random.random()*(b-a) + a\n",
    "```\n",
    "\n",
    "Example: Suppose we want random real numbers in the range [-1, 5). We can use:\n",
    "```\n",
    "random.random()*(5 - (-1)) + (-1)\n",
    "```"
   ]
  },
  {
   "cell_type": "code",
   "execution_count": 63,
   "metadata": {
    "id": "qtP2QXyp1qWr"
   },
   "outputs": [
    {
     "name": "stdout",
     "output_type": "stream",
     "text": [
      "4.215801924757604\n",
      "3.552844202778603\n",
      "-0.042044101738659245\n",
      "1.5356863889210155\n",
      "0.6672280500298511\n",
      "0.29188257264553275\n",
      "3.5809647740391437\n",
      "-0.38673834088090775\n",
      "1.2795638038240242\n",
      "1.1538762829077704\n"
     ]
    }
   ],
   "source": [
    "# print 10 random real numbers from -1 to 5\n",
    "for i in range(0,10):\n",
    "  r = random.random()*(5 - (-1)) + (-1)\n",
    "  print(r)"
   ]
  },
  {
   "cell_type": "markdown",
   "metadata": {
    "id": "r3GJAcSPDFIq"
   },
   "source": [
    "We can flex our ***list comprehension*** muscles and create an array of random values."
   ]
  },
  {
   "cell_type": "code",
   "execution_count": 64,
   "metadata": {
    "id": "QQWGntNxDQz5"
   },
   "outputs": [
    {
     "name": "stdout",
     "output_type": "stream",
     "text": [
      "[-0.3120885550420578, -0.47095826555597387, -0.9130991141538056, -0.08115024065631493, -0.7503476742935813, 0.8445907440563198, -0.8423996038430837, -0.4136434371858142, 0.25727959898888675, 0.7709034958736136]\n"
     ]
    }
   ],
   "source": [
    "r = [ random.random()*2-1 for i in range(0,10) ]   # 10 random values in range [-1, 1.0)\n",
    "\n",
    "print(r)"
   ]
  },
  {
   "cell_type": "markdown",
   "metadata": {
    "id": "9WVGmlldzD_N"
   },
   "source": [
    "`random.shuffle(x)` will randomly shuffle the elements in x."
   ]
  },
  {
   "cell_type": "code",
   "execution_count": 65,
   "metadata": {
    "id": "MU1OntNxzLDo"
   },
   "outputs": [
    {
     "name": "stdout",
     "output_type": "stream",
     "text": [
      "[4, 1, 6, 2, 5, 3]\n"
     ]
    }
   ],
   "source": [
    "a = [1,2,3,4,5,6]\n",
    "\n",
    "random.shuffle(a)   # actually changes the order in a\n",
    "\n",
    "print(a)     # a has now been shuffled"
   ]
  },
  {
   "cell_type": "markdown",
   "metadata": {
    "id": "ZrItFMfOzwvq"
   },
   "source": [
    "`random.sample(x, k)` returns a list of `k` unique elements chosen (without replacement) from the sequence or set `x`."
   ]
  },
  {
   "cell_type": "code",
   "execution_count": 66,
   "metadata": {
    "id": "PTV64URszjZa"
   },
   "outputs": [
    {
     "name": "stdout",
     "output_type": "stream",
     "text": [
      "[1, 4, 5, 10]\n"
     ]
    }
   ],
   "source": [
    "a = [1,2,3,4,5,6,7,8,9,10]\n",
    "\n",
    "sample = random.sample(a, 4)   # return 4 randomly chosen items from a\n",
    "print(sample)"
   ]
  },
  {
   "cell_type": "markdown",
   "metadata": {
    "id": "kI--MamMu2Vc"
   },
   "source": [
    "Numpy also has functions for generating random values.\n",
    "\n",
    "\n",
    "\n",
    "`default_rng(seed)` constructs a new random number generator using the given random seed. If a random seed is not provided, the generator will generate a different sequence each time the code runs (i.e. it gets a random seed from the OS)."
   ]
  },
  {
   "cell_type": "code",
   "execution_count": 67,
   "metadata": {
    "id": "xdxyL5T1EJ0j"
   },
   "outputs": [
    {
     "name": "stdout",
     "output_type": "stream",
     "text": [
      "[0.08564917 0.23681051 0.80127447 0.58216204 0.09412864 0.43312694\n",
      " 0.4790513  0.15973891 0.73457715 0.11367202]\n"
     ]
    }
   ],
   "source": [
    "from numpy.random import default_rng\n",
    "\n",
    "rng = default_rng(3)   # create random number generator with seed=3\n",
    "\n",
    "vals = rng.random(10)\n",
    "print(vals)"
   ]
  },
  {
   "cell_type": "markdown",
   "metadata": {
    "id": "YxR4-9SOGIXk"
   },
   "source": [
    "`random()` generates a random real number in the range [0.0, 1.0)."
   ]
  },
  {
   "cell_type": "code",
   "execution_count": 68,
   "metadata": {
    "id": "FuXE2elrGabS"
   },
   "outputs": [
    {
     "name": "stdout",
     "output_type": "stream",
     "text": [
      "0.39122819049566204\n"
     ]
    }
   ],
   "source": [
    "print(rng.random())"
   ]
  },
  {
   "cell_type": "markdown",
   "metadata": {
    "id": "PGLc-JFbGdid"
   },
   "source": [
    "`random(size)` generates a numpy array of random numbers.\n",
    " - if `size` is a single value, it generates a 1-D array.\n",
    " - if `size` is a tuple, it generates a multidimensional array with the given dimensions specified by `size`."
   ]
  },
  {
   "cell_type": "code",
   "execution_count": 69,
   "metadata": {
    "id": "kv67pr72G5fc"
   },
   "outputs": [
    {
     "name": "stdout",
     "output_type": "stream",
     "text": [
      "[0.51674018 0.43062802 0.58679857 0.73783779 0.95626725]\n"
     ]
    }
   ],
   "source": [
    "a = rng.random(5) # array of 5 random values\n",
    "\n",
    "print(a)  "
   ]
  },
  {
   "cell_type": "code",
   "execution_count": 70,
   "metadata": {
    "id": "LojNj5FuHBNb"
   },
   "outputs": [
    {
     "name": "stdout",
     "output_type": "stream",
     "text": [
      "[[0.28420116 0.64854721 0.696216  ]\n",
      " [0.29272075 0.00149008 0.97346027]]\n"
     ]
    }
   ],
   "source": [
    "a = rng.random( (2,3) ) # 2D array of random values with 2 rows, 3 cols\n",
    "\n",
    "print(a) "
   ]
  },
  {
   "cell_type": "markdown",
   "metadata": {
    "id": "rc6cP-DbHmtU"
   },
   "source": [
    "### Adding noise\n",
    "\n",
    "There are times when we want to add noise to data (e.g. signal processing, data augmentation). A common way to add noise to an array of values is to create a random array with the same dimensions as the data and sum the two arrays. "
   ]
  },
  {
   "cell_type": "code",
   "execution_count": 71,
   "metadata": {
    "id": "ObWkipB2IKcS"
   },
   "outputs": [
    {
     "name": "stdout",
     "output_type": "stream",
     "text": [
      "[0.59680245 1.627972   3.78342214 4.17032588 4.94261933 6.54655402\n",
      " 6.06069202 8.41393019]\n"
     ]
    }
   ],
   "source": [
    "clean_data = [1,2,3,4,5,6,7,8]  # original data\n",
    "\n",
    "random_noise = rng.random(8)*2-1    # array of noise on interval [-1, 1)\n",
    "\n",
    "noisy_data = clean_data + random_noise  \n",
    "\n",
    "print(noisy_data)"
   ]
  },
  {
   "cell_type": "markdown",
   "metadata": {
    "id": "ZCzjz20GHYud"
   },
   "source": [
    "Numpy has more functions for generating random integers and random values with different distributions.\n",
    "\n",
    "For more details:\n",
    "\n",
    "https://numpy.org/doc/stable/reference/random/index.html"
   ]
  },
  {
   "cell_type": "markdown",
   "metadata": {
    "id": "1xZThyJu4GPl"
   },
   "source": [
    "# matplotlib\n",
    "This library is used for producing plots and visualizations.\n",
    "\n",
    "Plots can be displayed within a Jupyter notebook. This allows notebooks to function as living reports. Data/code may be changed and the plots can be updated by rerunning the appropriate cells.\n",
    "\n",
    "Type the following to plot ``sin(x)`` from -10 to 10. \n",
    "\n",
    "    %matplotlib inline\n",
    "    import matplotlib.pyplot as plt\n",
    "    \n",
    "    # generate a sequence of numbers from -10 to 10 (100 steps in between)\n",
    "    x = np.linspace(-10, 10, 100)\n",
    "    # compute sin(x) for each value in the array x\n",
    "    y = np.sin(x)\n",
    "    # plot the function specified the by the arrays (x,y)\n",
    "    plt.plot(x,y,marker='x') "
   ]
  },
  {
   "cell_type": "code",
   "execution_count": 72,
   "metadata": {
    "id": "Qx2HwZkF4GPm"
   },
   "outputs": [
    {
     "data": {
      "text/plain": [
       "[<matplotlib.lines.Line2D at 0x2878235bd60>]"
      ]
     },
     "execution_count": 72,
     "metadata": {},
     "output_type": "execute_result"
    },
    {
     "data": {
      "image/png": "[encoded data removed]",
      "text/plain": [
       "<Figure size 640x480 with 1 Axes>"
      ]
     },
     "metadata": {},
     "output_type": "display_data"
    }
   ],
   "source": [
    "%matplotlib inline\n",
    "import matplotlib.pyplot as plt\n",
    "x = np.linspace(-10, 10, 100)\n",
    "y = np.sin(x)\n",
    "plt.plot(x,y,marker='x')"
   ]
  },
  {
   "cell_type": "markdown",
   "metadata": {
    "id": "gvlDk6sS4GPv"
   },
   "source": [
    "## Manipulating Numpy arrays\n",
    "Numpy arrays (similar to arrays in Matlab) may be indexed and sliced in various ways.\n",
    "\n",
    "### Specifying a range of elements\n",
    "To specify a range of elements in a Numpy array, we use `:`.\n",
    "\n",
    "The full syntax is `start:stop:step`. This generates indices starting at `start` and ending at the last integer before (but not including) `stop`. If `step` is given (optional), the indices are incremented by the `step` value.\n"
   ]
  },
  {
   "cell_type": "code",
   "execution_count": 73,
   "metadata": {
    "id": "97jCCdzN4GPw"
   },
   "outputs": [
    {
     "name": "stdout",
     "output_type": "stream",
     "text": [
      "0: 14\n",
      "1: 3\n",
      "2: 5\n",
      "3: 23\n",
      "4: 12\n",
      "5: 65\n",
      "6: 72\n",
      "7: 8\n",
      "8: 19\n",
      "9: 10\n",
      "10: 4\n"
     ]
    }
   ],
   "source": [
    "a = np.array([14,3,5,23,12,65,72,8,19,10,4])\n",
    "\n",
    "for i, value in enumerate(a):\n",
    "    print('{}: {}'.format(i,value))"
   ]
  },
  {
   "cell_type": "code",
   "execution_count": 74,
   "metadata": {
    "id": "KM3QMZm84GP0"
   },
   "outputs": [
    {
     "name": "stdout",
     "output_type": "stream",
     "text": [
      "[14  3  5]\n",
      "[ 5 23 12]\n",
      "[ 3 23 65  8]\n"
     ]
    }
   ],
   "source": [
    "print(a[0:3])    # values at positions 0 through 2\n",
    "print(a[2:5])    # values at positions 2 through 4\n",
    "print(a[1:8:2])  # values at positions 1 through 7 skipping every other"
   ]
  },
  {
   "cell_type": "markdown",
   "metadata": {
    "id": "G0Kdc-Zt4GP5"
   },
   "source": [
    "### All elements in an axis\n",
    "\n",
    "If you do not specify start or stop values, but use `:` by itself, then it selects all values in the axis."
   ]
  },
  {
   "cell_type": "code",
   "execution_count": 75,
   "metadata": {
    "id": "-3vtq8f34GP6"
   },
   "outputs": [
    {
     "name": "stdout",
     "output_type": "stream",
     "text": [
      "[[ 1  2  3  4  5  6]\n",
      " [ 7  8  9 10 11 12]\n",
      " [13 14 15 16 17 18]]\n"
     ]
    }
   ],
   "source": [
    "m = np.array([[1,2,3,4,5,6], [7,8,9,10,11,12], [13,14,15,16,17,18]])\n",
    "\n",
    "print(m)"
   ]
  },
  {
   "cell_type": "code",
   "execution_count": 76,
   "metadata": {
    "id": "QcMUlM3h4GP-"
   },
   "outputs": [
    {
     "name": "stdout",
     "output_type": "stream",
     "text": [
      "[1 2 3 4 5 6]\n"
     ]
    }
   ],
   "source": [
    "print(m[0, :])     # every column in first row"
   ]
  },
  {
   "cell_type": "code",
   "execution_count": 77,
   "metadata": {
    "id": "_T_PzRNv4GQC"
   },
   "outputs": [
    {
     "name": "stdout",
     "output_type": "stream",
     "text": [
      "[[ 1  2  3  4  5  6]\n",
      " [ 7  8  9 10 11 12]\n",
      " [13 14 15 16 17 18]]\n"
     ]
    }
   ],
   "source": [
    "print(m[:,:])      # every row and column"
   ]
  },
  {
   "cell_type": "markdown",
   "metadata": {
    "id": "kk9Muoyq4GQG"
   },
   "source": [
    "### Only start or end specified\n",
    "If only a *start value* is specified, such as `start:`, then it selects values starting at position `start` and continuing to the end of the array.\n",
    "If only an *stop value* is specified, such as `:stop`, then it selects values from the beginning of the array and continuing to (but not including) `stop`.\n"
   ]
  },
  {
   "cell_type": "code",
   "execution_count": 78,
   "metadata": {
    "id": "iLb5R2zG4GQG"
   },
   "outputs": [
    {
     "name": "stdout",
     "output_type": "stream",
     "text": [
      "[[ 4  5  6]\n",
      " [10 11 12]\n",
      " [16 17 18]]\n"
     ]
    }
   ],
   "source": [
    "print(m[:, 3:]) # every row in columns 4-6"
   ]
  },
  {
   "cell_type": "markdown",
   "metadata": {
    "id": "d2iBiZhN4GQL"
   },
   "source": [
    "### Negative start/stop\n",
    "If a negative value is given for `start` or `stop`, then the value is used to count backwards from the end of the array (or axis in the case of tensors). \n",
    "\n",
    "For instance, `-1` refers to the last element in the axis. `-3` refers to the 3rd to last element in the axis."
   ]
  },
  {
   "cell_type": "code",
   "execution_count": 79,
   "metadata": {
    "id": "otwJWLDp4GQL"
   },
   "outputs": [
    {
     "name": "stdout",
     "output_type": "stream",
     "text": [
      "[7 8]\n"
     ]
    }
   ],
   "source": [
    "x = np.array([0, 1, 2, 3, 4, 5, 6, 7, 8, 9])\n",
    "print(x[-3:-1])"
   ]
  },
  {
   "cell_type": "markdown",
   "metadata": {
    "id": "3hYOAQPe4GQP"
   },
   "source": [
    "### Boolean array indexing\n",
    "Comparisons with Numpy arrays may create a boolean array that can be used for indexing. This is a powerful feature that can simplify code that is doing a lot of calculating and updating of multidimensional arrays (e.g. images, video)."
   ]
  },
  {
   "cell_type": "code",
   "execution_count": 80,
   "metadata": {
    "id": "b8QBcyna4GQQ"
   },
   "outputs": [
    {
     "name": "stdout",
     "output_type": "stream",
     "text": [
      "[[ 1  2  3  4  5  6]\n",
      " [ 7  8  9 10 11 12]\n",
      " [13 14 15 16 17 18]]\n"
     ]
    }
   ],
   "source": [
    "m = np.array([[1,2,3,4,5,6], [7,8,9,10,11,12], [13,14,15,16,17,18]])\n",
    "\n",
    "print(m)"
   ]
  },
  {
   "cell_type": "code",
   "execution_count": 81,
   "metadata": {
    "id": "zoyntrrj4GQS"
   },
   "outputs": [
    {
     "name": "stdout",
     "output_type": "stream",
     "text": [
      "[[ True False  True False  True False]\n",
      " [ True False  True False  True False]\n",
      " [ True False  True False  True False]]\n"
     ]
    }
   ],
   "source": [
    "isodd = m % 2 == 1\n",
    "\n",
    "print(isodd)"
   ]
  },
  {
   "cell_type": "code",
   "execution_count": 82,
   "metadata": {
    "id": "VP_EOxv04GQW"
   },
   "outputs": [
    {
     "name": "stdout",
     "output_type": "stream",
     "text": [
      "[ 1  3  5  7  9 11 13 15 17]\n"
     ]
    }
   ],
   "source": [
    "print(m[isodd])"
   ]
  },
  {
   "cell_type": "code",
   "execution_count": 83,
   "metadata": {
    "id": "H2IhVx7x4GQa"
   },
   "outputs": [
    {
     "name": "stdout",
     "output_type": "stream",
     "text": [
      "[[ 1  2  1  4  1  6]\n",
      " [ 1  8  1 10  1 12]\n",
      " [ 1 14  1 16  1 18]]\n"
     ]
    }
   ],
   "source": [
    "m[isodd] = 1\n",
    "\n",
    "print(m)"
   ]
  },
  {
   "cell_type": "code",
   "execution_count": 85,
   "metadata": {},
   "outputs": [
    {
     "name": "stdout",
     "output_type": "stream",
     "text": [
      "Defaulting to user installation because normal site-packages is not writeable\n",
      "Collecting pandas\n",
      "  Downloading pandas-2.1.0-cp39-cp39-win_amd64.whl (11.2 MB)\n",
      "Requirement already satisfied: numpy>=1.22.4 in c:\\users\\kaleb\\appdata\\roaming\\python\\python39\\site-packages (from pandas) (1.25.2)\n",
      "Collecting tzdata>=2022.1\n",
      "  Downloading tzdata-2023.3-py2.py3-none-any.whl (341 kB)\n",
      "Collecting pytz>=2020.1\n",
      "  Downloading pytz-2023.3.post1-py2.py3-none-any.whl (502 kB)\n",
      "Requirement already satisfied: python-dateutil>=2.8.2 in c:\\users\\kaleb\\appdata\\roaming\\python\\python39\\site-packages (from pandas) (2.8.2)\n",
      "Requirement already satisfied: six>=1.5 in c:\\users\\kaleb\\appdata\\roaming\\python\\python39\\site-packages (from python-dateutil>=2.8.2->pandas) (1.16.0)\n",
      "Installing collected packages: tzdata, pytz, pandas\n",
      "Successfully installed pandas-2.1.0 pytz-2023.3.post1 tzdata-2023.3\n",
      "Note: you may need to restart the kernel to use updated packages.\n"
     ]
    },
    {
     "name": "stderr",
     "output_type": "stream",
     "text": [
      "WARNING: You are using pip version 21.1.2; however, version 23.2.1 is available.\n",
      "You should consider upgrading via the 'c:\\Program Files\\Python39\\python.exe -m pip install --upgrade pip' command.\n"
     ]
    }
   ],
   "source": [
    "pip install pandas"
   ]
  },
  {
   "cell_type": "markdown",
   "metadata": {
    "id": "hjRVnruE4GQe"
   },
   "source": [
    "# Pandas\n",
    "\n",
    "Pandas is a library for data wrangling and analysis. Fundamental data structure is the ``DataFrame``. It is modeled after the R DataFrame. A ``DataFrame`` is a table, similar to an Excel spreadsheet. It also support SQL-like queries and joins of tables. Pandas can also load data files from a variety of formats including SQL, Excel, and comma-separated values (CSV).\n",
    "\n",
    "Type the following to create a simple DataFrame of people.\n",
    "    \n",
    "     import pandas as pd\n",
    "     from IPython.display import display\n",
    "     \n",
    "     # create a simple dataset of people\n",
    "     data = {'Name': ['John', 'Anna', 'Peter', 'Linda'],\n",
    "             'Location': ['New York', 'Paris', 'Berlin', 'London'],\n",
    "             'Age' : [24, 13, 53, 33]\n",
    "             }\n",
    "             \n",
    "     data_pandas = pd.DataFrame(data)\n",
    "     \n",
    "     # IPython.display allows \"pretty printing\" of dataframes\n",
    "     display(date_pandas)"
   ]
  },
  {
   "cell_type": "code",
   "execution_count": 86,
   "metadata": {
    "id": "5C9pr5KW4GQe"
   },
   "outputs": [
    {
     "data": {
      "text/html": [
       "<div>\n",
       "<style scoped>\n",
       "    .dataframe tbody tr th:only-of-type {\n",
       "        vertical-align: middle;\n",
       "    }\n",
       "\n",
       "    .dataframe tbody tr th {\n",
       "        vertical-align: top;\n",
       "    }\n",
       "\n",
       "    .dataframe thead th {\n",
       "        text-align: right;\n",
       "    }\n",
       "</style>\n",
       "<table border=\"1\" class=\"dataframe\">\n",
       "  <thead>\n",
       "    <tr style=\"text-align: right;\">\n",
       "      <th></th>\n",
       "      <th>Name</th>\n",
       "      <th>Location</th>\n",
       "      <th>Age</th>\n",
       "    </tr>\n",
       "  </thead>\n",
       "  <tbody>\n",
       "    <tr>\n",
       "      <th>0</th>\n",
       "      <td>John</td>\n",
       "      <td>New York</td>\n",
       "      <td>24</td>\n",
       "    </tr>\n",
       "    <tr>\n",
       "      <th>1</th>\n",
       "      <td>Anna</td>\n",
       "      <td>Paris</td>\n",
       "      <td>13</td>\n",
       "    </tr>\n",
       "    <tr>\n",
       "      <th>2</th>\n",
       "      <td>Peter</td>\n",
       "      <td>Berlin</td>\n",
       "      <td>53</td>\n",
       "    </tr>\n",
       "    <tr>\n",
       "      <th>3</th>\n",
       "      <td>Linda</td>\n",
       "      <td>London</td>\n",
       "      <td>33</td>\n",
       "    </tr>\n",
       "  </tbody>\n",
       "</table>\n",
       "</div>"
      ],
      "text/plain": [
       "    Name  Location  Age\n",
       "0   John  New York   24\n",
       "1   Anna     Paris   13\n",
       "2  Peter    Berlin   53\n",
       "3  Linda    London   33"
      ]
     },
     "metadata": {},
     "output_type": "display_data"
    }
   ],
   "source": [
    "import pandas as pd\n",
    "from IPython.display import display\n",
    "\n",
    "# create a simple dataset of people\n",
    "data = {'Name': ['John', 'Anna', 'Peter', 'Linda'],\n",
    "         'Location': ['New York', 'Paris', 'Berlin', 'London'],\n",
    "         'Age' : [24, 13, 53, 33]\n",
    "         }\n",
    "\n",
    "data_pandas = pd.DataFrame(data)\n",
    "\n",
    "# IPython.display allows \"pretty printing\" of dataframes\n",
    "display(data_pandas)"
   ]
  },
  {
   "cell_type": "markdown",
   "metadata": {
    "id": "hlbFXZ_D4GQi"
   },
   "source": [
    "## Querying a table\n",
    "\n",
    "There are several ways to query a table (like a database). One way is to use an expression as an index.\n",
    "\n",
    "Type the following:\n",
    "\n",
    "    # select all rows that have an age column greater than 30\n",
    "    display(data_pandas[data_pandas.Age > 30])"
   ]
  },
  {
   "cell_type": "code",
   "execution_count": 87,
   "metadata": {
    "id": "JTxoB4hs4GQj"
   },
   "outputs": [
    {
     "data": {
      "text/html": [
       "<div>\n",
       "<style scoped>\n",
       "    .dataframe tbody tr th:only-of-type {\n",
       "        vertical-align: middle;\n",
       "    }\n",
       "\n",
       "    .dataframe tbody tr th {\n",
       "        vertical-align: top;\n",
       "    }\n",
       "\n",
       "    .dataframe thead th {\n",
       "        text-align: right;\n",
       "    }\n",
       "</style>\n",
       "<table border=\"1\" class=\"dataframe\">\n",
       "  <thead>\n",
       "    <tr style=\"text-align: right;\">\n",
       "      <th></th>\n",
       "      <th>Name</th>\n",
       "      <th>Location</th>\n",
       "      <th>Age</th>\n",
       "    </tr>\n",
       "  </thead>\n",
       "  <tbody>\n",
       "    <tr>\n",
       "      <th>2</th>\n",
       "      <td>Peter</td>\n",
       "      <td>Berlin</td>\n",
       "      <td>53</td>\n",
       "    </tr>\n",
       "    <tr>\n",
       "      <th>3</th>\n",
       "      <td>Linda</td>\n",
       "      <td>London</td>\n",
       "      <td>33</td>\n",
       "    </tr>\n",
       "  </tbody>\n",
       "</table>\n",
       "</div>"
      ],
      "text/plain": [
       "    Name Location  Age\n",
       "2  Peter   Berlin   53\n",
       "3  Linda   London   33"
      ]
     },
     "metadata": {},
     "output_type": "display_data"
    }
   ],
   "source": [
    "# select all rows that have an age column greater than 30\n",
    "display(data_pandas[data_pandas.Age > 30])"
   ]
  },
  {
   "cell_type": "code",
   "execution_count": 88,
   "metadata": {
    "id": "N5id3V_o4GQl"
   },
   "outputs": [
    {
     "data": {
      "text/html": [
       "<div>\n",
       "<style scoped>\n",
       "    .dataframe tbody tr th:only-of-type {\n",
       "        vertical-align: middle;\n",
       "    }\n",
       "\n",
       "    .dataframe tbody tr th {\n",
       "        vertical-align: top;\n",
       "    }\n",
       "\n",
       "    .dataframe thead th {\n",
       "        text-align: right;\n",
       "    }\n",
       "</style>\n",
       "<table border=\"1\" class=\"dataframe\">\n",
       "  <thead>\n",
       "    <tr style=\"text-align: right;\">\n",
       "      <th></th>\n",
       "      <th>Name</th>\n",
       "      <th>Location</th>\n",
       "      <th>Age</th>\n",
       "    </tr>\n",
       "  </thead>\n",
       "  <tbody>\n",
       "    <tr>\n",
       "      <th>3</th>\n",
       "      <td>Linda</td>\n",
       "      <td>London</td>\n",
       "      <td>33</td>\n",
       "    </tr>\n",
       "  </tbody>\n",
       "</table>\n",
       "</div>"
      ],
      "text/plain": [
       "    Name Location  Age\n",
       "3  Linda   London   33"
      ]
     },
     "execution_count": 88,
     "metadata": {},
     "output_type": "execute_result"
    }
   ],
   "source": [
    "data_pandas[data_pandas.Location == 'London']"
   ]
  },
  {
   "cell_type": "code",
   "execution_count": 89,
   "metadata": {
    "id": "xjygSSY-4GQo"
   },
   "outputs": [
    {
     "data": {
      "text/html": [
       "<div>\n",
       "<style scoped>\n",
       "    .dataframe tbody tr th:only-of-type {\n",
       "        vertical-align: middle;\n",
       "    }\n",
       "\n",
       "    .dataframe tbody tr th {\n",
       "        vertical-align: top;\n",
       "    }\n",
       "\n",
       "    .dataframe thead th {\n",
       "        text-align: right;\n",
       "    }\n",
       "</style>\n",
       "<table border=\"1\" class=\"dataframe\">\n",
       "  <thead>\n",
       "    <tr style=\"text-align: right;\">\n",
       "      <th></th>\n",
       "      <th>Name</th>\n",
       "      <th>Location</th>\n",
       "      <th>Age</th>\n",
       "    </tr>\n",
       "  </thead>\n",
       "  <tbody>\n",
       "    <tr>\n",
       "      <th>0</th>\n",
       "      <td>John</td>\n",
       "      <td>New York</td>\n",
       "      <td>24</td>\n",
       "    </tr>\n",
       "    <tr>\n",
       "      <th>1</th>\n",
       "      <td>Anna</td>\n",
       "      <td>Paris</td>\n",
       "      <td>13</td>\n",
       "    </tr>\n",
       "  </tbody>\n",
       "</table>\n",
       "</div>"
      ],
      "text/plain": [
       "   Name  Location  Age\n",
       "0  John  New York   24\n",
       "1  Anna     Paris   13"
      ]
     },
     "execution_count": 89,
     "metadata": {},
     "output_type": "execute_result"
    }
   ],
   "source": [
    "data_pandas[:2]"
   ]
  },
  {
   "cell_type": "markdown",
   "metadata": {
    "id": "SXnxhDYIJJbw"
   },
   "source": [
    "# Homework 1 - Python practice \n",
    "Write code to practice/review Python programming concepts covered in this notebook. \n",
    "\n",
    "We will be using many of the concepts in this notebook throughout this course.\n",
    "\n",
    "### Important - For all assignments\n",
    "- Your name should appear in a Markdown cell at the top of the notebook.\n",
    "- Your notebook should be clean and run without error from first cell to last cell.\n",
    "- Your solutions should be your own creation and not copied from a friend.\n",
    "\n",
    "### Submission\n",
    "Submit your completed notebook to LearningHub."
   ]
  },
  {
   "cell_type": "markdown",
   "metadata": {
    "id": "x3bjyHGoLaPy"
   },
   "source": [
    "### **(1) Create a Hash Table (AKA Dictionary) called `word_counts` to store the the following key, value pairs.**\n",
    "- ('cat', 1)\n",
    "- ('politics', 3)\n",
    "- ('AI', 24)\n",
    "- ('startup', 13)\n",
    "- ('array', 0)\n",
    "\n",
    "NOTE: Here the word is the key and the counts (integer) is the value associated with it.\n"
   ]
  },
  {
   "cell_type": "code",
   "execution_count": 91,
   "metadata": {
    "id": "ERzraUUUMM2h"
   },
   "outputs": [
    {
     "name": "stdout",
     "output_type": "stream",
     "text": [
      "{'cat': 1, 'politics': 3, 'AI': 24, 'startup': 13, 'array': 0}\n",
      "3\n"
     ]
    }
   ],
   "source": [
    "# write your code here\n",
    "word_counts = {\n",
    "    'cat': 1,\n",
    "    'politics': 3,\n",
    "    'AI': 24,\n",
    "    'startup': 13,\n",
    "    'array': 0,\n",
    "}\n",
    "\n",
    "# test code (do not modify)\n",
    "print(word_counts)\n",
    "print(word_counts['politics'])"
   ]
  },
  {
   "cell_type": "markdown",
   "metadata": {
    "id": "i93N3C7qJ8Ug"
   },
   "source": [
    "### (2) **Write** ***list comprehension*** **to create an array of all** ***odd*** **integers from 1 to 101 (including 1 and 101).** "
   ]
  },
  {
   "cell_type": "code",
   "execution_count": 95,
   "metadata": {
    "id": "JLS0slDTJI4U"
   },
   "outputs": [
    {
     "name": "stdout",
     "output_type": "stream",
     "text": [
      "[1, 3, 5, 7, 9, 11, 13, 15, 17, 19, 21, 23, 25, 27, 29, 31, 33, 35, 37, 39, 41, 43, 45, 47, 49, 51, 53, 55, 57, 59, 61, 63, 65, 67, 69, 71, 73, 75, 77, 79, 81, 83, 85, 87, 89, 91, 93, 95, 97, 99, 101]\n"
     ]
    }
   ],
   "source": [
    "# write your code here\n",
    "odd_values = [i for i in range(0, 102) if i%2 == 1]\n",
    "\n",
    "print(odd_values)"
   ]
  },
  {
   "cell_type": "markdown",
   "metadata": {
    "id": "CT7eaKcKK7QT"
   },
   "source": [
    "### **(3) Write the function `split(a)` that** ***randomly*** **divides the array `a` into two smaller arrays.**\n",
    "\n",
    "- `split(a)` should return the two smaller arrays.\n",
    "\n",
    "- *Half of the elements* should randomly assigned to one array, half should be randomly assigned to the other.\n",
    "\n",
    "- If the original array has an odd number of elements, one of the two arrays will have one more element than the other.\n",
    "\n",
    "- No element should appear in both arrays. Each element should be randomly assigned to one or the other."
   ]
  },
  {
   "cell_type": "code",
   "execution_count": 96,
   "metadata": {
    "id": "jVCInH3KK4J8"
   },
   "outputs": [],
   "source": [
    "# write your code here\n",
    "import random\n",
    "def split(a):\n",
    "    random.shuffle(a)\n",
    "    return a[:len(a)//2], a[len(a)//2:]\n",
    "\n"
   ]
  },
  {
   "cell_type": "code",
   "execution_count": 99,
   "metadata": {
    "id": "KmzWQIJV4GQr"
   },
   "outputs": [
    {
     "name": "stdout",
     "output_type": "stream",
     "text": [
      "train_set: [7, 8, 10, 2, 1], length=5\n",
      "test_set: [3, 6, 4, 9, 5], length=5\n"
     ]
    }
   ],
   "source": [
    "# Test code (do not modify)\n",
    "a = [1,2,3,4,5,6,7,8,9,10]\n",
    "\n",
    "train_set, test_set = split(a)\n",
    "\n",
    "print('train_set: {}, length={}'.format(train_set, len(train_set)))\n",
    "print('test_set: {}, length={}'.format(test_set, len(test_set)))"
   ]
  },
  {
   "cell_type": "markdown",
   "metadata": {
    "id": "dpiTDNIqUDPw"
   },
   "source": [
    "### **(4) Plot the** ***logistic*** **function from -6 to 6.** \n",
    "\n",
    "$$ f(x) = \\frac{1}{1+e^{-x}} $$ \n",
    "\n",
    "For $e^x$ you may use the numpy function ``exp(x)``.\n",
    "\n"
   ]
  },
  {
   "cell_type": "code",
   "execution_count": 102,
   "metadata": {
    "id": "ZK8SJvu4UMIm"
   },
   "outputs": [
    {
     "data": {
      "text/plain": [
       "[<matplotlib.lines.Line2D at 0x28785bd8670>]"
      ]
     },
     "execution_count": 102,
     "metadata": {},
     "output_type": "execute_result"
    },
    {
     "data": {
      "image/png": "[encoded data removed]",
      "text/plain": [
       "<Figure size 640x480 with 1 Axes>"
      ]
     },
     "metadata": {},
     "output_type": "display_data"
    }
   ],
   "source": [
    "import numpy as np\n",
    "import matplotlib.pyplot as plt\n",
    "\n",
    "#range of x values\n",
    "x = np.linspace(-6, 6)\n",
    "\n",
    "#function\n",
    "y = 1/(1+np.exp(-x))\n",
    "\n",
    "#plot\n",
    "plt.plot(x, y)"
   ]
  },
  {
   "cell_type": "markdown",
   "metadata": {
    "id": "k6AEXdL-V4fO"
   },
   "source": [
    "### **(5) Add random noise to the logistic function plot.**\n",
    "- Plot from -6 to 6 as before\n",
    "- Add random noise to the y values for the logistic function, where the noise values are on the interval [-0.2, 0.2) (i.e. roughly +/- 0.2)"
   ]
  },
  {
   "cell_type": "code",
   "execution_count": 108,
   "metadata": {
    "id": "8ONyjcbtWhQ0"
   },
   "outputs": [
    {
     "data": {
      "text/plain": [
       "[<matplotlib.lines.Line2D at 0x2878713e760>]"
      ]
     },
     "execution_count": 108,
     "metadata": {},
     "output_type": "execute_result"
    },
    {
     "data": {
      "image/png": "[encoded data removed]",
      "text/plain": [
       "<Figure size 640x480 with 1 Axes>"
      ]
     },
     "metadata": {},
     "output_type": "display_data"
    }
   ],
   "source": [
    "noise = np.random.uniform(-0.2, 0.2, size=len(x))\n",
    "y_with_noise = y + noise\n",
    "plt.plot(x,y_with_noise)"
   ]
  }
 ],
 "metadata": {
  "colab": {
   "collapsed_sections": [],
   "name": "L00-Python-and-friends.ipynb",
   "provenance": []
  },
  "kernelspec": {
   "display_name": "Python 3 (ipykernel)",
   "language": "python",
   "name": "python3"
  },
  "language_info": {
   "codemirror_mode": {
    "name": "ipython",
    "version": 3
   },
   "file_extension": ".py",
   "mimetype": "text/x-python",
   "name": "python",
   "nbconvert_exporter": "python",
   "pygments_lexer": "ipython3",
   "version": "3.9.5"
  }
 },
 "nbformat": 4,
 "nbformat_minor": 1
}
