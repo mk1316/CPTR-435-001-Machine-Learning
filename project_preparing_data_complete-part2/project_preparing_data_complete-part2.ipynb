{
 "cells": [
  {
   "cell_type": "markdown",
   "metadata": {
    "id": "YyaCL_9C4nW0"
   },
   "source": [
    "CPTR 435 Machine Learning \n",
    "\n",
    "\n",
    "\n",
    "Name: Kaleb Tsegaye"
   ]
  },
  {
   "cell_type": "markdown",
   "metadata": {
    "id": "7HKPpLpB4nW1"
   },
   "source": [
    "This activity is adapted from the notebook provided for chapter 2 of *Hands-On Machine Learning with Scikit-Learn & TensorFlow* by Geron (2017).\n",
    "\n",
    "For the original notebook and all other code/data from the book, see:\n",
    "https://github.com/ageron/handson-ml\n"
   ]
  },
  {
   "cell_type": "markdown",
   "metadata": {
    "id": "1JAaCJmR4nW3"
   },
   "source": [
    "![\"Is the pipeline literally running from your laptop?\" \"Don't be silly, my laptop disconnects far too often to host a service we rely on. It's running on my phone.\"](https://imgs.xkcd.com/comics/data_pipeline.png)\n",
    "\n",
    "*\"Is the pipeline literally running from your laptop?\" \"Don't be silly, my laptop disconnects far too often to host a service we rely on. It's running on my phone.\"*\n",
    "\n",
    "https://xkcd.com/2054/"
   ]
  },
  {
   "cell_type": "markdown",
   "metadata": {
    "id": "qBplt4qe4nW4"
   },
   "source": [
    "# End-to-end Machine Learning project (Part II: Preparing the data)\n",
    "\n",
    "The purpose of this activity is to understand the workflow of a machine learning project from start to finish. The specific task and ML algorithms we see in this notebook are not as important as understanding the process that we go through to approach the problem. \n",
    "\n",
    "## Problem: Predict house prices\n",
    "\n",
    "Suppose you are a data scientist working for a real estate company. Your task is to predict median house values in Californian districts, given a number of features from these districts.\n",
    "\n",
    "The data set is based on the 1990 California census data. For pupose of the example, the book author (Geron) added a categorical attribute and removed some features. \n",
    "\n",
    "An *input* instance in this problem is a *block group* (refered to as a *district* in the book). A block group has a population of 600 to 3000 people. The *output* is the *median house price* for the *block group* (district)."
   ]
  },
  {
   "cell_type": "markdown",
   "metadata": {
    "id": "UoB-ON1P4nW5"
   },
   "source": [
    "**Note (from Geron)**: You may find little differences between the code outputs in the book and in these Jupyter notebooks: these slight differences are mostly due to the random nature of many training algorithms: although I have tried to make these notebooks' outputs as constant as possible, it is impossible to guarantee that they will produce the exact same output on every platform. Also, some data structures (such as dictionaries) do not preserve the item order. Finally, I fixed a few minor bugs (I added notes next to the concerned cells) which lead to slightly different results, without changing the ideas presented in the book."
   ]
  },
  {
   "cell_type": "markdown",
   "metadata": {
    "id": "MAO5YwX-4nW5"
   },
   "source": [
    "# Setup"
   ]
  },
  {
   "cell_type": "code",
   "execution_count": 1,
   "metadata": {
    "id": "0IBwa2fW4nW6"
   },
   "outputs": [
    {
     "name": "stdout",
     "output_type": "stream",
     "text": [
      "Training samples: (16512,), testing samples: (4128,)\n"
     ]
    }
   ],
   "source": [
    "# To support both python 2 and python 3\n",
    "from __future__ import division, print_function, unicode_literals\n",
    "\n",
    "# Common imports\n",
    "import numpy as np\n",
    "import os\n",
    "\n",
    "# to make this notebook's output stable across runs\n",
    "np.random.seed(42)\n",
    "\n",
    "# To plot pretty figures\n",
    "%matplotlib inline\n",
    "import matplotlib\n",
    "import matplotlib.pyplot as plt\n",
    "plt.rcParams['axes.labelsize'] = 14\n",
    "plt.rcParams['xtick.labelsize'] = 12\n",
    "plt.rcParams['ytick.labelsize'] = 12\n",
    "\n",
    "# Where to save the figures\n",
    "PROJECT_ROOT_DIR = \".\"\n",
    "\n",
    "# Ignore useless warnings (see SciPy issue #5998)\n",
    "import warnings\n",
    "warnings.filterwarnings(action=\"ignore\", module=\"scipy\", message=\"^internal gelsd\")\n",
    "\n",
    "#\n",
    "# load our housing data\n",
    "#\n",
    "from six.moves import urllib\n",
    "\n",
    "# URL for data file\n",
    "DOWNLOAD_URL = \"https://raw.githubusercontent.com/ackleywill/CPTR435/main/housing.csv\"\n",
    "\n",
    "# local path where data file will be stored on computer (or in virtual environment)\n",
    "HOUSING_PATH = os.path.join(\"datasets\", \"housing\")\n",
    "\n",
    "def fetch_housing_data(housing_url=DOWNLOAD_URL, housing_path=HOUSING_PATH):\n",
    "    # create local directories for storing data files (if necessary)\n",
    "    # NOTE: if running this in Colaboratory, these directories will not be\n",
    "    # created on your computer, but in the virtual environment for the notebook\n",
    "    # in colaboratory. It will only be available to this notebook, not others.\n",
    "    if not os.path.isdir(housing_path):\n",
    "        os.makedirs(housing_path)\n",
    "\n",
    "    # build local path for data file\n",
    "    csv_path = os.path.join(housing_path, \"housing.csv\")\n",
    "    # download datafile if not already downloaded\n",
    "    urllib.request.urlretrieve(housing_url, csv_path)\n",
    "\n",
    "fetch_housing_data()\n",
    "\n",
    "# \n",
    "# Read housing data from file and store in pandas dataframe\n",
    "#\n",
    "import pandas as pd\n",
    "\n",
    "def load_housing_data(housing_path=HOUSING_PATH):\n",
    "    csv_path = os.path.join(housing_path, \"housing.csv\")\n",
    "    return pd.read_csv(csv_path)\n",
    "\n",
    "housing = load_housing_data()\n",
    "\n",
    "#\n",
    "# perform stratified sampling\n",
    "#\n",
    "from sklearn.model_selection import StratifiedShuffleSplit\n",
    "\n",
    "# Divide by 1.5 to limit the number of income categories\n",
    "housing[\"income_cat\"] = np.ceil(housing[\"median_income\"] / 1.5)\n",
    "# Label those above 5 as 5\n",
    "housing[\"income_cat\"].where(housing[\"income_cat\"] < 5, 5.0, inplace=True)\n",
    "\n",
    "split = StratifiedShuffleSplit(n_splits=1, test_size=0.2, random_state=42)\n",
    "for train_index, test_index in split.split(housing, housing[\"income_cat\"]):\n",
    "    print('Training samples: {}, testing samples: {}'.format(train_index.shape, test_index.shape))\n",
    "    \n",
    "    strat_train_set = housing.loc[train_index]\n",
    "    strat_test_set = housing.loc[test_index]\n",
    "\n",
    "# we only used income category for a stratified split of the data\n",
    "for set_ in (strat_train_set, strat_test_set):\n",
    "    set_.drop(\"income_cat\", axis=1, inplace=True)"
   ]
  },
  {
   "cell_type": "markdown",
   "metadata": {
    "id": "GfsyADoZ4nXB"
   },
   "source": [
    "# Prepare the data for Machine Learning algorithms\n",
    "\n",
    "After exploring our data set to gain insights, we want to develop an ML system to work with it. However, before we feed our data into an ML system, we often need to prepare and clean the data first. \n",
    "\n",
    "First, we start with a clean copy of our training set. *The one without the combined attributes.* "
   ]
  },
  {
   "cell_type": "code",
   "execution_count": 2,
   "metadata": {
    "id": "uF2NxMyw4nXC"
   },
   "outputs": [
    {
     "data": {
      "text/html": [
       "<div>\n",
       "<style scoped>\n",
       "    .dataframe tbody tr th:only-of-type {\n",
       "        vertical-align: middle;\n",
       "    }\n",
       "\n",
       "    .dataframe tbody tr th {\n",
       "        vertical-align: top;\n",
       "    }\n",
       "\n",
       "    .dataframe thead th {\n",
       "        text-align: right;\n",
       "    }\n",
       "</style>\n",
       "<table border=\"1\" class=\"dataframe\">\n",
       "  <thead>\n",
       "    <tr style=\"text-align: right;\">\n",
       "      <th></th>\n",
       "      <th>longitude</th>\n",
       "      <th>latitude</th>\n",
       "      <th>housing_median_age</th>\n",
       "      <th>total_rooms</th>\n",
       "      <th>total_bedrooms</th>\n",
       "      <th>population</th>\n",
       "      <th>households</th>\n",
       "      <th>median_income</th>\n",
       "      <th>median_house_value</th>\n",
       "      <th>ocean_proximity</th>\n",
       "    </tr>\n",
       "  </thead>\n",
       "  <tbody>\n",
       "    <tr>\n",
       "      <th>12655</th>\n",
       "      <td>-121.46</td>\n",
       "      <td>38.52</td>\n",
       "      <td>29.0</td>\n",
       "      <td>3873.0</td>\n",
       "      <td>797.0</td>\n",
       "      <td>2237.0</td>\n",
       "      <td>706.0</td>\n",
       "      <td>2.1736</td>\n",
       "      <td>72100.0</td>\n",
       "      <td>INLAND</td>\n",
       "    </tr>\n",
       "    <tr>\n",
       "      <th>15502</th>\n",
       "      <td>-117.23</td>\n",
       "      <td>33.09</td>\n",
       "      <td>7.0</td>\n",
       "      <td>5320.0</td>\n",
       "      <td>855.0</td>\n",
       "      <td>2015.0</td>\n",
       "      <td>768.0</td>\n",
       "      <td>6.3373</td>\n",
       "      <td>279600.0</td>\n",
       "      <td>NEAR OCEAN</td>\n",
       "    </tr>\n",
       "    <tr>\n",
       "      <th>2908</th>\n",
       "      <td>-119.04</td>\n",
       "      <td>35.37</td>\n",
       "      <td>44.0</td>\n",
       "      <td>1618.0</td>\n",
       "      <td>310.0</td>\n",
       "      <td>667.0</td>\n",
       "      <td>300.0</td>\n",
       "      <td>2.8750</td>\n",
       "      <td>82700.0</td>\n",
       "      <td>INLAND</td>\n",
       "    </tr>\n",
       "    <tr>\n",
       "      <th>14053</th>\n",
       "      <td>-117.13</td>\n",
       "      <td>32.75</td>\n",
       "      <td>24.0</td>\n",
       "      <td>1877.0</td>\n",
       "      <td>519.0</td>\n",
       "      <td>898.0</td>\n",
       "      <td>483.0</td>\n",
       "      <td>2.2264</td>\n",
       "      <td>112500.0</td>\n",
       "      <td>NEAR OCEAN</td>\n",
       "    </tr>\n",
       "    <tr>\n",
       "      <th>20496</th>\n",
       "      <td>-118.70</td>\n",
       "      <td>34.28</td>\n",
       "      <td>27.0</td>\n",
       "      <td>3536.0</td>\n",
       "      <td>646.0</td>\n",
       "      <td>1837.0</td>\n",
       "      <td>580.0</td>\n",
       "      <td>4.4964</td>\n",
       "      <td>238300.0</td>\n",
       "      <td>&lt;1H OCEAN</td>\n",
       "    </tr>\n",
       "  </tbody>\n",
       "</table>\n",
       "</div>"
      ],
      "text/plain": [
       "       longitude  latitude  housing_median_age  total_rooms  total_bedrooms  \\\n",
       "12655    -121.46     38.52                29.0       3873.0           797.0   \n",
       "15502    -117.23     33.09                 7.0       5320.0           855.0   \n",
       "2908     -119.04     35.37                44.0       1618.0           310.0   \n",
       "14053    -117.13     32.75                24.0       1877.0           519.0   \n",
       "20496    -118.70     34.28                27.0       3536.0           646.0   \n",
       "\n",
       "       population  households  median_income  median_house_value  \\\n",
       "12655      2237.0       706.0         2.1736             72100.0   \n",
       "15502      2015.0       768.0         6.3373            279600.0   \n",
       "2908        667.0       300.0         2.8750             82700.0   \n",
       "14053       898.0       483.0         2.2264            112500.0   \n",
       "20496      1837.0       580.0         4.4964            238300.0   \n",
       "\n",
       "      ocean_proximity  \n",
       "12655          INLAND  \n",
       "15502      NEAR OCEAN  \n",
       "2908           INLAND  \n",
       "14053      NEAR OCEAN  \n",
       "20496       <1H OCEAN  "
      ]
     },
     "execution_count": 2,
     "metadata": {},
     "output_type": "execute_result"
    }
   ],
   "source": [
    "strat_train_set.head()"
   ]
  },
  {
   "cell_type": "markdown",
   "metadata": {
    "id": "InYNeypq4nXG"
   },
   "source": [
    "We will also separate the *input attributes* from the *output value* (median house price). \n",
    "\n",
    "This will make it easier to feed the input attributes into our ML system. It will eliminate the chance that we accidentally use the output value as a feature in the system."
   ]
  },
  {
   "cell_type": "code",
   "execution_count": 3,
   "metadata": {
    "id": "bKrDYrzY4nXH"
   },
   "outputs": [
    {
     "data": {
      "text/html": [
       "<div>\n",
       "<style scoped>\n",
       "    .dataframe tbody tr th:only-of-type {\n",
       "        vertical-align: middle;\n",
       "    }\n",
       "\n",
       "    .dataframe tbody tr th {\n",
       "        vertical-align: top;\n",
       "    }\n",
       "\n",
       "    .dataframe thead th {\n",
       "        text-align: right;\n",
       "    }\n",
       "</style>\n",
       "<table border=\"1\" class=\"dataframe\">\n",
       "  <thead>\n",
       "    <tr style=\"text-align: right;\">\n",
       "      <th></th>\n",
       "      <th>longitude</th>\n",
       "      <th>latitude</th>\n",
       "      <th>housing_median_age</th>\n",
       "      <th>total_rooms</th>\n",
       "      <th>total_bedrooms</th>\n",
       "      <th>population</th>\n",
       "      <th>households</th>\n",
       "      <th>median_income</th>\n",
       "      <th>ocean_proximity</th>\n",
       "    </tr>\n",
       "  </thead>\n",
       "  <tbody>\n",
       "    <tr>\n",
       "      <th>12655</th>\n",
       "      <td>-121.46</td>\n",
       "      <td>38.52</td>\n",
       "      <td>29.0</td>\n",
       "      <td>3873.0</td>\n",
       "      <td>797.0</td>\n",
       "      <td>2237.0</td>\n",
       "      <td>706.0</td>\n",
       "      <td>2.1736</td>\n",
       "      <td>INLAND</td>\n",
       "    </tr>\n",
       "    <tr>\n",
       "      <th>15502</th>\n",
       "      <td>-117.23</td>\n",
       "      <td>33.09</td>\n",
       "      <td>7.0</td>\n",
       "      <td>5320.0</td>\n",
       "      <td>855.0</td>\n",
       "      <td>2015.0</td>\n",
       "      <td>768.0</td>\n",
       "      <td>6.3373</td>\n",
       "      <td>NEAR OCEAN</td>\n",
       "    </tr>\n",
       "    <tr>\n",
       "      <th>2908</th>\n",
       "      <td>-119.04</td>\n",
       "      <td>35.37</td>\n",
       "      <td>44.0</td>\n",
       "      <td>1618.0</td>\n",
       "      <td>310.0</td>\n",
       "      <td>667.0</td>\n",
       "      <td>300.0</td>\n",
       "      <td>2.8750</td>\n",
       "      <td>INLAND</td>\n",
       "    </tr>\n",
       "    <tr>\n",
       "      <th>14053</th>\n",
       "      <td>-117.13</td>\n",
       "      <td>32.75</td>\n",
       "      <td>24.0</td>\n",
       "      <td>1877.0</td>\n",
       "      <td>519.0</td>\n",
       "      <td>898.0</td>\n",
       "      <td>483.0</td>\n",
       "      <td>2.2264</td>\n",
       "      <td>NEAR OCEAN</td>\n",
       "    </tr>\n",
       "    <tr>\n",
       "      <th>20496</th>\n",
       "      <td>-118.70</td>\n",
       "      <td>34.28</td>\n",
       "      <td>27.0</td>\n",
       "      <td>3536.0</td>\n",
       "      <td>646.0</td>\n",
       "      <td>1837.0</td>\n",
       "      <td>580.0</td>\n",
       "      <td>4.4964</td>\n",
       "      <td>&lt;1H OCEAN</td>\n",
       "    </tr>\n",
       "  </tbody>\n",
       "</table>\n",
       "</div>"
      ],
      "text/plain": [
       "       longitude  latitude  housing_median_age  total_rooms  total_bedrooms  \\\n",
       "12655    -121.46     38.52                29.0       3873.0           797.0   \n",
       "15502    -117.23     33.09                 7.0       5320.0           855.0   \n",
       "2908     -119.04     35.37                44.0       1618.0           310.0   \n",
       "14053    -117.13     32.75                24.0       1877.0           519.0   \n",
       "20496    -118.70     34.28                27.0       3536.0           646.0   \n",
       "\n",
       "       population  households  median_income ocean_proximity  \n",
       "12655      2237.0       706.0         2.1736          INLAND  \n",
       "15502      2015.0       768.0         6.3373      NEAR OCEAN  \n",
       "2908        667.0       300.0         2.8750          INLAND  \n",
       "14053       898.0       483.0         2.2264      NEAR OCEAN  \n",
       "20496      1837.0       580.0         4.4964       <1H OCEAN  "
      ]
     },
     "execution_count": 3,
     "metadata": {},
     "output_type": "execute_result"
    }
   ],
   "source": [
    "housing = strat_train_set.drop(\"median_house_value\", axis=1) # drop labels for training set\n",
    "housing_labels = strat_train_set[\"median_house_value\"].copy()\n",
    "\n",
    "housing.head()"
   ]
  },
  {
   "cell_type": "code",
   "execution_count": 4,
   "metadata": {
    "id": "iCZ3KD-h4nXL"
   },
   "outputs": [
    {
     "data": {
      "text/plain": [
       "12655     72100.0\n",
       "15502    279600.0\n",
       "2908      82700.0\n",
       "14053    112500.0\n",
       "20496    238300.0\n",
       "Name: median_house_value, dtype: float64"
      ]
     },
     "execution_count": 4,
     "metadata": {},
     "output_type": "execute_result"
    }
   ],
   "source": [
    "housing_labels.head()"
   ]
  },
  {
   "cell_type": "markdown",
   "metadata": {
    "id": "J__BcHYe4nXP"
   },
   "source": [
    "## Data cleaning\n",
    "\n",
    "With some data sets there are instances that are missing or have corrupt attributes. *Data cleaning* is the process of \"fixing\" the data set by correcting or removing these incomplete/erroneous instances.\n",
    "\n",
    "For example, if we examine the data set, we will discover that \"total bedrooms\" has some missing values. There are several ways we can correct for this:\n",
    "1. Remove the districts with missing \"total bedrooms\"\n",
    "2. Remove the \"total bedrooms\" attribute from all districts\n",
    "3. Set the missing value to some default value (zero, the average, the median, etc)"
   ]
  },
  {
   "cell_type": "markdown",
   "metadata": {
    "id": "DZ6YU-JJ4nXQ"
   },
   "source": [
    "### Option 1: Remove districts with missing \"total bedrooms\""
   ]
  },
  {
   "cell_type": "code",
   "execution_count": 5,
   "metadata": {
    "id": "suWpWhaa4nXR"
   },
   "outputs": [
    {
     "data": {
      "text/html": [
       "<div>\n",
       "<style scoped>\n",
       "    .dataframe tbody tr th:only-of-type {\n",
       "        vertical-align: middle;\n",
       "    }\n",
       "\n",
       "    .dataframe tbody tr th {\n",
       "        vertical-align: top;\n",
       "    }\n",
       "\n",
       "    .dataframe thead th {\n",
       "        text-align: right;\n",
       "    }\n",
       "</style>\n",
       "<table border=\"1\" class=\"dataframe\">\n",
       "  <thead>\n",
       "    <tr style=\"text-align: right;\">\n",
       "      <th></th>\n",
       "      <th>longitude</th>\n",
       "      <th>latitude</th>\n",
       "      <th>housing_median_age</th>\n",
       "      <th>total_rooms</th>\n",
       "      <th>total_bedrooms</th>\n",
       "      <th>population</th>\n",
       "      <th>households</th>\n",
       "      <th>median_income</th>\n",
       "      <th>ocean_proximity</th>\n",
       "    </tr>\n",
       "  </thead>\n",
       "  <tbody>\n",
       "    <tr>\n",
       "      <th>1606</th>\n",
       "      <td>-122.08</td>\n",
       "      <td>37.88</td>\n",
       "      <td>26.0</td>\n",
       "      <td>2947.0</td>\n",
       "      <td>NaN</td>\n",
       "      <td>825.0</td>\n",
       "      <td>626.0</td>\n",
       "      <td>2.9330</td>\n",
       "      <td>NEAR BAY</td>\n",
       "    </tr>\n",
       "    <tr>\n",
       "      <th>10915</th>\n",
       "      <td>-117.87</td>\n",
       "      <td>33.73</td>\n",
       "      <td>45.0</td>\n",
       "      <td>2264.0</td>\n",
       "      <td>NaN</td>\n",
       "      <td>1970.0</td>\n",
       "      <td>499.0</td>\n",
       "      <td>3.4193</td>\n",
       "      <td>&lt;1H OCEAN</td>\n",
       "    </tr>\n",
       "    <tr>\n",
       "      <th>19150</th>\n",
       "      <td>-122.70</td>\n",
       "      <td>38.35</td>\n",
       "      <td>14.0</td>\n",
       "      <td>2313.0</td>\n",
       "      <td>NaN</td>\n",
       "      <td>954.0</td>\n",
       "      <td>397.0</td>\n",
       "      <td>3.7813</td>\n",
       "      <td>&lt;1H OCEAN</td>\n",
       "    </tr>\n",
       "    <tr>\n",
       "      <th>4186</th>\n",
       "      <td>-118.23</td>\n",
       "      <td>34.13</td>\n",
       "      <td>48.0</td>\n",
       "      <td>1308.0</td>\n",
       "      <td>NaN</td>\n",
       "      <td>835.0</td>\n",
       "      <td>294.0</td>\n",
       "      <td>4.2891</td>\n",
       "      <td>&lt;1H OCEAN</td>\n",
       "    </tr>\n",
       "    <tr>\n",
       "      <th>16885</th>\n",
       "      <td>-122.40</td>\n",
       "      <td>37.58</td>\n",
       "      <td>26.0</td>\n",
       "      <td>3281.0</td>\n",
       "      <td>NaN</td>\n",
       "      <td>1145.0</td>\n",
       "      <td>480.0</td>\n",
       "      <td>6.3580</td>\n",
       "      <td>NEAR OCEAN</td>\n",
       "    </tr>\n",
       "  </tbody>\n",
       "</table>\n",
       "</div>"
      ],
      "text/plain": [
       "       longitude  latitude  housing_median_age  total_rooms  total_bedrooms  \\\n",
       "1606     -122.08     37.88                26.0       2947.0             NaN   \n",
       "10915    -117.87     33.73                45.0       2264.0             NaN   \n",
       "19150    -122.70     38.35                14.0       2313.0             NaN   \n",
       "4186     -118.23     34.13                48.0       1308.0             NaN   \n",
       "16885    -122.40     37.58                26.0       3281.0             NaN   \n",
       "\n",
       "       population  households  median_income ocean_proximity  \n",
       "1606        825.0       626.0         2.9330        NEAR BAY  \n",
       "10915      1970.0       499.0         3.4193       <1H OCEAN  \n",
       "19150       954.0       397.0         3.7813       <1H OCEAN  \n",
       "4186        835.0       294.0         4.2891       <1H OCEAN  \n",
       "16885      1145.0       480.0         6.3580      NEAR OCEAN  "
      ]
     },
     "execution_count": 5,
     "metadata": {},
     "output_type": "execute_result"
    }
   ],
   "source": [
    "sample_incomplete_rows = housing[housing.isnull().any(axis=1)].head()\n",
    "sample_incomplete_rows"
   ]
  },
  {
   "cell_type": "code",
   "execution_count": 6,
   "metadata": {
    "id": "GmhpoVAW4nXW"
   },
   "outputs": [
    {
     "data": {
      "text/html": [
       "<div>\n",
       "<style scoped>\n",
       "    .dataframe tbody tr th:only-of-type {\n",
       "        vertical-align: middle;\n",
       "    }\n",
       "\n",
       "    .dataframe tbody tr th {\n",
       "        vertical-align: top;\n",
       "    }\n",
       "\n",
       "    .dataframe thead th {\n",
       "        text-align: right;\n",
       "    }\n",
       "</style>\n",
       "<table border=\"1\" class=\"dataframe\">\n",
       "  <thead>\n",
       "    <tr style=\"text-align: right;\">\n",
       "      <th></th>\n",
       "      <th>longitude</th>\n",
       "      <th>latitude</th>\n",
       "      <th>housing_median_age</th>\n",
       "      <th>total_rooms</th>\n",
       "      <th>total_bedrooms</th>\n",
       "      <th>population</th>\n",
       "      <th>households</th>\n",
       "      <th>median_income</th>\n",
       "      <th>ocean_proximity</th>\n",
       "    </tr>\n",
       "  </thead>\n",
       "  <tbody>\n",
       "  </tbody>\n",
       "</table>\n",
       "</div>"
      ],
      "text/plain": [
       "Empty DataFrame\n",
       "Columns: [longitude, latitude, housing_median_age, total_rooms, total_bedrooms, population, households, median_income, ocean_proximity]\n",
       "Index: []"
      ]
     },
     "execution_count": 6,
     "metadata": {},
     "output_type": "execute_result"
    }
   ],
   "source": [
    "sample_incomplete_rows.dropna(subset=[\"total_bedrooms\"])    # option 1"
   ]
  },
  {
   "cell_type": "markdown",
   "metadata": {
    "id": "mvnoaXnx4nXa"
   },
   "source": [
    "Note: that the *drop* operation returns the modified dataframe. It does not modify the original dataframe. \n",
    "\n",
    "Also, this method does not remove the `total_bedrooms` column. It only removes the rows with no entry for it."
   ]
  },
  {
   "cell_type": "code",
   "execution_count": 7,
   "metadata": {
    "id": "HOQZIy-M4nXb"
   },
   "outputs": [
    {
     "data": {
      "text/html": [
       "<div>\n",
       "<style scoped>\n",
       "    .dataframe tbody tr th:only-of-type {\n",
       "        vertical-align: middle;\n",
       "    }\n",
       "\n",
       "    .dataframe tbody tr th {\n",
       "        vertical-align: top;\n",
       "    }\n",
       "\n",
       "    .dataframe thead th {\n",
       "        text-align: right;\n",
       "    }\n",
       "</style>\n",
       "<table border=\"1\" class=\"dataframe\">\n",
       "  <thead>\n",
       "    <tr style=\"text-align: right;\">\n",
       "      <th></th>\n",
       "      <th>longitude</th>\n",
       "      <th>latitude</th>\n",
       "      <th>housing_median_age</th>\n",
       "      <th>total_rooms</th>\n",
       "      <th>total_bedrooms</th>\n",
       "      <th>population</th>\n",
       "      <th>households</th>\n",
       "      <th>median_income</th>\n",
       "      <th>ocean_proximity</th>\n",
       "    </tr>\n",
       "  </thead>\n",
       "  <tbody>\n",
       "    <tr>\n",
       "      <th>1606</th>\n",
       "      <td>-122.08</td>\n",
       "      <td>37.88</td>\n",
       "      <td>26.0</td>\n",
       "      <td>2947.0</td>\n",
       "      <td>NaN</td>\n",
       "      <td>825.0</td>\n",
       "      <td>626.0</td>\n",
       "      <td>2.9330</td>\n",
       "      <td>NEAR BAY</td>\n",
       "    </tr>\n",
       "    <tr>\n",
       "      <th>10915</th>\n",
       "      <td>-117.87</td>\n",
       "      <td>33.73</td>\n",
       "      <td>45.0</td>\n",
       "      <td>2264.0</td>\n",
       "      <td>NaN</td>\n",
       "      <td>1970.0</td>\n",
       "      <td>499.0</td>\n",
       "      <td>3.4193</td>\n",
       "      <td>&lt;1H OCEAN</td>\n",
       "    </tr>\n",
       "    <tr>\n",
       "      <th>19150</th>\n",
       "      <td>-122.70</td>\n",
       "      <td>38.35</td>\n",
       "      <td>14.0</td>\n",
       "      <td>2313.0</td>\n",
       "      <td>NaN</td>\n",
       "      <td>954.0</td>\n",
       "      <td>397.0</td>\n",
       "      <td>3.7813</td>\n",
       "      <td>&lt;1H OCEAN</td>\n",
       "    </tr>\n",
       "    <tr>\n",
       "      <th>4186</th>\n",
       "      <td>-118.23</td>\n",
       "      <td>34.13</td>\n",
       "      <td>48.0</td>\n",
       "      <td>1308.0</td>\n",
       "      <td>NaN</td>\n",
       "      <td>835.0</td>\n",
       "      <td>294.0</td>\n",
       "      <td>4.2891</td>\n",
       "      <td>&lt;1H OCEAN</td>\n",
       "    </tr>\n",
       "    <tr>\n",
       "      <th>16885</th>\n",
       "      <td>-122.40</td>\n",
       "      <td>37.58</td>\n",
       "      <td>26.0</td>\n",
       "      <td>3281.0</td>\n",
       "      <td>NaN</td>\n",
       "      <td>1145.0</td>\n",
       "      <td>480.0</td>\n",
       "      <td>6.3580</td>\n",
       "      <td>NEAR OCEAN</td>\n",
       "    </tr>\n",
       "  </tbody>\n",
       "</table>\n",
       "</div>"
      ],
      "text/plain": [
       "       longitude  latitude  housing_median_age  total_rooms  total_bedrooms  \\\n",
       "1606     -122.08     37.88                26.0       2947.0             NaN   \n",
       "10915    -117.87     33.73                45.0       2264.0             NaN   \n",
       "19150    -122.70     38.35                14.0       2313.0             NaN   \n",
       "4186     -118.23     34.13                48.0       1308.0             NaN   \n",
       "16885    -122.40     37.58                26.0       3281.0             NaN   \n",
       "\n",
       "       population  households  median_income ocean_proximity  \n",
       "1606        825.0       626.0         2.9330        NEAR BAY  \n",
       "10915      1970.0       499.0         3.4193       <1H OCEAN  \n",
       "19150       954.0       397.0         3.7813       <1H OCEAN  \n",
       "4186        835.0       294.0         4.2891       <1H OCEAN  \n",
       "16885      1145.0       480.0         6.3580      NEAR OCEAN  "
      ]
     },
     "execution_count": 7,
     "metadata": {},
     "output_type": "execute_result"
    }
   ],
   "source": [
    "sample_incomplete_rows"
   ]
  },
  {
   "cell_type": "markdown",
   "metadata": {
    "id": "JZnGbatL4nXf"
   },
   "source": [
    "### 2. Remove the \"total bedrooms\" attribute from all districts"
   ]
  },
  {
   "cell_type": "markdown",
   "metadata": {
    "id": "GMBodVgD4nXg"
   },
   "source": [
    "The following will remove the `total_bedrooms` column altogether."
   ]
  },
  {
   "cell_type": "code",
   "execution_count": 8,
   "metadata": {
    "id": "iFG8-LQx4nXh"
   },
   "outputs": [
    {
     "data": {
      "text/html": [
       "<div>\n",
       "<style scoped>\n",
       "    .dataframe tbody tr th:only-of-type {\n",
       "        vertical-align: middle;\n",
       "    }\n",
       "\n",
       "    .dataframe tbody tr th {\n",
       "        vertical-align: top;\n",
       "    }\n",
       "\n",
       "    .dataframe thead th {\n",
       "        text-align: right;\n",
       "    }\n",
       "</style>\n",
       "<table border=\"1\" class=\"dataframe\">\n",
       "  <thead>\n",
       "    <tr style=\"text-align: right;\">\n",
       "      <th></th>\n",
       "      <th>longitude</th>\n",
       "      <th>latitude</th>\n",
       "      <th>housing_median_age</th>\n",
       "      <th>total_rooms</th>\n",
       "      <th>population</th>\n",
       "      <th>households</th>\n",
       "      <th>median_income</th>\n",
       "      <th>ocean_proximity</th>\n",
       "    </tr>\n",
       "  </thead>\n",
       "  <tbody>\n",
       "    <tr>\n",
       "      <th>1606</th>\n",
       "      <td>-122.08</td>\n",
       "      <td>37.88</td>\n",
       "      <td>26.0</td>\n",
       "      <td>2947.0</td>\n",
       "      <td>825.0</td>\n",
       "      <td>626.0</td>\n",
       "      <td>2.9330</td>\n",
       "      <td>NEAR BAY</td>\n",
       "    </tr>\n",
       "    <tr>\n",
       "      <th>10915</th>\n",
       "      <td>-117.87</td>\n",
       "      <td>33.73</td>\n",
       "      <td>45.0</td>\n",
       "      <td>2264.0</td>\n",
       "      <td>1970.0</td>\n",
       "      <td>499.0</td>\n",
       "      <td>3.4193</td>\n",
       "      <td>&lt;1H OCEAN</td>\n",
       "    </tr>\n",
       "    <tr>\n",
       "      <th>19150</th>\n",
       "      <td>-122.70</td>\n",
       "      <td>38.35</td>\n",
       "      <td>14.0</td>\n",
       "      <td>2313.0</td>\n",
       "      <td>954.0</td>\n",
       "      <td>397.0</td>\n",
       "      <td>3.7813</td>\n",
       "      <td>&lt;1H OCEAN</td>\n",
       "    </tr>\n",
       "    <tr>\n",
       "      <th>4186</th>\n",
       "      <td>-118.23</td>\n",
       "      <td>34.13</td>\n",
       "      <td>48.0</td>\n",
       "      <td>1308.0</td>\n",
       "      <td>835.0</td>\n",
       "      <td>294.0</td>\n",
       "      <td>4.2891</td>\n",
       "      <td>&lt;1H OCEAN</td>\n",
       "    </tr>\n",
       "    <tr>\n",
       "      <th>16885</th>\n",
       "      <td>-122.40</td>\n",
       "      <td>37.58</td>\n",
       "      <td>26.0</td>\n",
       "      <td>3281.0</td>\n",
       "      <td>1145.0</td>\n",
       "      <td>480.0</td>\n",
       "      <td>6.3580</td>\n",
       "      <td>NEAR OCEAN</td>\n",
       "    </tr>\n",
       "  </tbody>\n",
       "</table>\n",
       "</div>"
      ],
      "text/plain": [
       "       longitude  latitude  housing_median_age  total_rooms  population  \\\n",
       "1606     -122.08     37.88                26.0       2947.0       825.0   \n",
       "10915    -117.87     33.73                45.0       2264.0      1970.0   \n",
       "19150    -122.70     38.35                14.0       2313.0       954.0   \n",
       "4186     -118.23     34.13                48.0       1308.0       835.0   \n",
       "16885    -122.40     37.58                26.0       3281.0      1145.0   \n",
       "\n",
       "       households  median_income ocean_proximity  \n",
       "1606        626.0         2.9330        NEAR BAY  \n",
       "10915       499.0         3.4193       <1H OCEAN  \n",
       "19150       397.0         3.7813       <1H OCEAN  \n",
       "4186        294.0         4.2891       <1H OCEAN  \n",
       "16885       480.0         6.3580      NEAR OCEAN  "
      ]
     },
     "execution_count": 8,
     "metadata": {},
     "output_type": "execute_result"
    }
   ],
   "source": [
    "sample_incomplete_rows.drop(\"total_bedrooms\", axis=1)       # option 2"
   ]
  },
  {
   "cell_type": "markdown",
   "metadata": {
    "id": "z4NEh7Hr4nXk"
   },
   "source": [
    "### 3. Set the missing value to some default value (zero, the average, the median, etc)"
   ]
  },
  {
   "cell_type": "code",
   "execution_count": 9,
   "metadata": {
    "id": "nKiMkjiI4nXl"
   },
   "outputs": [
    {
     "name": "stdout",
     "output_type": "stream",
     "text": [
      "median total bedrooms: 433.0\n"
     ]
    },
    {
     "data": {
      "text/html": [
       "<div>\n",
       "<style scoped>\n",
       "    .dataframe tbody tr th:only-of-type {\n",
       "        vertical-align: middle;\n",
       "    }\n",
       "\n",
       "    .dataframe tbody tr th {\n",
       "        vertical-align: top;\n",
       "    }\n",
       "\n",
       "    .dataframe thead th {\n",
       "        text-align: right;\n",
       "    }\n",
       "</style>\n",
       "<table border=\"1\" class=\"dataframe\">\n",
       "  <thead>\n",
       "    <tr style=\"text-align: right;\">\n",
       "      <th></th>\n",
       "      <th>longitude</th>\n",
       "      <th>latitude</th>\n",
       "      <th>housing_median_age</th>\n",
       "      <th>total_rooms</th>\n",
       "      <th>total_bedrooms</th>\n",
       "      <th>population</th>\n",
       "      <th>households</th>\n",
       "      <th>median_income</th>\n",
       "      <th>ocean_proximity</th>\n",
       "    </tr>\n",
       "  </thead>\n",
       "  <tbody>\n",
       "    <tr>\n",
       "      <th>1606</th>\n",
       "      <td>-122.08</td>\n",
       "      <td>37.88</td>\n",
       "      <td>26.0</td>\n",
       "      <td>2947.0</td>\n",
       "      <td>433.0</td>\n",
       "      <td>825.0</td>\n",
       "      <td>626.0</td>\n",
       "      <td>2.9330</td>\n",
       "      <td>NEAR BAY</td>\n",
       "    </tr>\n",
       "    <tr>\n",
       "      <th>10915</th>\n",
       "      <td>-117.87</td>\n",
       "      <td>33.73</td>\n",
       "      <td>45.0</td>\n",
       "      <td>2264.0</td>\n",
       "      <td>433.0</td>\n",
       "      <td>1970.0</td>\n",
       "      <td>499.0</td>\n",
       "      <td>3.4193</td>\n",
       "      <td>&lt;1H OCEAN</td>\n",
       "    </tr>\n",
       "    <tr>\n",
       "      <th>19150</th>\n",
       "      <td>-122.70</td>\n",
       "      <td>38.35</td>\n",
       "      <td>14.0</td>\n",
       "      <td>2313.0</td>\n",
       "      <td>433.0</td>\n",
       "      <td>954.0</td>\n",
       "      <td>397.0</td>\n",
       "      <td>3.7813</td>\n",
       "      <td>&lt;1H OCEAN</td>\n",
       "    </tr>\n",
       "    <tr>\n",
       "      <th>4186</th>\n",
       "      <td>-118.23</td>\n",
       "      <td>34.13</td>\n",
       "      <td>48.0</td>\n",
       "      <td>1308.0</td>\n",
       "      <td>433.0</td>\n",
       "      <td>835.0</td>\n",
       "      <td>294.0</td>\n",
       "      <td>4.2891</td>\n",
       "      <td>&lt;1H OCEAN</td>\n",
       "    </tr>\n",
       "    <tr>\n",
       "      <th>16885</th>\n",
       "      <td>-122.40</td>\n",
       "      <td>37.58</td>\n",
       "      <td>26.0</td>\n",
       "      <td>3281.0</td>\n",
       "      <td>433.0</td>\n",
       "      <td>1145.0</td>\n",
       "      <td>480.0</td>\n",
       "      <td>6.3580</td>\n",
       "      <td>NEAR OCEAN</td>\n",
       "    </tr>\n",
       "  </tbody>\n",
       "</table>\n",
       "</div>"
      ],
      "text/plain": [
       "       longitude  latitude  housing_median_age  total_rooms  total_bedrooms  \\\n",
       "1606     -122.08     37.88                26.0       2947.0           433.0   \n",
       "10915    -117.87     33.73                45.0       2264.0           433.0   \n",
       "19150    -122.70     38.35                14.0       2313.0           433.0   \n",
       "4186     -118.23     34.13                48.0       1308.0           433.0   \n",
       "16885    -122.40     37.58                26.0       3281.0           433.0   \n",
       "\n",
       "       population  households  median_income ocean_proximity  \n",
       "1606        825.0       626.0         2.9330        NEAR BAY  \n",
       "10915      1970.0       499.0         3.4193       <1H OCEAN  \n",
       "19150       954.0       397.0         3.7813       <1H OCEAN  \n",
       "4186        835.0       294.0         4.2891       <1H OCEAN  \n",
       "16885      1145.0       480.0         6.3580      NEAR OCEAN  "
      ]
     },
     "execution_count": 9,
     "metadata": {},
     "output_type": "execute_result"
    }
   ],
   "source": [
    "median = housing[\"total_bedrooms\"].median()\n",
    "print('median total bedrooms: {}'.format(median))\n",
    "\n",
    "sample_incomplete_rows[\"total_bedrooms\"].fillna(median, inplace=True) # option 3\n",
    "sample_incomplete_rows"
   ]
  },
  {
   "cell_type": "markdown",
   "metadata": {
    "id": "jzXdsMfk4nXp"
   },
   "source": [
    "### ``Imputer`` class\n",
    "Scikit-Learn provides the class ``SimpleImputer`` that will automatically fix missing values in a data set.\n",
    "\n",
    "\n"
   ]
  },
  {
   "cell_type": "code",
   "execution_count": 10,
   "metadata": {
    "id": "Knct_bAZ4nXp"
   },
   "outputs": [],
   "source": [
    "from sklearn.impute import SimpleImputer\n",
    "\n",
    "imputer = SimpleImputer(strategy=\"median\")"
   ]
  },
  {
   "cell_type": "markdown",
   "metadata": {
    "id": "AVbAaVSM4nXs"
   },
   "source": [
    "This object will replace missing attributes with the median of that attribute. It will do this to all attributes in the set, not just one particular attribute such as \"total bedrooms\".\n",
    "\n",
    "Since the median may only be calculated for *numeric* attributes, we need to remove the \"ocean proximity\" attribute (a text attribute)."
   ]
  },
  {
   "cell_type": "code",
   "execution_count": 11,
   "metadata": {
    "id": "nfHSJ4-c4nXu"
   },
   "outputs": [],
   "source": [
    "housing_num = housing.drop('ocean_proximity', axis=1)\n",
    "# alternatively: housing_num = housing.select_dtypes(include=[np.number])"
   ]
  },
  {
   "cell_type": "markdown",
   "metadata": {
    "id": "N_FskFq34nXz"
   },
   "source": [
    "Calculate the median for each attribute and store result in ``statistics_``."
   ]
  },
  {
   "cell_type": "code",
   "execution_count": 12,
   "metadata": {
    "id": "HOuTMTaC4nXz"
   },
   "outputs": [
    {
     "data": {
      "text/html": [
       "<style>#sk-container-id-1 {color: black;}#sk-container-id-1 pre{padding: 0;}#sk-container-id-1 div.sk-toggleable {background-color: white;}#sk-container-id-1 label.sk-toggleable__label {cursor: pointer;display: block;width: 100%;margin-bottom: 0;padding: 0.3em;box-sizing: border-box;text-align: center;}#sk-container-id-1 label.sk-toggleable__label-arrow:before {content: \"▸\";float: left;margin-right: 0.25em;color: #696969;}#sk-container-id-1 label.sk-toggleable__label-arrow:hover:before {color: black;}#sk-container-id-1 div.sk-estimator:hover label.sk-toggleable__label-arrow:before {color: black;}#sk-container-id-1 div.sk-toggleable__content {max-height: 0;max-width: 0;overflow: hidden;text-align: left;background-color: #f0f8ff;}#sk-container-id-1 div.sk-toggleable__content pre {margin: 0.2em;color: black;border-radius: 0.25em;background-color: #f0f8ff;}#sk-container-id-1 input.sk-toggleable__control:checked~div.sk-toggleable__content {max-height: 200px;max-width: 100%;overflow: auto;}#sk-container-id-1 input.sk-toggleable__control:checked~label.sk-toggleable__label-arrow:before {content: \"▾\";}#sk-container-id-1 div.sk-estimator input.sk-toggleable__control:checked~label.sk-toggleable__label {background-color: #d4ebff;}#sk-container-id-1 div.sk-label input.sk-toggleable__control:checked~label.sk-toggleable__label {background-color: #d4ebff;}#sk-container-id-1 input.sk-hidden--visually {border: 0;clip: rect(1px 1px 1px 1px);clip: rect(1px, 1px, 1px, 1px);height: 1px;margin: -1px;overflow: hidden;padding: 0;position: absolute;width: 1px;}#sk-container-id-1 div.sk-estimator {font-family: monospace;background-color: #f0f8ff;border: 1px dotted black;border-radius: 0.25em;box-sizing: border-box;margin-bottom: 0.5em;}#sk-container-id-1 div.sk-estimator:hover {background-color: #d4ebff;}#sk-container-id-1 div.sk-parallel-item::after {content: \"\";width: 100%;border-bottom: 1px solid gray;flex-grow: 1;}#sk-container-id-1 div.sk-label:hover label.sk-toggleable__label {background-color: #d4ebff;}#sk-container-id-1 div.sk-serial::before {content: \"\";position: absolute;border-left: 1px solid gray;box-sizing: border-box;top: 0;bottom: 0;left: 50%;z-index: 0;}#sk-container-id-1 div.sk-serial {display: flex;flex-direction: column;align-items: center;background-color: white;padding-right: 0.2em;padding-left: 0.2em;position: relative;}#sk-container-id-1 div.sk-item {position: relative;z-index: 1;}#sk-container-id-1 div.sk-parallel {display: flex;align-items: stretch;justify-content: center;background-color: white;position: relative;}#sk-container-id-1 div.sk-item::before, #sk-container-id-1 div.sk-parallel-item::before {content: \"\";position: absolute;border-left: 1px solid gray;box-sizing: border-box;top: 0;bottom: 0;left: 50%;z-index: -1;}#sk-container-id-1 div.sk-parallel-item {display: flex;flex-direction: column;z-index: 1;position: relative;background-color: white;}#sk-container-id-1 div.sk-parallel-item:first-child::after {align-self: flex-end;width: 50%;}#sk-container-id-1 div.sk-parallel-item:last-child::after {align-self: flex-start;width: 50%;}#sk-container-id-1 div.sk-parallel-item:only-child::after {width: 0;}#sk-container-id-1 div.sk-dashed-wrapped {border: 1px dashed gray;margin: 0 0.4em 0.5em 0.4em;box-sizing: border-box;padding-bottom: 0.4em;background-color: white;}#sk-container-id-1 div.sk-label label {font-family: monospace;font-weight: bold;display: inline-block;line-height: 1.2em;}#sk-container-id-1 div.sk-label-container {text-align: center;}#sk-container-id-1 div.sk-container {/* jupyter's `normalize.less` sets `[hidden] { display: none; }` but bootstrap.min.css set `[hidden] { display: none !important; }` so we also need the `!important` here to be able to override the default hidden behavior on the sphinx rendered scikit-learn.org. See: https://github.com/scikit-learn/scikit-learn/issues/21755 */display: inline-block !important;position: relative;}#sk-container-id-1 div.sk-text-repr-fallback {display: none;}</style><div id=\"sk-container-id-1\" class=\"sk-top-container\"><div class=\"sk-text-repr-fallback\"><pre>SimpleImputer(strategy=&#x27;median&#x27;)</pre><b>In a Jupyter environment, please rerun this cell to show the HTML representation or trust the notebook. <br />On GitHub, the HTML representation is unable to render, please try loading this page with nbviewer.org.</b></div><div class=\"sk-container\" hidden><div class=\"sk-item\"><div class=\"sk-estimator sk-toggleable\"><input class=\"sk-toggleable__control sk-hidden--visually\" id=\"sk-estimator-id-1\" type=\"checkbox\" checked><label for=\"sk-estimator-id-1\" class=\"sk-toggleable__label sk-toggleable__label-arrow\">SimpleImputer</label><div class=\"sk-toggleable__content\"><pre>SimpleImputer(strategy=&#x27;median&#x27;)</pre></div></div></div></div></div>"
      ],
      "text/plain": [
       "SimpleImputer(strategy='median')"
      ]
     },
     "execution_count": 12,
     "metadata": {},
     "output_type": "execute_result"
    }
   ],
   "source": [
    "imputer.fit(housing_num)"
   ]
  },
  {
   "cell_type": "code",
   "execution_count": 13,
   "metadata": {
    "id": "RPxenvrs4nX4"
   },
   "outputs": [
    {
     "data": {
      "text/plain": [
       "array([-118.51   ,   34.26   ,   29.     , 2119.     ,  433.     ,\n",
       "       1164.     ,  408.     ,    3.54155])"
      ]
     },
     "execution_count": 13,
     "metadata": {},
     "output_type": "execute_result"
    }
   ],
   "source": [
    "imputer.statistics_"
   ]
  },
  {
   "cell_type": "markdown",
   "metadata": {
    "id": "ZTjLxLmF4nX9"
   },
   "source": [
    "Check that this is the same as manually computing the median of each attribute:"
   ]
  },
  {
   "cell_type": "code",
   "execution_count": 14,
   "metadata": {
    "id": "NX-6lIIO4nYB"
   },
   "outputs": [
    {
     "data": {
      "text/plain": [
       "array([-118.51   ,   34.26   ,   29.     , 2119.     ,  433.     ,\n",
       "       1164.     ,  408.     ,    3.54155])"
      ]
     },
     "execution_count": 14,
     "metadata": {},
     "output_type": "execute_result"
    }
   ],
   "source": [
    "housing_num.median().values"
   ]
  },
  {
   "cell_type": "markdown",
   "metadata": {
    "id": "s81K8lU94nYF"
   },
   "source": [
    "Transform the training set and replace missing values with the median:"
   ]
  },
  {
   "cell_type": "code",
   "execution_count": 15,
   "metadata": {
    "id": "KPH461Xu4nYG"
   },
   "outputs": [],
   "source": [
    "X = imputer.transform(housing_num)"
   ]
  },
  {
   "cell_type": "markdown",
   "metadata": {
    "id": "TP4be_Li4nYK"
   },
   "source": [
    "The output ``X`` is a ``ndarray``. We need to convert it back to a ``DataFrame``.\n",
    "\n",
    "So we can easily find the instances that were missing attributes, we will assign the *original indices* to each of the districts."
   ]
  },
  {
   "cell_type": "code",
   "execution_count": 16,
   "metadata": {
    "id": "FFgjBRWM4nYL"
   },
   "outputs": [],
   "source": [
    "housing_tr = pd.DataFrame(X, columns=housing_num.columns,\n",
    "                          index = list(housing.index.values))"
   ]
  },
  {
   "cell_type": "code",
   "execution_count": 17,
   "metadata": {
    "id": "o-Uxg2J54nYO"
   },
   "outputs": [
    {
     "name": "stdout",
     "output_type": "stream",
     "text": [
      "[12655 15502  2908 ... 19263 19140 19773]\n"
     ]
    }
   ],
   "source": [
    "print(housing.index.values)"
   ]
  },
  {
   "cell_type": "markdown",
   "metadata": {
    "id": "e_DboyOc4nYR"
   },
   "source": [
    "If we look at the entries with missing \"total bedroom\" values, we see the median value for that attribute (433). Since we've assigned the original indices for each district, we can now list just those which were missing attributes."
   ]
  },
  {
   "cell_type": "code",
   "execution_count": 18,
   "metadata": {
    "id": "v7YzP-Ia4nYS"
   },
   "outputs": [
    {
     "data": {
      "text/html": [
       "<div>\n",
       "<style scoped>\n",
       "    .dataframe tbody tr th:only-of-type {\n",
       "        vertical-align: middle;\n",
       "    }\n",
       "\n",
       "    .dataframe tbody tr th {\n",
       "        vertical-align: top;\n",
       "    }\n",
       "\n",
       "    .dataframe thead th {\n",
       "        text-align: right;\n",
       "    }\n",
       "</style>\n",
       "<table border=\"1\" class=\"dataframe\">\n",
       "  <thead>\n",
       "    <tr style=\"text-align: right;\">\n",
       "      <th></th>\n",
       "      <th>longitude</th>\n",
       "      <th>latitude</th>\n",
       "      <th>housing_median_age</th>\n",
       "      <th>total_rooms</th>\n",
       "      <th>total_bedrooms</th>\n",
       "      <th>population</th>\n",
       "      <th>households</th>\n",
       "      <th>median_income</th>\n",
       "    </tr>\n",
       "  </thead>\n",
       "  <tbody>\n",
       "    <tr>\n",
       "      <th>1606</th>\n",
       "      <td>-122.08</td>\n",
       "      <td>37.88</td>\n",
       "      <td>26.0</td>\n",
       "      <td>2947.0</td>\n",
       "      <td>433.0</td>\n",
       "      <td>825.0</td>\n",
       "      <td>626.0</td>\n",
       "      <td>2.9330</td>\n",
       "    </tr>\n",
       "    <tr>\n",
       "      <th>10915</th>\n",
       "      <td>-117.87</td>\n",
       "      <td>33.73</td>\n",
       "      <td>45.0</td>\n",
       "      <td>2264.0</td>\n",
       "      <td>433.0</td>\n",
       "      <td>1970.0</td>\n",
       "      <td>499.0</td>\n",
       "      <td>3.4193</td>\n",
       "    </tr>\n",
       "    <tr>\n",
       "      <th>19150</th>\n",
       "      <td>-122.70</td>\n",
       "      <td>38.35</td>\n",
       "      <td>14.0</td>\n",
       "      <td>2313.0</td>\n",
       "      <td>433.0</td>\n",
       "      <td>954.0</td>\n",
       "      <td>397.0</td>\n",
       "      <td>3.7813</td>\n",
       "    </tr>\n",
       "    <tr>\n",
       "      <th>4186</th>\n",
       "      <td>-118.23</td>\n",
       "      <td>34.13</td>\n",
       "      <td>48.0</td>\n",
       "      <td>1308.0</td>\n",
       "      <td>433.0</td>\n",
       "      <td>835.0</td>\n",
       "      <td>294.0</td>\n",
       "      <td>4.2891</td>\n",
       "    </tr>\n",
       "    <tr>\n",
       "      <th>16885</th>\n",
       "      <td>-122.40</td>\n",
       "      <td>37.58</td>\n",
       "      <td>26.0</td>\n",
       "      <td>3281.0</td>\n",
       "      <td>433.0</td>\n",
       "      <td>1145.0</td>\n",
       "      <td>480.0</td>\n",
       "      <td>6.3580</td>\n",
       "    </tr>\n",
       "  </tbody>\n",
       "</table>\n",
       "</div>"
      ],
      "text/plain": [
       "       longitude  latitude  housing_median_age  total_rooms  total_bedrooms  \\\n",
       "1606     -122.08     37.88                26.0       2947.0           433.0   \n",
       "10915    -117.87     33.73                45.0       2264.0           433.0   \n",
       "19150    -122.70     38.35                14.0       2313.0           433.0   \n",
       "4186     -118.23     34.13                48.0       1308.0           433.0   \n",
       "16885    -122.40     37.58                26.0       3281.0           433.0   \n",
       "\n",
       "       population  households  median_income  \n",
       "1606        825.0       626.0         2.9330  \n",
       "10915      1970.0       499.0         3.4193  \n",
       "19150       954.0       397.0         3.7813  \n",
       "4186        835.0       294.0         4.2891  \n",
       "16885      1145.0       480.0         6.3580  "
      ]
     },
     "execution_count": 18,
     "metadata": {},
     "output_type": "execute_result"
    }
   ],
   "source": [
    "housing_tr.loc[sample_incomplete_rows.index.values]"
   ]
  },
  {
   "cell_type": "code",
   "execution_count": 19,
   "metadata": {
    "id": "J8dFdZVW4nYV"
   },
   "outputs": [
    {
     "data": {
      "text/plain": [
       "'median'"
      ]
     },
     "execution_count": 19,
     "metadata": {},
     "output_type": "execute_result"
    }
   ],
   "source": [
    "imputer.strategy"
   ]
  },
  {
   "cell_type": "markdown",
   "metadata": {
    "id": "0SIn1oXB4nYY"
   },
   "source": [
    "Now that we've checked the instances with missing values, we can reconvert ``X`` to a ``DataFrame``. This time, we will let the instances use default indices (i.e. first row has index 0 instead of 17606)."
   ]
  },
  {
   "cell_type": "code",
   "execution_count": 20,
   "metadata": {
    "id": "2-S-zPLF4nYZ"
   },
   "outputs": [
    {
     "data": {
      "text/html": [
       "<div>\n",
       "<style scoped>\n",
       "    .dataframe tbody tr th:only-of-type {\n",
       "        vertical-align: middle;\n",
       "    }\n",
       "\n",
       "    .dataframe tbody tr th {\n",
       "        vertical-align: top;\n",
       "    }\n",
       "\n",
       "    .dataframe thead th {\n",
       "        text-align: right;\n",
       "    }\n",
       "</style>\n",
       "<table border=\"1\" class=\"dataframe\">\n",
       "  <thead>\n",
       "    <tr style=\"text-align: right;\">\n",
       "      <th></th>\n",
       "      <th>longitude</th>\n",
       "      <th>latitude</th>\n",
       "      <th>housing_median_age</th>\n",
       "      <th>total_rooms</th>\n",
       "      <th>total_bedrooms</th>\n",
       "      <th>population</th>\n",
       "      <th>households</th>\n",
       "      <th>median_income</th>\n",
       "    </tr>\n",
       "  </thead>\n",
       "  <tbody>\n",
       "    <tr>\n",
       "      <th>0</th>\n",
       "      <td>-121.46</td>\n",
       "      <td>38.52</td>\n",
       "      <td>29.0</td>\n",
       "      <td>3873.0</td>\n",
       "      <td>797.0</td>\n",
       "      <td>2237.0</td>\n",
       "      <td>706.0</td>\n",
       "      <td>2.1736</td>\n",
       "    </tr>\n",
       "    <tr>\n",
       "      <th>1</th>\n",
       "      <td>-117.23</td>\n",
       "      <td>33.09</td>\n",
       "      <td>7.0</td>\n",
       "      <td>5320.0</td>\n",
       "      <td>855.0</td>\n",
       "      <td>2015.0</td>\n",
       "      <td>768.0</td>\n",
       "      <td>6.3373</td>\n",
       "    </tr>\n",
       "    <tr>\n",
       "      <th>2</th>\n",
       "      <td>-119.04</td>\n",
       "      <td>35.37</td>\n",
       "      <td>44.0</td>\n",
       "      <td>1618.0</td>\n",
       "      <td>310.0</td>\n",
       "      <td>667.0</td>\n",
       "      <td>300.0</td>\n",
       "      <td>2.8750</td>\n",
       "    </tr>\n",
       "    <tr>\n",
       "      <th>3</th>\n",
       "      <td>-117.13</td>\n",
       "      <td>32.75</td>\n",
       "      <td>24.0</td>\n",
       "      <td>1877.0</td>\n",
       "      <td>519.0</td>\n",
       "      <td>898.0</td>\n",
       "      <td>483.0</td>\n",
       "      <td>2.2264</td>\n",
       "    </tr>\n",
       "    <tr>\n",
       "      <th>4</th>\n",
       "      <td>-118.70</td>\n",
       "      <td>34.28</td>\n",
       "      <td>27.0</td>\n",
       "      <td>3536.0</td>\n",
       "      <td>646.0</td>\n",
       "      <td>1837.0</td>\n",
       "      <td>580.0</td>\n",
       "      <td>4.4964</td>\n",
       "    </tr>\n",
       "  </tbody>\n",
       "</table>\n",
       "</div>"
      ],
      "text/plain": [
       "   longitude  latitude  housing_median_age  total_rooms  total_bedrooms  \\\n",
       "0    -121.46     38.52                29.0       3873.0           797.0   \n",
       "1    -117.23     33.09                 7.0       5320.0           855.0   \n",
       "2    -119.04     35.37                44.0       1618.0           310.0   \n",
       "3    -117.13     32.75                24.0       1877.0           519.0   \n",
       "4    -118.70     34.28                27.0       3536.0           646.0   \n",
       "\n",
       "   population  households  median_income  \n",
       "0      2237.0       706.0         2.1736  \n",
       "1      2015.0       768.0         6.3373  \n",
       "2       667.0       300.0         2.8750  \n",
       "3       898.0       483.0         2.2264  \n",
       "4      1837.0       580.0         4.4964  "
      ]
     },
     "execution_count": 20,
     "metadata": {},
     "output_type": "execute_result"
    }
   ],
   "source": [
    "housing_tr = pd.DataFrame(X, columns=housing_num.columns)\n",
    "housing_tr.head()"
   ]
  },
  {
   "cell_type": "markdown",
   "metadata": {
    "id": "Xl9uz2Ug4nYd"
   },
   "source": [
    "## Handling text and categorical attributes\n",
    "\n",
    "Now let's preprocess the *categorical* input feature, `ocean_proximity`. \n",
    "\n",
    "All of the attributes (or features) we've examined so far are *numeric* features. Their values are real numbers over various ranges. \n",
    "\n",
    "With *categorical* features, the attribute can take on *one of several discrete values*. There is no particular ordering to the values. For the \"ocean proximity\", this attribute has 5 possible values."
   ]
  },
  {
   "cell_type": "code",
   "execution_count": 21,
   "metadata": {
    "id": "2_0XUdSV4nYe"
   },
   "outputs": [
    {
     "data": {
      "text/plain": [
       "ocean_proximity\n",
       "<1H OCEAN     7277\n",
       "INLAND        5262\n",
       "NEAR OCEAN    2124\n",
       "NEAR BAY      1847\n",
       "ISLAND           2\n",
       "Name: count, dtype: int64"
      ]
     },
     "execution_count": 21,
     "metadata": {},
     "output_type": "execute_result"
    }
   ],
   "source": [
    "housing[\"ocean_proximity\"].value_counts()"
   ]
  },
  {
   "cell_type": "code",
   "execution_count": 22,
   "metadata": {
    "id": "YGoxk1gb4nYj"
   },
   "outputs": [
    {
     "data": {
      "text/html": [
       "<div>\n",
       "<style scoped>\n",
       "    .dataframe tbody tr th:only-of-type {\n",
       "        vertical-align: middle;\n",
       "    }\n",
       "\n",
       "    .dataframe tbody tr th {\n",
       "        vertical-align: top;\n",
       "    }\n",
       "\n",
       "    .dataframe thead th {\n",
       "        text-align: right;\n",
       "    }\n",
       "</style>\n",
       "<table border=\"1\" class=\"dataframe\">\n",
       "  <thead>\n",
       "    <tr style=\"text-align: right;\">\n",
       "      <th></th>\n",
       "      <th>ocean_proximity</th>\n",
       "    </tr>\n",
       "  </thead>\n",
       "  <tbody>\n",
       "    <tr>\n",
       "      <th>12655</th>\n",
       "      <td>INLAND</td>\n",
       "    </tr>\n",
       "    <tr>\n",
       "      <th>15502</th>\n",
       "      <td>NEAR OCEAN</td>\n",
       "    </tr>\n",
       "    <tr>\n",
       "      <th>2908</th>\n",
       "      <td>INLAND</td>\n",
       "    </tr>\n",
       "    <tr>\n",
       "      <th>14053</th>\n",
       "      <td>NEAR OCEAN</td>\n",
       "    </tr>\n",
       "    <tr>\n",
       "      <th>20496</th>\n",
       "      <td>&lt;1H OCEAN</td>\n",
       "    </tr>\n",
       "    <tr>\n",
       "      <th>1481</th>\n",
       "      <td>NEAR BAY</td>\n",
       "    </tr>\n",
       "    <tr>\n",
       "      <th>18125</th>\n",
       "      <td>&lt;1H OCEAN</td>\n",
       "    </tr>\n",
       "    <tr>\n",
       "      <th>5830</th>\n",
       "      <td>&lt;1H OCEAN</td>\n",
       "    </tr>\n",
       "    <tr>\n",
       "      <th>17989</th>\n",
       "      <td>&lt;1H OCEAN</td>\n",
       "    </tr>\n",
       "    <tr>\n",
       "      <th>4861</th>\n",
       "      <td>&lt;1H OCEAN</td>\n",
       "    </tr>\n",
       "  </tbody>\n",
       "</table>\n",
       "</div>"
      ],
      "text/plain": [
       "      ocean_proximity\n",
       "12655          INLAND\n",
       "15502      NEAR OCEAN\n",
       "2908           INLAND\n",
       "14053      NEAR OCEAN\n",
       "20496       <1H OCEAN\n",
       "1481         NEAR BAY\n",
       "18125       <1H OCEAN\n",
       "5830        <1H OCEAN\n",
       "17989       <1H OCEAN\n",
       "4861        <1H OCEAN"
      ]
     },
     "execution_count": 22,
     "metadata": {},
     "output_type": "execute_result"
    }
   ],
   "source": [
    "housing_cat = housing[['ocean_proximity']]\n",
    "housing_cat.head(10)"
   ]
  },
  {
   "cell_type": "markdown",
   "metadata": {
    "id": "XEh639cs4nYm"
   },
   "source": [
    "### Encoding categorical attributes\n",
    "Most ML algorithms work exclusively with *numeric* input values. For an algorithm to use a *categorical* input feature, the value must be encoded as a numeric value. There are various approaches for encoding categorical attributes.\n",
    "\n",
    "#### Label encoding\n",
    "One approach is to assign numbers to each possible value (or *label*) that the categorical feature may have. For example, we may assign 0 to `<1H OCEAN`, 1 to `INLAND`, 2 to `ISLAND`, and so on. \n",
    "\n",
    "While this is simple to implement, it has a drawback. The ML algorithm may figure that labels with close encoding values (e.g. 0 and 1) are more similar than those with encoding values that are farther apart (e.g. 0 and 4). In many cases this may not be true and could lead to poor performance.\n",
    "\n",
    "       "
   ]
  },
  {
   "cell_type": "code",
   "execution_count": 23,
   "metadata": {
    "id": "hNaa_7tE4nYn"
   },
   "outputs": [],
   "source": [
    "from sklearn.preprocessing import LabelEncoder"
   ]
  },
  {
   "cell_type": "code",
   "execution_count": 24,
   "metadata": {
    "id": "cJwv--v24nYo"
   },
   "outputs": [
    {
     "data": {
      "text/plain": [
       "12655        INLAND\n",
       "15502    NEAR OCEAN\n",
       "2908         INLAND\n",
       "14053    NEAR OCEAN\n",
       "20496     <1H OCEAN\n",
       "Name: ocean_proximity, dtype: object"
      ]
     },
     "execution_count": 24,
     "metadata": {},
     "output_type": "execute_result"
    }
   ],
   "source": [
    "encoder = LabelEncoder()\n",
    "housing_cat = housing[\"ocean_proximity\"]\n",
    "housing_cat.head()"
   ]
  },
  {
   "cell_type": "code",
   "execution_count": 25,
   "metadata": {
    "id": "rKRJfE9u4nYs"
   },
   "outputs": [
    {
     "data": {
      "text/plain": [
       "array([1, 4, 1, 4, 0])"
      ]
     },
     "execution_count": 25,
     "metadata": {},
     "output_type": "execute_result"
    }
   ],
   "source": [
    "housing_cat_encoded = encoder.fit_transform(housing_cat)\n",
    "housing_cat_encoded[:5]"
   ]
  },
  {
   "cell_type": "code",
   "execution_count": 26,
   "metadata": {
    "id": "yHW3ufFS4nYw"
   },
   "outputs": [
    {
     "data": {
      "text/plain": [
       "array(['<1H OCEAN', 'INLAND', 'ISLAND', 'NEAR BAY', 'NEAR OCEAN'],\n",
       "      dtype=object)"
      ]
     },
     "execution_count": 26,
     "metadata": {},
     "output_type": "execute_result"
    }
   ],
   "source": [
    "encoder.classes_"
   ]
  },
  {
   "cell_type": "markdown",
   "metadata": {
    "id": "OsjoSIDA4nY0"
   },
   "source": [
    "#### One-hot encoding\n",
    "Another approach is to represent a categorical value with a 1D array (or *vector*). The array has an entry for each possible label the feature may have. If the feature has a particular label, then this is represented by an array with a 1 in the location for that label, and 0 for all other locations in the array. It's called *one-hot* since only one entry will be 1 (hot), the rest will be 0 (cold).\n",
    "\n",
    "Example: Consider \"ocean proximity\". Suppose our 1-hot encoding vector uses the following order:\n",
    "    \n",
    "    ['<1H OCEAN', 'INLAND', 'ISLAND', 'NEAR BAY', NEAR OCEAN']    \n",
    "    \n",
    "For the value ``'<1H OCEAN'``, it is encoded with the vector:\n",
    "\n",
    "    [1, 0, 0, 0, 0]\n",
    "    \n",
    "For the value ``'NEAR BAY'``, it is encoded with the vector:\n",
    "\n",
    "    [0, 0, 0, 1, 0]"
   ]
  },
  {
   "cell_type": "code",
   "execution_count": 27,
   "metadata": {
    "id": "ZUozUCw64nY1"
   },
   "outputs": [
    {
     "name": "stdout",
     "output_type": "stream",
     "text": [
      "  (0, 1)\t1.0\n",
      "  (1, 4)\t1.0\n",
      "  (2, 1)\t1.0\n",
      "  (3, 4)\t1.0\n",
      "  (4, 0)\t1.0\n",
      "  (5, 3)\t1.0\n",
      "  (6, 0)\t1.0\n",
      "  (7, 0)\t1.0\n",
      "  (8, 0)\t1.0\n",
      "  (9, 0)\t1.0\n",
      "  (10, 1)\t1.0\n",
      "  (11, 0)\t1.0\n",
      "  (12, 1)\t1.0\n",
      "  (13, 1)\t1.0\n",
      "  (14, 4)\t1.0\n",
      "  (15, 0)\t1.0\n",
      "  (16, 0)\t1.0\n",
      "  (17, 0)\t1.0\n",
      "  (18, 3)\t1.0\n",
      "  (19, 0)\t1.0\n",
      "  (20, 1)\t1.0\n",
      "  (21, 3)\t1.0\n",
      "  (22, 1)\t1.0\n",
      "  (23, 0)\t1.0\n",
      "  (24, 1)\t1.0\n",
      "  :\t:\n",
      "  (16487, 1)\t1.0\n",
      "  (16488, 0)\t1.0\n",
      "  (16489, 4)\t1.0\n",
      "  (16490, 4)\t1.0\n",
      "  (16491, 1)\t1.0\n",
      "  (16492, 1)\t1.0\n",
      "  (16493, 0)\t1.0\n",
      "  (16494, 0)\t1.0\n",
      "  (16495, 0)\t1.0\n",
      "  (16496, 1)\t1.0\n",
      "  (16497, 0)\t1.0\n",
      "  (16498, 4)\t1.0\n",
      "  (16499, 0)\t1.0\n",
      "  (16500, 0)\t1.0\n",
      "  (16501, 1)\t1.0\n",
      "  (16502, 1)\t1.0\n",
      "  (16503, 1)\t1.0\n",
      "  (16504, 1)\t1.0\n",
      "  (16505, 0)\t1.0\n",
      "  (16506, 0)\t1.0\n",
      "  (16507, 0)\t1.0\n",
      "  (16508, 1)\t1.0\n",
      "  (16509, 0)\t1.0\n",
      "  (16510, 0)\t1.0\n",
      "  (16511, 1)\t1.0\n"
     ]
    }
   ],
   "source": [
    "from sklearn.preprocessing import OneHotEncoder\n",
    "\n",
    "cat_encoder = OneHotEncoder()\n",
    "housing_cat = housing[[\"ocean_proximity\"]]\n",
    "housing_cat_1hot = cat_encoder.fit_transform(housing_cat)\n",
    "print(housing_cat_1hot)"
   ]
  },
  {
   "cell_type": "markdown",
   "metadata": {
    "id": "6fAb-8AR4nY4"
   },
   "source": [
    "By default, the `OneHotEncoder` class returns a *sparse array*, but we can convert it to a dense array if needed by calling the `toarray()` method:"
   ]
  },
  {
   "cell_type": "code",
   "execution_count": 28,
   "metadata": {
    "id": "MHDrEobi4nY7"
   },
   "outputs": [
    {
     "data": {
      "text/plain": [
       "array([[0., 1., 0., 0., 0.],\n",
       "       [0., 0., 0., 0., 1.],\n",
       "       [0., 1., 0., 0., 0.],\n",
       "       ...,\n",
       "       [1., 0., 0., 0., 0.],\n",
       "       [1., 0., 0., 0., 0.],\n",
       "       [0., 1., 0., 0., 0.]])"
      ]
     },
     "execution_count": 28,
     "metadata": {},
     "output_type": "execute_result"
    }
   ],
   "source": [
    "housing_cat_1hot.toarray()"
   ]
  },
  {
   "cell_type": "markdown",
   "metadata": {
    "id": "WHC7ipA84nY9"
   },
   "source": [
    "Alternatively, you can set `sparse=False` when creating the `OneHotEncoder`:"
   ]
  },
  {
   "cell_type": "code",
   "execution_count": 29,
   "metadata": {
    "id": "G1XerzHg4nY-"
   },
   "outputs": [
    {
     "name": "stderr",
     "output_type": "stream",
     "text": [
      "C:\\Users\\Kaleb\\AppData\\Roaming\\Python\\Python39\\site-packages\\sklearn\\preprocessing\\_encoders.py:972: FutureWarning: `sparse` was renamed to `sparse_output` in version 1.2 and will be removed in 1.4. `sparse_output` is ignored unless you leave `sparse` to its default value.\n",
      "  warnings.warn(\n"
     ]
    },
    {
     "data": {
      "text/plain": [
       "array([[0., 1., 0., 0., 0.],\n",
       "       [0., 0., 0., 0., 1.],\n",
       "       [0., 1., 0., 0., 0.],\n",
       "       ...,\n",
       "       [1., 0., 0., 0., 0.],\n",
       "       [1., 0., 0., 0., 0.],\n",
       "       [0., 1., 0., 0., 0.]])"
      ]
     },
     "execution_count": 29,
     "metadata": {},
     "output_type": "execute_result"
    }
   ],
   "source": [
    "cat_encoder = OneHotEncoder(sparse=False)\n",
    "housing_cat_1hot = cat_encoder.fit_transform(housing_cat)\n",
    "housing_cat_1hot"
   ]
  },
  {
   "cell_type": "code",
   "execution_count": 30,
   "metadata": {
    "id": "JRReQ_RS4nZC"
   },
   "outputs": [
    {
     "data": {
      "text/plain": [
       "[array(['<1H OCEAN', 'INLAND', 'ISLAND', 'NEAR BAY', 'NEAR OCEAN'],\n",
       "       dtype=object)]"
      ]
     },
     "execution_count": 30,
     "metadata": {},
     "output_type": "execute_result"
    }
   ],
   "source": [
    "cat_encoder.categories_"
   ]
  },
  {
   "cell_type": "markdown",
   "metadata": {
    "id": "NpqwMiU14nZM"
   },
   "source": [
    "## Custom transformer\n",
    "\n",
    "Transformer objects in Scikit-Learn perform some transformation on a data set. Examples we've seen so far are `SimpleImputer` and the encoder classes. \n",
    "\n",
    "We can create our own custom transformer that works with Scikit-Learn's API. We will create a custom transformer to automatically add the combined attributes we experimented with earlier.\n",
    "\n",
    "When creating a custom transformer, the class must have the following methods:\n",
    " - `fit()`\n",
    " - `transform()`\n",
    " - `fit_transform()`"
   ]
  },
  {
   "cell_type": "code",
   "execution_count": 31,
   "metadata": {
    "id": "cjW2HPQF4nZN"
   },
   "outputs": [],
   "source": [
    "from sklearn.base import BaseEstimator, TransformerMixin\n",
    "\n",
    "# column index\n",
    "rooms_ix, bedrooms_ix, population_ix, household_ix = 3, 4, 5, 6\n",
    "\n",
    "class CombinedAttributesAdder(BaseEstimator, TransformerMixin):\n",
    "    def __init__(self, add_bedrooms_per_room = True): # no *args or **kargs\n",
    "        self.add_bedrooms_per_room = add_bedrooms_per_room\n",
    "        \n",
    "    def fit(self, X, y=None):\n",
    "        return self  # nothing else to do\n",
    "    \n",
    "    def transform(self, X, y=None):\n",
    "        \"\"\" Add attributes: rooms_per_household, bedrooms_per_room, population_per_household. \"\"\"\n",
    "        rooms_per_household = X[:, rooms_ix] / X[:, household_ix]\n",
    "        population_per_household = X[:, population_ix] / X[:, household_ix]\n",
    "        if self.add_bedrooms_per_room:\n",
    "            bedrooms_per_room = X[:, bedrooms_ix] / X[:, rooms_ix]\n",
    "            return np.c_[X, rooms_per_household, population_per_household,\n",
    "                         bedrooms_per_room]\n",
    "        else:\n",
    "            return np.c_[X, rooms_per_household, population_per_household]\n",
    "\n",
    "\n",
    "# create instance of our new transformer (skip bedrooms per room for now)\n",
    "attr_adder = CombinedAttributesAdder(add_bedrooms_per_room=False)\n",
    "\n",
    "# add new attributes (but not bedrooms per room)\n",
    "housing_extra_attribs = attr_adder.transform(housing.values)"
   ]
  },
  {
   "cell_type": "code",
   "execution_count": 32,
   "metadata": {
    "id": "_psAq7Kf4nZQ"
   },
   "outputs": [
    {
     "data": {
      "text/html": [
       "<div>\n",
       "<style scoped>\n",
       "    .dataframe tbody tr th:only-of-type {\n",
       "        vertical-align: middle;\n",
       "    }\n",
       "\n",
       "    .dataframe tbody tr th {\n",
       "        vertical-align: top;\n",
       "    }\n",
       "\n",
       "    .dataframe thead th {\n",
       "        text-align: right;\n",
       "    }\n",
       "</style>\n",
       "<table border=\"1\" class=\"dataframe\">\n",
       "  <thead>\n",
       "    <tr style=\"text-align: right;\">\n",
       "      <th></th>\n",
       "      <th>longitude</th>\n",
       "      <th>latitude</th>\n",
       "      <th>housing_median_age</th>\n",
       "      <th>total_rooms</th>\n",
       "      <th>total_bedrooms</th>\n",
       "      <th>population</th>\n",
       "      <th>households</th>\n",
       "      <th>median_income</th>\n",
       "      <th>ocean_proximity</th>\n",
       "      <th>rooms_per_household</th>\n",
       "      <th>population_per_household</th>\n",
       "    </tr>\n",
       "  </thead>\n",
       "  <tbody>\n",
       "    <tr>\n",
       "      <th>0</th>\n",
       "      <td>-121.46</td>\n",
       "      <td>38.52</td>\n",
       "      <td>29.0</td>\n",
       "      <td>3873.0</td>\n",
       "      <td>797.0</td>\n",
       "      <td>2237.0</td>\n",
       "      <td>706.0</td>\n",
       "      <td>2.1736</td>\n",
       "      <td>INLAND</td>\n",
       "      <td>5.485836</td>\n",
       "      <td>3.168555</td>\n",
       "    </tr>\n",
       "    <tr>\n",
       "      <th>1</th>\n",
       "      <td>-117.23</td>\n",
       "      <td>33.09</td>\n",
       "      <td>7.0</td>\n",
       "      <td>5320.0</td>\n",
       "      <td>855.0</td>\n",
       "      <td>2015.0</td>\n",
       "      <td>768.0</td>\n",
       "      <td>6.3373</td>\n",
       "      <td>NEAR OCEAN</td>\n",
       "      <td>6.927083</td>\n",
       "      <td>2.623698</td>\n",
       "    </tr>\n",
       "    <tr>\n",
       "      <th>2</th>\n",
       "      <td>-119.04</td>\n",
       "      <td>35.37</td>\n",
       "      <td>44.0</td>\n",
       "      <td>1618.0</td>\n",
       "      <td>310.0</td>\n",
       "      <td>667.0</td>\n",
       "      <td>300.0</td>\n",
       "      <td>2.875</td>\n",
       "      <td>INLAND</td>\n",
       "      <td>5.393333</td>\n",
       "      <td>2.223333</td>\n",
       "    </tr>\n",
       "    <tr>\n",
       "      <th>3</th>\n",
       "      <td>-117.13</td>\n",
       "      <td>32.75</td>\n",
       "      <td>24.0</td>\n",
       "      <td>1877.0</td>\n",
       "      <td>519.0</td>\n",
       "      <td>898.0</td>\n",
       "      <td>483.0</td>\n",
       "      <td>2.2264</td>\n",
       "      <td>NEAR OCEAN</td>\n",
       "      <td>3.886128</td>\n",
       "      <td>1.859213</td>\n",
       "    </tr>\n",
       "    <tr>\n",
       "      <th>4</th>\n",
       "      <td>-118.7</td>\n",
       "      <td>34.28</td>\n",
       "      <td>27.0</td>\n",
       "      <td>3536.0</td>\n",
       "      <td>646.0</td>\n",
       "      <td>1837.0</td>\n",
       "      <td>580.0</td>\n",
       "      <td>4.4964</td>\n",
       "      <td>&lt;1H OCEAN</td>\n",
       "      <td>6.096552</td>\n",
       "      <td>3.167241</td>\n",
       "    </tr>\n",
       "  </tbody>\n",
       "</table>\n",
       "</div>"
      ],
      "text/plain": [
       "  longitude latitude housing_median_age total_rooms total_bedrooms population  \\\n",
       "0   -121.46    38.52               29.0      3873.0          797.0     2237.0   \n",
       "1   -117.23    33.09                7.0      5320.0          855.0     2015.0   \n",
       "2   -119.04    35.37               44.0      1618.0          310.0      667.0   \n",
       "3   -117.13    32.75               24.0      1877.0          519.0      898.0   \n",
       "4    -118.7    34.28               27.0      3536.0          646.0     1837.0   \n",
       "\n",
       "  households median_income ocean_proximity rooms_per_household  \\\n",
       "0      706.0        2.1736          INLAND            5.485836   \n",
       "1      768.0        6.3373      NEAR OCEAN            6.927083   \n",
       "2      300.0         2.875          INLAND            5.393333   \n",
       "3      483.0        2.2264      NEAR OCEAN            3.886128   \n",
       "4      580.0        4.4964       <1H OCEAN            6.096552   \n",
       "\n",
       "  population_per_household  \n",
       "0                 3.168555  \n",
       "1                 2.623698  \n",
       "2                 2.223333  \n",
       "3                 1.859213  \n",
       "4                 3.167241  "
      ]
     },
     "execution_count": 32,
     "metadata": {},
     "output_type": "execute_result"
    }
   ],
   "source": [
    "housing_extra_attribs = pd.DataFrame(\n",
    "    housing_extra_attribs,\n",
    "    columns=list(housing.columns)+[\"rooms_per_household\", \"population_per_household\"])\n",
    "housing_extra_attribs.head()"
   ]
  },
  {
   "cell_type": "markdown",
   "metadata": {
    "id": "oTpwrTUj4nZV"
   },
   "source": [
    "## Creating a transformation pipeline\n",
    "\n",
    "Machine learning systems often have a *pipeline* architecture. The system consists of stages where the output of one stage becomes the input to the next stage. Each stage is responsible for performing some type of processing on the data. \n",
    "\n",
    "Scikit-Learn provides a `Pipeline` class for convenient creation and execution of a pipeline.\n",
    "\n",
    "Now let's build a pipeline for preprocessing the numerical attributes."
   ]
  },
  {
   "cell_type": "code",
   "execution_count": 33,
   "metadata": {
    "id": "8JEs93Ii4nZW"
   },
   "outputs": [],
   "source": [
    "from sklearn.pipeline import Pipeline\n",
    "from sklearn.preprocessing import StandardScaler\n",
    "\n",
    "num_pipeline = Pipeline([\n",
    "        ('imputer', SimpleImputer(strategy=\"median\")),\n",
    "        ('attribs_adder', CombinedAttributesAdder()),\n",
    "        ('std_scaler', StandardScaler()),\n",
    "    ])\n",
    "\n",
    "housing_num_tr = num_pipeline.fit_transform(housing_num)"
   ]
  },
  {
   "cell_type": "markdown",
   "metadata": {
    "id": "O-yOaq2w4nZb"
   },
   "source": [
    "A `Pipeline` consists of a list of name/estimator pairs. When `fit_transform` is called, the estimator objects are applied to the data in the order they appear in the pipeline list. Here our pipeline:\n",
    "1. Fills in missing attribute values.\n",
    "2. Adds the combined attributes.\n",
    "3. Scales the values for each of the numeric attributes.\n",
    "\n",
    "For this example, we use the `StandardScaler` transformer to scale the attribute values. This scales the data such that *mean* is 0 and the *variance* is 1 when computed over each attribute column.\n",
    "\n",
    "Try different attribute columns. For each, the mean should be 0 and variance 1."
   ]
  },
  {
   "cell_type": "code",
   "execution_count": 34,
   "metadata": {
    "id": "DVI5ZOyx4nZc"
   },
   "outputs": [
    {
     "name": "stdout",
     "output_type": "stream",
     "text": [
      "(16512, 11)\n",
      "Feature mean: 8.778507636571005e-17\n",
      "Feature variance: 1.0000000000000002\n"
     ]
    }
   ],
   "source": [
    "print(housing_num_tr.shape)\n",
    "print('Feature mean: {}'.format(np.mean(housing_num_tr[:,2])))\n",
    "print('Feature variance: {}'.format(np.var(housing_num_tr[:,2])))"
   ]
  },
  {
   "cell_type": "markdown",
   "metadata": {
    "id": "dxUVHEec4nZe"
   },
   "source": [
    "And a transformer to just select a subset of the Pandas DataFrame columns. We will use it later to select the categorical features."
   ]
  },
  {
   "cell_type": "code",
   "execution_count": 35,
   "metadata": {
    "id": "DYd6_G6P4nZf"
   },
   "outputs": [],
   "source": [
    "from sklearn.base import BaseEstimator, TransformerMixin\n",
    "\n",
    "# Create a class to select numerical or categorical columns \n",
    "# since Scikit-Learn doesn't handle DataFrames yet\n",
    "class DataFrameSelector(BaseEstimator, TransformerMixin):\n",
    "    def __init__(self, attribute_names):\n",
    "        self.attribute_names = attribute_names\n",
    "    def fit(self, X, y=None):\n",
    "        return self\n",
    "    def transform(self, X):\n",
    "        return X[self.attribute_names].values"
   ]
  },
  {
   "cell_type": "markdown",
   "metadata": {
    "id": "4Wkd9VIT4nZh"
   },
   "source": [
    "Now let's join all these components into a big pipeline that will preprocess both the numerical and the categorical features:"
   ]
  },
  {
   "cell_type": "code",
   "execution_count": 36,
   "metadata": {
    "id": "9g5QaT6uKOSu"
   },
   "outputs": [
    {
     "name": "stdout",
     "output_type": "stream",
     "text": [
      "['longitude', 'latitude', 'housing_median_age', 'total_rooms', 'total_bedrooms', 'population', 'households', 'median_income']\n"
     ]
    }
   ],
   "source": [
    "print(list(housing_num))\n"
   ]
  },
  {
   "cell_type": "code",
   "execution_count": 37,
   "metadata": {
    "id": "CSZ70N-k4nZh"
   },
   "outputs": [],
   "source": [
    "num_attribs = list(housing_num)\n",
    "cat_attribs = [\"ocean_proximity\"]\n",
    "\n",
    "# pipeline for cleaning and preparing numerical features\n",
    "num_pipeline = Pipeline([\n",
    "        ('selector', DataFrameSelector(num_attribs)),\n",
    "        ('imputer', SimpleImputer(strategy=\"median\")),\n",
    "        ('attribs_adder', CombinedAttributesAdder()),\n",
    "        ('std_scaler', StandardScaler()),\n",
    "    ])\n",
    "\n",
    "\n",
    "# pipeline for preparing categorical features\n",
    "cat_pipeline = Pipeline([\n",
    "        ('selector', DataFrameSelector(cat_attribs)),\n",
    "        ('cat_encoder', OneHotEncoder(sparse=False)),\n",
    "    ])"
   ]
  },
  {
   "cell_type": "markdown",
   "metadata": {
    "id": "NfqYhRJX4nZl"
   },
   "source": [
    "`FeatureUnion` is a way to concatentate pipelines."
   ]
  },
  {
   "cell_type": "code",
   "execution_count": 38,
   "metadata": {
    "id": "RAQ71L884nZm"
   },
   "outputs": [],
   "source": [
    "from sklearn.pipeline import FeatureUnion\n",
    "\n",
    "full_pipeline = FeatureUnion(transformer_list=[\n",
    "        (\"num_pipeline\", num_pipeline),\n",
    "        (\"cat_pipeline\", cat_pipeline),\n",
    "    ])\n"
   ]
  },
  {
   "cell_type": "code",
   "execution_count": 39,
   "metadata": {
    "id": "KZW6kcPJ4nZn"
   },
   "outputs": [
    {
     "name": "stderr",
     "output_type": "stream",
     "text": [
      "C:\\Users\\Kaleb\\AppData\\Roaming\\Python\\Python39\\site-packages\\sklearn\\preprocessing\\_encoders.py:972: FutureWarning: `sparse` was renamed to `sparse_output` in version 1.2 and will be removed in 1.4. `sparse_output` is ignored unless you leave `sparse` to its default value.\n",
      "  warnings.warn(\n"
     ]
    },
    {
     "data": {
      "text/plain": [
       "array([-0.94135046,  1.34743822,  0.02756357,  0.58477745,  0.64037127,\n",
       "        0.73260236,  0.55628602, -0.8936472 ,  0.01739526,  0.00622264,\n",
       "       -0.12112176,  0.        ,  1.        ,  0.        ,  0.        ,\n",
       "        0.        ])"
      ]
     },
     "execution_count": 39,
     "metadata": {},
     "output_type": "execute_result"
    }
   ],
   "source": [
    "housing_prepared = full_pipeline.fit_transform(housing)\n",
    "housing_prepared[0]"
   ]
  },
  {
   "cell_type": "code",
   "execution_count": 40,
   "metadata": {
    "id": "H5CS_g_S4nZs"
   },
   "outputs": [
    {
     "data": {
      "text/plain": [
       "(16512, 16)"
      ]
     },
     "execution_count": 40,
     "metadata": {},
     "output_type": "execute_result"
    }
   ],
   "source": [
    "housing_prepared.shape"
   ]
  },
  {
   "cell_type": "markdown",
   "metadata": {
    "jp-MarkdownHeadingCollapsed": true
   },
   "source": [
    "# Questions\n",
    "1.\tWhat options are used in the data cleaning step in relation to the “total bedrooms” attribute?\n",
    "\n",
    "1. Remove the districts with missing \"total bedrooms\"\n",
    "\n",
    "2.\tWhat does Scikit-Learn's SimplerImputer class accomplish?\n",
    "\n",
    "2. Replaces missing attributes with the median of that attribute\n",
    "\n",
    "3.\tWhy is it important to transform categorical data into numeric data?\n",
    "\n",
    "3. Because most ML algorithms work exclusively with numeric input values\n",
    "\n",
    "4.\tWhat is the difference between Label encoding and One-hot encoding approaches?\n",
    "\n",
    "4. Label encoding assigns numbers to each possible value (or label) that the categorical feature may have. One-hot encoding represents a categorical value with a 1D array (or vector).\n",
    "\n",
    "5.\tWhat is the advantage of using One-hot encoding instead of Label encoding?\n",
    "\n",
    "5. One-hot encoding is better because it represents a categorical value with a 1D array (or vector) and it is easier to implement.\n",
    "\n",
    "6.\tWhat does the custom transformer (CombinedAttributesAdder) created in the example do?\n",
    "\n",
    "6. It adds the combined attributes we experimented with earlier.\n",
    "\n",
    "7.\tWhat is the advantage of using a transformation pipeline?\n",
    "\n",
    "7. It makes it easier to run the data through the pipeline.\n",
    "\n",
    "8.\tWhat steps were included in the final pipelines?\n",
    "\n",
    "8. Fills in missing attribute values, adds the combined attributes, and scales the values for each of the numeric attributes."
   ]
  }
 ],
 "metadata": {
  "colab": {
   "name": "L04_ML_project-preparing-data-complete.ipynb",
   "provenance": [],
   "toc_visible": true
  },
  "kernelspec": {
   "display_name": "Python 3 (ipykernel)",
   "language": "python",
   "name": "python3"
  },
  "language_info": {
   "codemirror_mode": {
    "name": "ipython",
    "version": 3
   },
   "file_extension": ".py",
   "mimetype": "text/x-python",
   "name": "python",
   "nbconvert_exporter": "python",
   "pygments_lexer": "ipython3",
   "version": "3.9.5"
  }
 },
 "nbformat": 4,
 "nbformat_minor": 4
}
