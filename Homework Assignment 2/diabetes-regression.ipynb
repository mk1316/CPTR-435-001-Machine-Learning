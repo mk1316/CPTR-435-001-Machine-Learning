{
 "cells": [
  {
   "cell_type": "markdown",
   "metadata": {
    "id": "Vjn2YAEhbXob"
   },
   "source": [
    "This activity is adapted from the Scikit-Learn example at https://scikit-learn.org/stable/auto_examples/linear_model/plot_ols.html#sphx-glr-auto-examples-linear-model-plot-ols-py"
   ]
  },
  {
   "cell_type": "markdown",
   "metadata": {
    "id": "eVRwsNTZbk9w"
   },
   "source": [
    "# Introduction to regression: Diabetes dataset\n",
    "\n",
    "First we load our dataset. This is a built-in dataset that is part of the Scikit-Learn library. So, there is no external file to load and parse."
   ]
  },
  {
   "cell_type": "code",
   "execution_count": 1,
   "metadata": {
    "id": "y_vGiJIsbGbY"
   },
   "outputs": [],
   "source": [
    "# Code source: Jaques Grobler\n",
    "# License: BSD 3 clause\n",
    "\n",
    "import matplotlib.pyplot as plt\n",
    "import numpy as np\n",
    "from sklearn import datasets, linear_model\n",
    "from sklearn.metrics import mean_squared_error, r2_score\n",
    "\n",
    "# Load the diabetes dataset\n",
    "diabetes = datasets.load_diabetes()"
   ]
  },
  {
   "cell_type": "markdown",
   "metadata": {
    "id": "x0TC4W3td3GP"
   },
   "source": [
    "## What are we working with?\n",
    "Let's look at the structure of our data. The data structure returned from our load_diabetes() method is a dictionary. Let's see what the keys are."
   ]
  },
  {
   "cell_type": "code",
   "execution_count": 2,
   "metadata": {
    "id": "DX1LQmW9eNVS"
   },
   "outputs": [
    {
     "name": "stdout",
     "output_type": "stream",
     "text": [
      "dict_keys(['data', 'target', 'frame', 'DESCR', 'feature_names', 'data_filename', 'target_filename', 'data_module'])\n"
     ]
    }
   ],
   "source": [
    "print(diabetes.keys())"
   ]
  },
  {
   "cell_type": "markdown",
   "metadata": {
    "id": "SXOQmp-8fSus"
   },
   "source": [
    "What are the features?"
   ]
  },
  {
   "cell_type": "code",
   "execution_count": 3,
   "metadata": {
    "id": "l25y7HykfU0F"
   },
   "outputs": [
    {
     "name": "stdout",
     "output_type": "stream",
     "text": [
      "['age', 'sex', 'bmi', 'bp', 's1', 's2', 's3', 's4', 's5', 's6']\n"
     ]
    }
   ],
   "source": [
    "print(diabetes['feature_names'])"
   ]
  },
  {
   "cell_type": "markdown",
   "metadata": {
    "id": "UXtevVGmfcXV"
   },
   "source": [
    "What do some of the feature vectors look like?"
   ]
  },
  {
   "cell_type": "code",
   "execution_count": 4,
   "metadata": {
    "id": "0oTMym0CwVKw"
   },
   "outputs": [
    {
     "name": "stdout",
     "output_type": "stream",
     "text": [
      "[[ 0.03807591  0.05068012  0.06169621  0.02187239 -0.0442235  -0.03482076\n",
      "  -0.04340085 -0.00259226  0.01990749 -0.01764613]\n",
      " [-0.00188202 -0.04464164 -0.05147406 -0.02632753 -0.00844872 -0.01916334\n",
      "   0.07441156 -0.03949338 -0.06833155 -0.09220405]\n",
      " [ 0.08529891  0.05068012  0.04445121 -0.00567042 -0.04559945 -0.03419447\n",
      "  -0.03235593 -0.00259226  0.00286131 -0.02593034]\n",
      " [-0.08906294 -0.04464164 -0.01159501 -0.03665608  0.01219057  0.02499059\n",
      "  -0.03603757  0.03430886  0.02268774 -0.00936191]\n",
      " [ 0.00538306 -0.04464164 -0.03638469  0.02187239  0.00393485  0.01559614\n",
      "   0.00814208 -0.00259226 -0.03198764 -0.04664087]]\n"
     ]
    }
   ],
   "source": [
    "print(diabetes['data'][:5])"
   ]
  },
  {
   "cell_type": "markdown",
   "metadata": {
    "id": "uAbWi8ZmxD5e"
   },
   "source": [
    "Can also access the *data* and *target* through class fields `data` and `target`"
   ]
  },
  {
   "cell_type": "code",
   "execution_count": 5,
   "metadata": {
    "id": "us3GF-Zpwn16"
   },
   "outputs": [
    {
     "name": "stdout",
     "output_type": "stream",
     "text": [
      "[[ 0.03807591  0.05068012  0.06169621  0.02187239 -0.0442235  -0.03482076\n",
      "  -0.04340085 -0.00259226  0.01990749 -0.01764613]\n",
      " [-0.00188202 -0.04464164 -0.05147406 -0.02632753 -0.00844872 -0.01916334\n",
      "   0.07441156 -0.03949338 -0.06833155 -0.09220405]\n",
      " [ 0.08529891  0.05068012  0.04445121 -0.00567042 -0.04559945 -0.03419447\n",
      "  -0.03235593 -0.00259226  0.00286131 -0.02593034]\n",
      " [-0.08906294 -0.04464164 -0.01159501 -0.03665608  0.01219057  0.02499059\n",
      "  -0.03603757  0.03430886  0.02268774 -0.00936191]\n",
      " [ 0.00538306 -0.04464164 -0.03638469  0.02187239  0.00393485  0.01559614\n",
      "   0.00814208 -0.00259226 -0.03198764 -0.04664087]]\n"
     ]
    }
   ],
   "source": [
    "print(diabetes.data[:5])"
   ]
  },
  {
   "cell_type": "markdown",
   "metadata": {
    "id": "exqBF1RAxbpy"
   },
   "source": [
    "What is the output for the first few instances?"
   ]
  },
  {
   "cell_type": "code",
   "execution_count": 6,
   "metadata": {
    "id": "UW9ywkfSxQv9"
   },
   "outputs": [
    {
     "name": "stdout",
     "output_type": "stream",
     "text": [
      "[151.  75. 141. 206. 135.]\n"
     ]
    }
   ],
   "source": [
    "print(diabetes.target[:5])"
   ]
  },
  {
   "cell_type": "markdown",
   "metadata": {
    "id": "tZtP65N2xmlc"
   },
   "source": [
    "## What's with our feature values?\n",
    "The output looks like what we saw in the original data set, but the attributes do not. \n",
    "\n",
    "For instance, for the first patient, their age is 0.038 and their gender is 0.05? \n",
    "\n",
    "*What's going on?*\n",
    "\n",
    "According to the documentation, the data has been scaled so each attribute has zero mean and a variance of 1. \n",
    "\n",
    "https://web.stanford.edu/~hastie/Papers/LARS/diabetes.sdata.txt\n",
    "\n",
    "This is a common scaling technique (*Standard scaling*). \n",
    "\n",
    "https://scikit-learn.org/stable/modules/generated/sklearn.preprocessing.StandardScaler.html\n",
    "\n",
    "We will talk more about different transformation techniques that we can apply to our data in the future.  Here we have some features with large values such as 80-130 (BP) and other others with small values such as 1-2 (sex). We can get poor performance if our attributes have significantly different ranges."
   ]
  },
  {
   "cell_type": "markdown",
   "metadata": {
    "id": "vhseE9XIdM5a"
   },
   "source": [
    "## Only use one feature\n",
    "For an example that is easy to visualize, we will just use one of the features (BMI). Ignoring the other features will mostly likely give us worse predictions. But our goal is to understand what is going on at this point.\n",
    "\n"
   ]
  },
  {
   "cell_type": "code",
   "execution_count": 7,
   "metadata": {
    "id": "nqW6rM_l3HGM"
   },
   "outputs": [],
   "source": [
    "# Use only one feature (BMI). BMI is column 3 (index=2) of the feature vectors.\n",
    "diabetes_X = diabetes.data[:, np.newaxis, 2]"
   ]
  },
  {
   "cell_type": "code",
   "execution_count": 8,
   "metadata": {
    "id": "Pr0wcB_o3PZ-"
   },
   "outputs": [
    {
     "name": "stdout",
     "output_type": "stream",
     "text": [
      "[[ 0.06169621]\n",
      " [-0.05147406]\n",
      " [ 0.04445121]\n",
      " [-0.01159501]\n",
      " [-0.03638469]]\n"
     ]
    }
   ],
   "source": [
    "print(diabetes_X[:5])"
   ]
  },
  {
   "cell_type": "markdown",
   "metadata": {
    "id": "acov5foy2Jfi"
   },
   "source": [
    "## Split our dataset\n",
    "We need to split our dataset into *training* and *test* sets. \n",
    "\n",
    "We split both the feature vectors (`data`) and the output (`target`).\n",
    "\n",
    "\n",
    "*  Training set: used for *learning* the model\n",
    "*   Test set: used for *evaluating* our trained model\n",
    "\n"
   ]
  },
  {
   "cell_type": "code",
   "execution_count": 9,
   "metadata": {
    "id": "MekNyJ7B2qrX"
   },
   "outputs": [
    {
     "name": "stdout",
     "output_type": "stream",
     "text": [
      "Training set size: 353\n",
      "Test set size: 89\n"
     ]
    }
   ],
   "source": [
    "# Split the data into training/testing sets\n",
    "from sklearn.model_selection import train_test_split\n",
    "diabetes_X_train, diabetes_X_test, diabetes_y_train, diabetes_y_test = train_test_split(\n",
    "    diabetes_X, diabetes.target, train_size=0.8, random_state=0)\n",
    "\n",
    "print('Training set size: {}'.format(len(diabetes_X_train)))\n",
    "print('Test set size: {}'.format(len(diabetes_X_test)))"
   ]
  },
  {
   "cell_type": "markdown",
   "metadata": {
    "id": "U0wQp0DwtnoC"
   },
   "source": [
    "## Create instance of the model object\n",
    "Before training, we must create an instance of our linear regression class."
   ]
  },
  {
   "cell_type": "code",
   "execution_count": 10,
   "metadata": {
    "id": "kj09ZkAtuJBP"
   },
   "outputs": [],
   "source": [
    "# Create linear regression object\n",
    "regr = linear_model.LinearRegression()"
   ]
  },
  {
   "cell_type": "markdown",
   "metadata": {
    "id": "uY22B2zkuLb9"
   },
   "source": [
    "## Train the model\n",
    "We train the model on our training set. \n",
    "\n",
    "With Scikit-Learn, *training* is done using the `fit(x,y)` function, where `x` is the list of training feature vectors (*input*) and `y` is the corresponding list of target values (*output*). \n",
    "\n",
    "All classifier and regressor classes inherit the `fit` function."
   ]
  },
  {
   "cell_type": "code",
   "execution_count": 11,
   "metadata": {
    "id": "WSwqxy-Yu8Hh"
   },
   "outputs": [
    {
     "data": {
      "text/html": [
       "<style>#sk-container-id-1 {color: black;}#sk-container-id-1 pre{padding: 0;}#sk-container-id-1 div.sk-toggleable {background-color: white;}#sk-container-id-1 label.sk-toggleable__label {cursor: pointer;display: block;width: 100%;margin-bottom: 0;padding: 0.3em;box-sizing: border-box;text-align: center;}#sk-container-id-1 label.sk-toggleable__label-arrow:before {content: \"▸\";float: left;margin-right: 0.25em;color: #696969;}#sk-container-id-1 label.sk-toggleable__label-arrow:hover:before {color: black;}#sk-container-id-1 div.sk-estimator:hover label.sk-toggleable__label-arrow:before {color: black;}#sk-container-id-1 div.sk-toggleable__content {max-height: 0;max-width: 0;overflow: hidden;text-align: left;background-color: #f0f8ff;}#sk-container-id-1 div.sk-toggleable__content pre {margin: 0.2em;color: black;border-radius: 0.25em;background-color: #f0f8ff;}#sk-container-id-1 input.sk-toggleable__control:checked~div.sk-toggleable__content {max-height: 200px;max-width: 100%;overflow: auto;}#sk-container-id-1 input.sk-toggleable__control:checked~label.sk-toggleable__label-arrow:before {content: \"▾\";}#sk-container-id-1 div.sk-estimator input.sk-toggleable__control:checked~label.sk-toggleable__label {background-color: #d4ebff;}#sk-container-id-1 div.sk-label input.sk-toggleable__control:checked~label.sk-toggleable__label {background-color: #d4ebff;}#sk-container-id-1 input.sk-hidden--visually {border: 0;clip: rect(1px 1px 1px 1px);clip: rect(1px, 1px, 1px, 1px);height: 1px;margin: -1px;overflow: hidden;padding: 0;position: absolute;width: 1px;}#sk-container-id-1 div.sk-estimator {font-family: monospace;background-color: #f0f8ff;border: 1px dotted black;border-radius: 0.25em;box-sizing: border-box;margin-bottom: 0.5em;}#sk-container-id-1 div.sk-estimator:hover {background-color: #d4ebff;}#sk-container-id-1 div.sk-parallel-item::after {content: \"\";width: 100%;border-bottom: 1px solid gray;flex-grow: 1;}#sk-container-id-1 div.sk-label:hover label.sk-toggleable__label {background-color: #d4ebff;}#sk-container-id-1 div.sk-serial::before {content: \"\";position: absolute;border-left: 1px solid gray;box-sizing: border-box;top: 0;bottom: 0;left: 50%;z-index: 0;}#sk-container-id-1 div.sk-serial {display: flex;flex-direction: column;align-items: center;background-color: white;padding-right: 0.2em;padding-left: 0.2em;position: relative;}#sk-container-id-1 div.sk-item {position: relative;z-index: 1;}#sk-container-id-1 div.sk-parallel {display: flex;align-items: stretch;justify-content: center;background-color: white;position: relative;}#sk-container-id-1 div.sk-item::before, #sk-container-id-1 div.sk-parallel-item::before {content: \"\";position: absolute;border-left: 1px solid gray;box-sizing: border-box;top: 0;bottom: 0;left: 50%;z-index: -1;}#sk-container-id-1 div.sk-parallel-item {display: flex;flex-direction: column;z-index: 1;position: relative;background-color: white;}#sk-container-id-1 div.sk-parallel-item:first-child::after {align-self: flex-end;width: 50%;}#sk-container-id-1 div.sk-parallel-item:last-child::after {align-self: flex-start;width: 50%;}#sk-container-id-1 div.sk-parallel-item:only-child::after {width: 0;}#sk-container-id-1 div.sk-dashed-wrapped {border: 1px dashed gray;margin: 0 0.4em 0.5em 0.4em;box-sizing: border-box;padding-bottom: 0.4em;background-color: white;}#sk-container-id-1 div.sk-label label {font-family: monospace;font-weight: bold;display: inline-block;line-height: 1.2em;}#sk-container-id-1 div.sk-label-container {text-align: center;}#sk-container-id-1 div.sk-container {/* jupyter's `normalize.less` sets `[hidden] { display: none; }` but bootstrap.min.css set `[hidden] { display: none !important; }` so we also need the `!important` here to be able to override the default hidden behavior on the sphinx rendered scikit-learn.org. See: https://github.com/scikit-learn/scikit-learn/issues/21755 */display: inline-block !important;position: relative;}#sk-container-id-1 div.sk-text-repr-fallback {display: none;}</style><div id=\"sk-container-id-1\" class=\"sk-top-container\"><div class=\"sk-text-repr-fallback\"><pre>LinearRegression()</pre><b>In a Jupyter environment, please rerun this cell to show the HTML representation or trust the notebook. <br />On GitHub, the HTML representation is unable to render, please try loading this page with nbviewer.org.</b></div><div class=\"sk-container\" hidden><div class=\"sk-item\"><div class=\"sk-estimator sk-toggleable\"><input class=\"sk-toggleable__control sk-hidden--visually\" id=\"sk-estimator-id-1\" type=\"checkbox\" checked><label for=\"sk-estimator-id-1\" class=\"sk-toggleable__label sk-toggleable__label-arrow\">LinearRegression</label><div class=\"sk-toggleable__content\"><pre>LinearRegression()</pre></div></div></div></div></div>"
      ],
      "text/plain": [
       "LinearRegression()"
      ]
     },
     "execution_count": 11,
     "metadata": {},
     "output_type": "execute_result"
    }
   ],
   "source": [
    "# Train the model using the training sets\n",
    "regr.fit(diabetes_X_train, diabetes_y_train)"
   ]
  },
  {
   "cell_type": "code",
   "execution_count": 12,
   "metadata": {
    "id": "-igSZ2qDwFTJ"
   },
   "outputs": [
    {
     "name": "stdout",
     "output_type": "stream",
     "text": [
      "Coefficients: \n",
      " [981.65543614]\n"
     ]
    }
   ],
   "source": [
    "# The coefficients for our line\n",
    "print('Coefficients: \\n', regr.coef_)"
   ]
  },
  {
   "cell_type": "markdown",
   "metadata": {
    "id": "2VWTKlGfu_Ri"
   },
   "source": [
    "## Evaluate the mode (Is it good?)\n",
    "How good is our model in practice? \n",
    "\n",
    "Training gives us a model that minimizes error on the training set. But, if the training set is not representative of the real world, then the model will do poorly in practice."
   ]
  },
  {
   "cell_type": "code",
   "execution_count": 13,
   "metadata": {
    "id": "C29eI8NmdFLI"
   },
   "outputs": [],
   "source": [
    "# Make predictions using the testing set\n",
    "diabetes_y_pred = regr.predict(diabetes_X_test)"
   ]
  },
  {
   "cell_type": "code",
   "execution_count": 14,
   "metadata": {
    "id": "F2810G5sxChV"
   },
   "outputs": [
    {
     "data": {
      "image/png": "[encoded data removed]",
      "text/plain": [
       "<Figure size 640x480 with 1 Axes>"
      ]
     },
     "metadata": {},
     "output_type": "display_data"
    }
   ],
   "source": [
    "# Plot outputs\n",
    "plt.scatter(diabetes_X_test, diabetes_y_test,  color='black')\n",
    "plt.plot(diabetes_X_test, diabetes_y_pred, color='blue', linewidth=3)\n",
    "\n",
    "plt.xticks(())\n",
    "plt.yticks(())\n",
    "\n",
    "plt.show()"
   ]
  },
  {
   "cell_type": "markdown",
   "metadata": {
    "id": "scmAGPhexkUX"
   },
   "source": [
    "## Measuring error\n",
    "While plots are nice, there are many possible lines that fit the data. Some better than others. Visually, it can be difficult to tell which is a better fit. \n",
    "\n",
    "We would like to quantify the error. For this, we will use the *Root Mean Square Error* (RMSE).\n",
    "\n",
    "$$ error = \\sqrt{\\frac{1}{m}\\sum\\limits_{i=1}^{m}{(predicted_i - correct_i)^2}} $$\n",
    "\n",
    "\n",
    "Scikit-Learn has a function for calculating *mean squared error* (MSE). To get RMSE, we just compute the square root of the value returned by this function.\n",
    "\n"
   ]
  },
  {
   "cell_type": "code",
   "execution_count": 15,
   "metadata": {
    "id": "H8K50AtdwgPk"
   },
   "outputs": [
    {
     "name": "stdout",
     "output_type": "stream",
     "text": [
      "Root mean squared error: 64.43\n"
     ]
    }
   ],
   "source": [
    "# The root mean squared error (RMSE)\n",
    "print(\"Root mean squared error: %.2f\"\n",
    "      % np.sqrt(mean_squared_error(diabetes_y_test, diabetes_y_pred)))"
   ]
  },
  {
   "cell_type": "markdown",
   "metadata": {
    "id": "hleauI3N0kk3"
   },
   "source": [
    "## Use all features?\n",
    "With this example, we only used one of the 10 attributes (or features). What if our model used all 10? "
   ]
  },
  {
   "cell_type": "code",
   "execution_count": 16,
   "metadata": {
    "id": "72X_No9NzVFT"
   },
   "outputs": [
    {
     "name": "stdout",
     "output_type": "stream",
     "text": [
      "Root mean squared error: 58.52\n"
     ]
    }
   ],
   "source": [
    "# Split the data into training/testing sets\n",
    "from sklearn.model_selection import train_test_split\n",
    "diabetes_X_train, diabetes_X_test, diabetes_y_train, diabetes_y_test = train_test_split(\n",
    "    diabetes.data, diabetes.target, train_size=0.8, random_state=0)\n",
    "\n",
    "# Create linear regression object\n",
    "regr = linear_model.LinearRegression()\n",
    "\n",
    "# Train the model using the training sets\n",
    "regr.fit(diabetes_X_train, diabetes_y_train)\n",
    "\n",
    "# Make predictions using the testing set\n",
    "diabetes_y_pred = regr.predict(diabetes_X_test)\n",
    "\n",
    "# The root mean squared error (RMSE)\n",
    "print(\"Root mean squared error: %.2f\"\n",
    "      % np.sqrt(mean_squared_error(diabetes_y_test, diabetes_y_pred)))"
   ]
  },
  {
   "cell_type": "markdown",
   "metadata": {
    "id": "KsiWgZfBBcDn"
   },
   "source": [
    "# Homework 2 (part 2) - Regression with synthetic data \n",
    "At times ML practitioners work with *synthetic* or data generated using a given mathematical model. \n",
    "\n",
    "The use of synthetic data allows practioners to control the characteristics of the datasets in order learn the capabilities and limits of given ML algorithms. \n",
    "\n",
    "Here, you will use a model to generate a dataset. Then you will perform regression on this dataset."
   ]
  },
  {
   "cell_type": "markdown",
   "metadata": {
    "id": "ndkS1O5zFd4O"
   },
   "source": [
    "## (1) Generate the data\n",
    "Scikit-learn has various generators for creating datasets with different properties. \n",
    "\n",
    "We will use the `make_regression` function for creating a dataset for testing regression algorithms.\n",
    "\n",
    "For details on `make_regression` see:\n",
    "\n",
    "https://scikit-learn.org/stable/modules/generated/sklearn.datasets.make_regression.html\n",
    "\n",
    "### About the data\n",
    "Our data will have the following properties.\n",
    "1. Number of samples (`n_samples`): 1000\n",
    "2. Number of features (`n_features`): 1 \n",
    "3. Number of output values (`n_targets`): 1\n",
    "4. Standard deviation of gaussian noise added to generated points (`noise`): 5.0\n",
    "\n",
    "We are just generating one feature per sample for the sake of this exercise, so we can easily visualize our data."
   ]
  },
  {
   "cell_type": "code",
   "execution_count": 17,
   "metadata": {
    "id": "UOz8sJkKFcV7"
   },
   "outputs": [],
   "source": [
    "from sklearn.datasets import make_regression\n",
    "\n",
    "# !!! Take note of the following statement. !!!\n",
    "# You will use it later in the lab for datasets with different noise values.\n",
    "data, targets = make_regression(n_samples=1000, n_features=1, n_targets=1, noise=5.0)"
   ]
  },
  {
   "cell_type": "markdown",
   "metadata": {
    "id": "ALTdGV0dHra3"
   },
   "source": [
    "## (2) What does our data look like?"
   ]
  },
  {
   "cell_type": "markdown",
   "metadata": {
    "id": "9_64B6T8c2rb"
   },
   "source": [
    "Display the features for the first 5 points."
   ]
  },
  {
   "cell_type": "code",
   "execution_count": 26,
   "metadata": {
    "id": "GEf4sUhJHv1t"
   },
   "outputs": [
    {
     "name": "stdout",
     "output_type": "stream",
     "text": [
      "[[-1.20944293]\n",
      " [-1.45527327]\n",
      " [-0.17808721]\n",
      " [-0.23870904]\n",
      " [-2.06318427]]\n"
     ]
    }
   ],
   "source": [
    "print(data[:5])"
   ]
  },
  {
   "cell_type": "markdown",
   "metadata": {
    "id": "zVnJLqY7c-BW"
   },
   "source": [
    "Display the output (i.e. targets) for the first 5 points."
   ]
  },
  {
   "cell_type": "code",
   "execution_count": 27,
   "metadata": {
    "id": "BFyApr3BdFif"
   },
   "outputs": [
    {
     "name": "stdout",
     "output_type": "stream",
     "text": [
      "[ -62.60550359  -79.72480927    0.495777    -19.94525393 -112.57979633]\n"
     ]
    }
   ],
   "source": [
    "print(targets[:5])"
   ]
  },
  {
   "cell_type": "markdown",
   "metadata": {
    "id": "cZdyT9avbGjG"
   },
   "source": [
    "## (3) Split the data\n",
    "Split the dataset into training (80%) and test (20%) sets. "
   ]
  },
  {
   "cell_type": "code",
   "execution_count": 29,
   "metadata": {
    "id": "j9kPTY2xbTEB"
   },
   "outputs": [],
   "source": [
    "from sklearn.model_selection import train_test_split\n",
    "data_train, data_test, targets_train, targets_test = train_test_split(data, targets, train_size=0.8, random_state=0)"
   ]
  },
  {
   "cell_type": "markdown",
   "metadata": {
    "id": "nwyu-KElbefy"
   },
   "source": [
    "Display the sizes of the training and test sets.\n",
    "\n",
    "*(you should have 800 training instances and 200 test instances)*"
   ]
  },
  {
   "cell_type": "code",
   "execution_count": 30,
   "metadata": {
    "id": "oOZIQN06bfqV"
   },
   "outputs": [
    {
     "name": "stdout",
     "output_type": "stream",
     "text": [
      "Training set size: 800\n",
      "Test set size: 200\n"
     ]
    }
   ],
   "source": [
    "print('Training set size: {}'.format(len(data_train)))\n",
    "print('Test set size: {}'.format(len(data_test)))"
   ]
  },
  {
   "cell_type": "markdown",
   "metadata": {
    "id": "YMhUaBOQblgL"
   },
   "source": [
    "## (4) Train the model\n",
    "Train a linear regression model on your training set."
   ]
  },
  {
   "cell_type": "code",
   "execution_count": 31,
   "metadata": {
    "id": "gxwxWyqJbw6h"
   },
   "outputs": [],
   "source": [
    "# create the model\n",
    "regr = linear_model.LinearRegression()\n"
   ]
  },
  {
   "cell_type": "code",
   "execution_count": 32,
   "metadata": {
    "id": "A-kJZX0sb8eA"
   },
   "outputs": [
    {
     "data": {
      "text/html": [
       "<style>#sk-container-id-2 {color: black;}#sk-container-id-2 pre{padding: 0;}#sk-container-id-2 div.sk-toggleable {background-color: white;}#sk-container-id-2 label.sk-toggleable__label {cursor: pointer;display: block;width: 100%;margin-bottom: 0;padding: 0.3em;box-sizing: border-box;text-align: center;}#sk-container-id-2 label.sk-toggleable__label-arrow:before {content: \"▸\";float: left;margin-right: 0.25em;color: #696969;}#sk-container-id-2 label.sk-toggleable__label-arrow:hover:before {color: black;}#sk-container-id-2 div.sk-estimator:hover label.sk-toggleable__label-arrow:before {color: black;}#sk-container-id-2 div.sk-toggleable__content {max-height: 0;max-width: 0;overflow: hidden;text-align: left;background-color: #f0f8ff;}#sk-container-id-2 div.sk-toggleable__content pre {margin: 0.2em;color: black;border-radius: 0.25em;background-color: #f0f8ff;}#sk-container-id-2 input.sk-toggleable__control:checked~div.sk-toggleable__content {max-height: 200px;max-width: 100%;overflow: auto;}#sk-container-id-2 input.sk-toggleable__control:checked~label.sk-toggleable__label-arrow:before {content: \"▾\";}#sk-container-id-2 div.sk-estimator input.sk-toggleable__control:checked~label.sk-toggleable__label {background-color: #d4ebff;}#sk-container-id-2 div.sk-label input.sk-toggleable__control:checked~label.sk-toggleable__label {background-color: #d4ebff;}#sk-container-id-2 input.sk-hidden--visually {border: 0;clip: rect(1px 1px 1px 1px);clip: rect(1px, 1px, 1px, 1px);height: 1px;margin: -1px;overflow: hidden;padding: 0;position: absolute;width: 1px;}#sk-container-id-2 div.sk-estimator {font-family: monospace;background-color: #f0f8ff;border: 1px dotted black;border-radius: 0.25em;box-sizing: border-box;margin-bottom: 0.5em;}#sk-container-id-2 div.sk-estimator:hover {background-color: #d4ebff;}#sk-container-id-2 div.sk-parallel-item::after {content: \"\";width: 100%;border-bottom: 1px solid gray;flex-grow: 1;}#sk-container-id-2 div.sk-label:hover label.sk-toggleable__label {background-color: #d4ebff;}#sk-container-id-2 div.sk-serial::before {content: \"\";position: absolute;border-left: 1px solid gray;box-sizing: border-box;top: 0;bottom: 0;left: 50%;z-index: 0;}#sk-container-id-2 div.sk-serial {display: flex;flex-direction: column;align-items: center;background-color: white;padding-right: 0.2em;padding-left: 0.2em;position: relative;}#sk-container-id-2 div.sk-item {position: relative;z-index: 1;}#sk-container-id-2 div.sk-parallel {display: flex;align-items: stretch;justify-content: center;background-color: white;position: relative;}#sk-container-id-2 div.sk-item::before, #sk-container-id-2 div.sk-parallel-item::before {content: \"\";position: absolute;border-left: 1px solid gray;box-sizing: border-box;top: 0;bottom: 0;left: 50%;z-index: -1;}#sk-container-id-2 div.sk-parallel-item {display: flex;flex-direction: column;z-index: 1;position: relative;background-color: white;}#sk-container-id-2 div.sk-parallel-item:first-child::after {align-self: flex-end;width: 50%;}#sk-container-id-2 div.sk-parallel-item:last-child::after {align-self: flex-start;width: 50%;}#sk-container-id-2 div.sk-parallel-item:only-child::after {width: 0;}#sk-container-id-2 div.sk-dashed-wrapped {border: 1px dashed gray;margin: 0 0.4em 0.5em 0.4em;box-sizing: border-box;padding-bottom: 0.4em;background-color: white;}#sk-container-id-2 div.sk-label label {font-family: monospace;font-weight: bold;display: inline-block;line-height: 1.2em;}#sk-container-id-2 div.sk-label-container {text-align: center;}#sk-container-id-2 div.sk-container {/* jupyter's `normalize.less` sets `[hidden] { display: none; }` but bootstrap.min.css set `[hidden] { display: none !important; }` so we also need the `!important` here to be able to override the default hidden behavior on the sphinx rendered scikit-learn.org. See: https://github.com/scikit-learn/scikit-learn/issues/21755 */display: inline-block !important;position: relative;}#sk-container-id-2 div.sk-text-repr-fallback {display: none;}</style><div id=\"sk-container-id-2\" class=\"sk-top-container\"><div class=\"sk-text-repr-fallback\"><pre>LinearRegression()</pre><b>In a Jupyter environment, please rerun this cell to show the HTML representation or trust the notebook. <br />On GitHub, the HTML representation is unable to render, please try loading this page with nbviewer.org.</b></div><div class=\"sk-container\" hidden><div class=\"sk-item\"><div class=\"sk-estimator sk-toggleable\"><input class=\"sk-toggleable__control sk-hidden--visually\" id=\"sk-estimator-id-2\" type=\"checkbox\" checked><label for=\"sk-estimator-id-2\" class=\"sk-toggleable__label sk-toggleable__label-arrow\">LinearRegression</label><div class=\"sk-toggleable__content\"><pre>LinearRegression()</pre></div></div></div></div></div>"
      ],
      "text/plain": [
       "LinearRegression()"
      ]
     },
     "execution_count": 32,
     "metadata": {},
     "output_type": "execute_result"
    }
   ],
   "source": [
    "# train model\n",
    "regr.fit(data_train, targets_train)\n"
   ]
  },
  {
   "cell_type": "markdown",
   "metadata": {
    "id": "mxHZ8deqcGrV"
   },
   "source": [
    "## (5) Evaluate the trained model\n",
    "Output your model's error (RMSE) on the test set."
   ]
  },
  {
   "cell_type": "code",
   "execution_count": 33,
   "metadata": {
    "id": "zXkT4PdjcHpe"
   },
   "outputs": [
    {
     "name": "stdout",
     "output_type": "stream",
     "text": [
      "Root mean squared error: 4.96\n"
     ]
    }
   ],
   "source": [
    "# Make predictions using the testing set\n",
    "targets_pred = regr.predict(data_test)\n",
    "\n",
    "# The root mean squared error (RMSE)\n",
    "print(\"Root mean squared error: %.2f\"\n",
    "      % np.sqrt(mean_squared_error(targets_test, targets_pred)))\n",
    "\n"
   ]
  },
  {
   "cell_type": "markdown",
   "metadata": {
    "id": "rTmH1dZogb6f"
   },
   "source": [
    "As we did earlier with the diabetes dataset, plot the samples in the test set along with the predicted values."
   ]
  },
  {
   "cell_type": "code",
   "execution_count": 40,
   "metadata": {
    "id": "-0HvpgaEchSu"
   },
   "outputs": [
    {
     "data": {
      "image/png": "[encoded data removed]",
      "text/plain": [
       "<Figure size 640x480 with 1 Axes>"
      ]
     },
     "metadata": {},
     "output_type": "display_data"
    }
   ],
   "source": [
    "# Plot outputs\n",
    "\n",
    "plt.scatter(data_test, targets_test,  color='black')\n",
    "plt.plot(data_test, targets_pred, color='blue', linewidth=3)\n",
    "\n",
    "plt.xticks(())\n",
    "plt.yticks(())\n",
    "\n",
    "plt.show()\n"
   ]
  },
  {
   "cell_type": "markdown",
   "metadata": {
    "id": "se7VK4nPeF0D"
   },
   "source": [
    "## (6) Repeat with different amounts of noise\n",
    "\n",
    "Repeat the steps you just did with data generated with `noise=10.0` and `noise=0.5`.\n",
    "\n",
    "1. What is the error with data generated with noise = 10.0?\n"
   ]
  },
  {
   "cell_type": "code",
   "execution_count": 47,
   "metadata": {
    "id": "pmQa86Mce30Q"
   },
   "outputs": [
    {
     "name": "stdout",
     "output_type": "stream",
     "text": [
      "Root mean squared error: 10.01\n"
     ]
    },
    {
     "data": {
      "image/png": "[encoded data removed]",
      "text/plain": [
       "<Figure size 640x480 with 1 Axes>"
      ]
     },
     "metadata": {},
     "output_type": "display_data"
    }
   ],
   "source": [
    "# create the data\n",
    "from sklearn.datasets import make_regression\n",
    "data, targets = make_regression(n_samples=1000, n_features=1, n_targets=1, noise=10.0)\n",
    "\n",
    "# split the data\n",
    "from sklearn.model_selection import train_test_split\n",
    "data_train, data_test, targets_train, targets_test = train_test_split(data, targets, train_size=0.8, random_state=0)\n",
    "\n",
    "# create the model\n",
    "regr = linear_model.LinearRegression()\n",
    "\n",
    "# train model\n",
    "regr.fit(data_train, targets_train)\n",
    "\n",
    "# Make predictions using the testing set\n",
    "targets_pred = regr.predict(data_test)\n",
    "\n",
    "# The root mean squared error (RMSE)\n",
    "print(\"Root mean squared error: %.2f\"\n",
    "      % np.sqrt(mean_squared_error(targets_test, targets_pred)))\n",
    "\n",
    "# Plot outputs\n",
    "plt.scatter(data_test, targets_test,  color='black')\n",
    "plt.plot(data_test, targets_pred, color='blue', linewidth=3)\n",
    "\n",
    "plt.xticks(())\n",
    "plt.yticks(())\n",
    "\n",
    "plt.show()"
   ]
  },
  {
   "cell_type": "markdown",
   "metadata": {
    "id": "uyvW0wmngO6c"
   },
   "source": [
    "2. What is the error with data generated with noise = 0.5?"
   ]
  },
  {
   "cell_type": "code",
   "execution_count": 52,
   "metadata": {
    "id": "kbiEm3AdfX77"
   },
   "outputs": [
    {
     "name": "stdout",
     "output_type": "stream",
     "text": [
      "Root mean squared error: 0.54\n"
     ]
    },
    {
     "data": {
      "image/png": "[encoded data removed]",
      "text/plain": [
       "<Figure size 640x480 with 1 Axes>"
      ]
     },
     "metadata": {},
     "output_type": "display_data"
    }
   ],
   "source": [
    "# create the data\n",
    "from sklearn.datasets import make_regression\n",
    "data, targets = make_regression(n_samples=1000, n_features=1, n_targets=1, noise=0.5)\n",
    "\n",
    "# split the data\n",
    "from sklearn.model_selection import train_test_split\n",
    "data_train, data_test, targets_train, targets_test = train_test_split(data, targets, train_size=0.8, random_state=0)\n",
    "\n",
    "# create the model\n",
    "regr = linear_model.LinearRegression()\n",
    "\n",
    "# train model\n",
    "regr.fit(data_train, targets_train)\n",
    "\n",
    "# Make predictions using the testing set\n",
    "targets_pred = regr.predict(data_test)\n",
    "\n",
    "# The root mean squared error (RMSE)\n",
    "print(\"Root mean squared error: %.2f\"\n",
    "      % np.sqrt(mean_squared_error(targets_test, targets_pred)))\n",
    "\n",
    "# Plot outputs\n",
    "plt.scatter(data_test, targets_test,  color='black')\n",
    "plt.plot(data_test, targets_pred, color='blue', linewidth=3)\n",
    "\n",
    "plt.xticks(())\n",
    "plt.yticks(())\n",
    "\n",
    "plt.show()\n"
   ]
  },
  {
   "cell_type": "markdown",
   "metadata": {
    "id": "1CRBmoELg5OZ"
   },
   "source": [
    "3. Do you notice a pattern with the error with these three experiments?\n"
   ]
  },
  {
   "cell_type": "markdown",
   "metadata": {
    "id": "zuOQcLl9OQlo"
   },
   "source": [
    "Yes the error has a proportional relation to the noise, increases when the noise increases and decreases when it does as well."
   ]
  },
  {
   "cell_type": "markdown",
   "metadata": {
    "id": "0mHX-pv7YS8_"
   },
   "source": [
    "## (7) Given the linear model\n",
    "\n",
    "$$ w = [ -1, 3, 2]^T $$\n",
    "\n",
    "Suppose our features are $x_0$ = 1, $x_1$ = age, $x_2$ = BMI, what is the predicted output for the following patient?\n",
    "\n",
    "- Age = 53\n",
    "- BMI = 27\n"
   ]
  },
  {
   "cell_type": "markdown",
   "metadata": {
    "id": "1ZBMBfZdYXlm"
   },
   "source": [
    "\n",
    "212"
   ]
  }
 ],
 "metadata": {
  "colab": {
   "collapsed_sections": [],
   "name": "L02-diabetes-regression.ipynb",
   "provenance": [],
   "toc_visible": true
  },
  "kernelspec": {
   "display_name": "Python 3 (ipykernel)",
   "language": "python",
   "name": "python3"
  },
  "language_info": {
   "codemirror_mode": {
    "name": "ipython",
    "version": 3
   },
   "file_extension": ".py",
   "mimetype": "text/x-python",
   "name": "python",
   "nbconvert_exporter": "python",
   "pygments_lexer": "ipython3",
   "version": "3.9.5"
  }
 },
 "nbformat": 4,
 "nbformat_minor": 4
}
