{
 "cells": [
  {
   "cell_type": "markdown",
   "metadata": {},
   "source": [
    "# Binary classification\n"
   ]
  },
  {
   "cell_type": "code",
   "execution_count": 10,
   "metadata": {},
   "outputs": [],
   "source": [
    "import numpy as np\n",
    "import matplotlib.pyplot as plt\n",
    "import pandas as pd\n",
    "import tensorflow as tf\n",
    "from tensorflow.keras.models import Sequential\n",
    "from tensorflow.keras.layers import Dense"
   ]
  },
  {
   "cell_type": "markdown",
   "metadata": {},
   "source": [
    "# Dataset"
   ]
  },
  {
   "cell_type": "code",
   "execution_count": 11,
   "metadata": {},
   "outputs": [
    {
     "name": "stdout",
     "output_type": "stream",
     "text": [
      "   Id  SepalLengthCm  SepalWidthCm  PetalLengthCm  PetalWidthCm  \\\n",
      "0  36            5.0           3.2            1.2           0.2   \n",
      "1  87            6.7           3.1            4.7           1.5   \n",
      "2  50            5.0           3.3            1.4           0.2   \n",
      "3  95            5.6           2.7            4.2           1.3   \n",
      "4  35            4.9           3.1            1.5           0.1   \n",
      "\n",
      "           Species  \n",
      "0      Iris-setosa  \n",
      "1  Iris-versicolor  \n",
      "2      Iris-setosa  \n",
      "3  Iris-versicolor  \n",
      "4      Iris-setosa  \n"
     ]
    }
   ],
   "source": [
    "path = \"./datasets/\"\n",
    "dataset = pd.read_csv(path+'Iris.csv')\n",
    "dataset = dataset[:100]\n",
    "\n",
    "data = dataset.sample(frac=1).reset_index(drop=True)\n",
    "print(data[:5])"
   ]
  },
  {
   "cell_type": "code",
   "execution_count": 13,
   "metadata": {},
   "outputs": [
    {
     "name": "stdout",
     "output_type": "stream",
     "text": [
      "     Id  SepalLengthCm  SepalWidthCm  PetalLengthCm  PetalWidthCm  Species\n",
      "0  36.0            5.0           3.2            1.2           0.2      0.0\n",
      "1  87.0            6.7           3.1            4.7           1.5      1.0\n",
      "2  50.0            5.0           3.3            1.4           0.2      0.0\n",
      "3  95.0            5.6           2.7            4.2           1.3      1.0\n",
      "4  35.0            4.9           3.1            1.5           0.1      0.0\n",
      "5  78.0            6.7           3.0            5.0           1.7      1.0\n",
      "6  75.0            6.4           2.9            4.3           1.3      1.0\n",
      "7  82.0            5.5           2.4            3.7           1.0      1.0\n",
      "8  24.0            5.1           3.3            1.7           0.5      0.0\n",
      "9  40.0            5.1           3.4            1.5           0.2      0.0\n"
     ]
    }
   ],
   "source": [
    "data[\"Species\"] = data[\"Species\"].apply(lambda x: x.replace(\"Iris-setosa\", \"0\"))\n",
    "data[\"Species\"] = data[\"Species\"].apply(lambda x: x.replace(\"Iris-versicolor\", \"1\"))\n",
    "data = data.astype(float)\n",
    "print(data[:10])"
   ]
  },
  {
   "cell_type": "code",
   "execution_count": 14,
   "metadata": {},
   "outputs": [
    {
     "name": "stdout",
     "output_type": "stream",
     "text": [
      "[[5.  3.2 1.2 0.2]\n",
      " [6.7 3.1 4.7 1.5]\n",
      " [5.  3.3 1.4 0.2]\n",
      " [5.6 2.7 4.2 1.3]\n",
      " [4.9 3.1 1.5 0.1]]\n",
      "[[0]\n",
      " [1]\n",
      " [0]\n",
      " [1]\n",
      " [0]]\n",
      "(100, 4)\n",
      "(100, 1)\n"
     ]
    }
   ],
   "source": [
    "X = data.iloc[:, 1:5].values\n",
    "y = data.iloc[:, 5:6].values\n",
    "y = y.astype(int)\n",
    "print(X[:5])\n",
    "print(y[:5])\n",
    "\n",
    "print(np.shape(X))  \n",
    "print(np.shape(y))"
   ]
  },
  {
   "cell_type": "code",
   "execution_count": 15,
   "metadata": {},
   "outputs": [
    {
     "name": "stdout",
     "output_type": "stream",
     "text": [
      "100\n",
      "80\n",
      "20\n"
     ]
    }
   ],
   "source": [
    "from sklearn.model_selection import train_test_split\n",
    "\n",
    "X_train, X_test, y_train, y_test = train_test_split(X, y, test_size=.2, random_state=10)\n",
    "\n",
    "print(len(data))\n",
    "print(len(X_train))\n",
    "print(len(X_test))\n"
   ]
  },
  {
   "cell_type": "markdown",
   "metadata": {},
   "source": [
    "# Tensor Flow Model"
   ]
  },
  {
   "cell_type": "code",
   "execution_count": 19,
   "metadata": {},
   "outputs": [],
   "source": [
    "model = Sequential(\n",
    "    [\n",
    "        Dense(4, activation=\"relu\", name=\"layer1\"),\n",
    "        Dense(1, activation=\"sigmoid\", name=\"layer2\")\n",
    "    ]\n",
    ")"
   ]
  },
  {
   "cell_type": "code",
   "execution_count": 20,
   "metadata": {},
   "outputs": [],
   "source": [
    "model.compile(\n",
    "    loss= tf.keras.losses.BinaryCrossentropy(),\n",
    "    optimizer= tf.keras.optimizers.Adam(0.01),\n",
    ")"
   ]
  },
  {
   "cell_type": "code",
   "execution_count": 21,
   "metadata": {},
   "outputs": [
    {
     "name": "stdout",
     "output_type": "stream",
     "text": [
      "Epoch 1/100\n",
      "3/3 [==============================] - 1s 5ms/step - loss: 1.2393\n",
      "Epoch 2/100\n",
      "3/3 [==============================] - 0s 3ms/step - loss: 1.0704\n",
      "Epoch 3/100\n",
      "3/3 [==============================] - 0s 3ms/step - loss: 0.9662\n",
      "Epoch 4/100\n",
      "3/3 [==============================] - 0s 4ms/step - loss: 0.8940\n",
      "Epoch 5/100\n",
      "3/3 [==============================] - 0s 3ms/step - loss: 0.8158\n",
      "Epoch 6/100\n",
      "3/3 [==============================] - 0s 5ms/step - loss: 0.7409\n",
      "Epoch 7/100\n",
      "3/3 [==============================] - 0s 3ms/step - loss: 0.6790\n",
      "Epoch 8/100\n",
      "3/3 [==============================] - 0s 3ms/step - loss: 0.6216\n",
      "Epoch 9/100\n",
      "3/3 [==============================] - 0s 19ms/step - loss: 0.5673\n",
      "Epoch 10/100\n",
      "3/3 [==============================] - 0s 3ms/step - loss: 0.5160\n",
      "Epoch 11/100\n",
      "3/3 [==============================] - 0s 3ms/step - loss: 0.4698\n",
      "Epoch 12/100\n",
      "3/3 [==============================] - 0s 5ms/step - loss: 0.4266\n",
      "Epoch 13/100\n",
      "3/3 [==============================] - 0s 2ms/step - loss: 0.3845\n",
      "Epoch 14/100\n",
      "3/3 [==============================] - 0s 3ms/step - loss: 0.3465\n",
      "Epoch 15/100\n",
      "3/3 [==============================] - 0s 3ms/step - loss: 0.3119\n",
      "Epoch 16/100\n",
      "3/3 [==============================] - 0s 3ms/step - loss: 0.2804\n",
      "Epoch 17/100\n",
      "3/3 [==============================] - 0s 2ms/step - loss: 0.2510\n",
      "Epoch 18/100\n",
      "3/3 [==============================] - 0s 4ms/step - loss: 0.2240\n",
      "Epoch 19/100\n",
      "3/3 [==============================] - 0s 3ms/step - loss: 0.2006\n",
      "Epoch 20/100\n",
      "3/3 [==============================] - 0s 4ms/step - loss: 0.1788\n",
      "Epoch 21/100\n",
      "3/3 [==============================] - 0s 4ms/step - loss: 0.1602\n",
      "Epoch 22/100\n",
      "3/3 [==============================] - 0s 2ms/step - loss: 0.1435\n",
      "Epoch 23/100\n",
      "3/3 [==============================] - 0s 3ms/step - loss: 0.1290\n",
      "Epoch 24/100\n",
      "3/3 [==============================] - 0s 3ms/step - loss: 0.1156\n",
      "Epoch 25/100\n",
      "3/3 [==============================] - 0s 3ms/step - loss: 0.1046\n",
      "Epoch 26/100\n",
      "3/3 [==============================] - 0s 3ms/step - loss: 0.0944\n",
      "Epoch 27/100\n",
      "3/3 [==============================] - 0s 3ms/step - loss: 0.0857\n",
      "Epoch 28/100\n",
      "3/3 [==============================] - 0s 3ms/step - loss: 0.0779\n",
      "Epoch 29/100\n",
      "3/3 [==============================] - 0s 3ms/step - loss: 0.0713\n",
      "Epoch 30/100\n",
      "3/3 [==============================] - 0s 3ms/step - loss: 0.0654\n",
      "Epoch 31/100\n",
      "3/3 [==============================] - 0s 3ms/step - loss: 0.0601\n",
      "Epoch 32/100\n",
      "3/3 [==============================] - 0s 3ms/step - loss: 0.0557\n",
      "Epoch 33/100\n",
      "3/3 [==============================] - 0s 3ms/step - loss: 0.0515\n",
      "Epoch 34/100\n",
      "3/3 [==============================] - 0s 3ms/step - loss: 0.0479\n",
      "Epoch 35/100\n",
      "3/3 [==============================] - 0s 4ms/step - loss: 0.0446\n",
      "Epoch 36/100\n",
      "3/3 [==============================] - 0s 2ms/step - loss: 0.0418\n",
      "Epoch 37/100\n",
      "3/3 [==============================] - 0s 3ms/step - loss: 0.0390\n",
      "Epoch 38/100\n",
      "3/3 [==============================] - 0s 3ms/step - loss: 0.0367\n",
      "Epoch 39/100\n",
      "3/3 [==============================] - 0s 3ms/step - loss: 0.0345\n",
      "Epoch 40/100\n",
      "3/3 [==============================] - 0s 3ms/step - loss: 0.0326\n",
      "Epoch 41/100\n",
      "3/3 [==============================] - 0s 3ms/step - loss: 0.0308\n",
      "Epoch 42/100\n",
      "3/3 [==============================] - 0s 2ms/step - loss: 0.0292\n",
      "Epoch 43/100\n",
      "3/3 [==============================] - 0s 3ms/step - loss: 0.0277\n",
      "Epoch 44/100\n",
      "3/3 [==============================] - 0s 2ms/step - loss: 0.0263\n",
      "Epoch 45/100\n",
      "3/3 [==============================] - 0s 3ms/step - loss: 0.0250\n",
      "Epoch 46/100\n",
      "3/3 [==============================] - 0s 3ms/step - loss: 0.0238\n",
      "Epoch 47/100\n",
      "3/3 [==============================] - 0s 3ms/step - loss: 0.0227\n",
      "Epoch 48/100\n",
      "3/3 [==============================] - 0s 3ms/step - loss: 0.0217\n",
      "Epoch 49/100\n",
      "3/3 [==============================] - 0s 3ms/step - loss: 0.0208\n",
      "Epoch 50/100\n",
      "3/3 [==============================] - 0s 3ms/step - loss: 0.0200\n",
      "Epoch 51/100\n",
      "3/3 [==============================] - 0s 3ms/step - loss: 0.0192\n",
      "Epoch 52/100\n",
      "3/3 [==============================] - 0s 3ms/step - loss: 0.0184\n",
      "Epoch 53/100\n",
      "3/3 [==============================] - 0s 2ms/step - loss: 0.0177\n",
      "Epoch 54/100\n",
      "3/3 [==============================] - 0s 3ms/step - loss: 0.0170\n",
      "Epoch 55/100\n",
      "3/3 [==============================] - 0s 2ms/step - loss: 0.0163\n",
      "Epoch 56/100\n",
      "3/3 [==============================] - 0s 3ms/step - loss: 0.0158\n",
      "Epoch 57/100\n",
      "3/3 [==============================] - 0s 3ms/step - loss: 0.0152\n",
      "Epoch 58/100\n",
      "3/3 [==============================] - 0s 3ms/step - loss: 0.0147\n",
      "Epoch 59/100\n",
      "3/3 [==============================] - 0s 3ms/step - loss: 0.0142\n",
      "Epoch 60/100\n",
      "3/3 [==============================] - 0s 3ms/step - loss: 0.0137\n",
      "Epoch 61/100\n",
      "3/3 [==============================] - 0s 3ms/step - loss: 0.0133\n",
      "Epoch 62/100\n",
      "3/3 [==============================] - 0s 3ms/step - loss: 0.0129\n",
      "Epoch 63/100\n",
      "3/3 [==============================] - 0s 3ms/step - loss: 0.0125\n",
      "Epoch 64/100\n",
      "3/3 [==============================] - 0s 3ms/step - loss: 0.0121\n",
      "Epoch 65/100\n",
      "3/3 [==============================] - 0s 3ms/step - loss: 0.0117\n",
      "Epoch 66/100\n",
      "3/3 [==============================] - 0s 3ms/step - loss: 0.0114\n",
      "Epoch 67/100\n",
      "3/3 [==============================] - 0s 3ms/step - loss: 0.0110\n",
      "Epoch 68/100\n",
      "3/3 [==============================] - 0s 3ms/step - loss: 0.0107\n",
      "Epoch 69/100\n",
      "3/3 [==============================] - 0s 3ms/step - loss: 0.0104\n",
      "Epoch 70/100\n",
      "3/3 [==============================] - 0s 4ms/step - loss: 0.0101\n",
      "Epoch 71/100\n",
      "3/3 [==============================] - 0s 3ms/step - loss: 0.0098\n",
      "Epoch 72/100\n",
      "3/3 [==============================] - 0s 2ms/step - loss: 0.0096\n",
      "Epoch 73/100\n",
      "3/3 [==============================] - 0s 11ms/step - loss: 0.0093\n",
      "Epoch 74/100\n",
      "3/3 [==============================] - 0s 3ms/step - loss: 0.0091\n",
      "Epoch 75/100\n",
      "3/3 [==============================] - 0s 4ms/step - loss: 0.0088\n",
      "Epoch 76/100\n",
      "3/3 [==============================] - 0s 4ms/step - loss: 0.0086\n",
      "Epoch 77/100\n",
      "3/3 [==============================] - 0s 2ms/step - loss: 0.0084\n",
      "Epoch 78/100\n",
      "3/3 [==============================] - 0s 3ms/step - loss: 0.0082\n",
      "Epoch 79/100\n",
      "3/3 [==============================] - 0s 4ms/step - loss: 0.0080\n",
      "Epoch 80/100\n",
      "3/3 [==============================] - 0s 3ms/step - loss: 0.0078\n",
      "Epoch 81/100\n",
      "3/3 [==============================] - 0s 3ms/step - loss: 0.0076\n",
      "Epoch 82/100\n",
      "3/3 [==============================] - 0s 4ms/step - loss: 0.0074\n",
      "Epoch 83/100\n",
      "3/3 [==============================] - 0s 3ms/step - loss: 0.0073\n",
      "Epoch 84/100\n",
      "3/3 [==============================] - 0s 3ms/step - loss: 0.0071\n",
      "Epoch 85/100\n",
      "3/3 [==============================] - 0s 3ms/step - loss: 0.0069\n",
      "Epoch 86/100\n",
      "3/3 [==============================] - 0s 3ms/step - loss: 0.0068\n",
      "Epoch 87/100\n",
      "3/3 [==============================] - 0s 3ms/step - loss: 0.0067\n",
      "Epoch 88/100\n",
      "3/3 [==============================] - 0s 3ms/step - loss: 0.0065\n",
      "Epoch 89/100\n",
      "3/3 [==============================] - 0s 4ms/step - loss: 0.0064\n",
      "Epoch 90/100\n",
      "3/3 [==============================] - 0s 2ms/step - loss: 0.0062\n",
      "Epoch 91/100\n",
      "3/3 [==============================] - 0s 3ms/step - loss: 0.0061\n",
      "Epoch 92/100\n",
      "3/3 [==============================] - 0s 3ms/step - loss: 0.0060\n",
      "Epoch 93/100\n",
      "3/3 [==============================] - 0s 3ms/step - loss: 0.0059\n",
      "Epoch 94/100\n",
      "3/3 [==============================] - 0s 2ms/step - loss: 0.0057\n",
      "Epoch 95/100\n",
      "3/3 [==============================] - 0s 3ms/step - loss: 0.0056\n",
      "Epoch 96/100\n",
      "3/3 [==============================] - 0s 2ms/step - loss: 0.0055\n",
      "Epoch 97/100\n",
      "3/3 [==============================] - 0s 3ms/step - loss: 0.0054\n",
      "Epoch 98/100\n",
      "3/3 [==============================] - 0s 4ms/step - loss: 0.0053\n",
      "Epoch 99/100\n",
      "3/3 [==============================] - 0s 2ms/step - loss: 0.0052\n",
      "Epoch 100/100\n",
      "3/3 [==============================] - 0s 2ms/step - loss: 0.0051\n"
     ]
    },
    {
     "data": {
      "text/plain": [
       "<keras.src.callbacks.History at 0x1b738c03ca0>"
      ]
     },
     "execution_count": 21,
     "metadata": {},
     "output_type": "execute_result"
    }
   ],
   "source": [
    "model.fit(X_train, y_train, epochs=100)"
   ]
  },
  {
   "cell_type": "code",
   "execution_count": 22,
   "metadata": {},
   "outputs": [
    {
     "name": "stdout",
     "output_type": "stream",
     "text": [
      "Model: \"sequential_1\"\n",
      "_________________________________________________________________\n",
      " Layer (type)                Output Shape              Param #   \n",
      "=================================================================\n",
      " layer1 (Dense)              (None, 4)                 20        \n",
      "                                                                 \n",
      " layer2 (Dense)              (None, 1)                 5         \n",
      "                                                                 \n",
      "=================================================================\n",
      "Total params: 25 (100.00 Byte)\n",
      "Trainable params: 25 (100.00 Byte)\n",
      "Non-trainable params: 0 (0.00 Byte)\n",
      "_________________________________________________________________\n"
     ]
    }
   ],
   "source": [
    "model.summary()"
   ]
  },
  {
   "cell_type": "code",
   "execution_count": 23,
   "metadata": {},
   "outputs": [
    {
     "name": "stdout",
     "output_type": "stream",
     "text": [
      "L1 num params:  20  L2 num params:  5\n"
     ]
    }
   ],
   "source": [
    "L1_num_params = 4*4 + 4\n",
    "L2_num_params = 4*1 + 1\n",
    "print(\"L1 num params: \", L1_num_params, \" L2 num params: \", L2_num_params)"
   ]
  },
  {
   "cell_type": "markdown",
   "metadata": {},
   "source": [
    "# Performance Analysis"
   ]
  },
  {
   "cell_type": "code",
   "execution_count": 25,
   "metadata": {},
   "outputs": [
    {
     "name": "stdout",
     "output_type": "stream",
     "text": [
      "1/1 [==============================] - 0s 20ms/step\n",
      "Accuracy: 100.00%\n"
     ]
    }
   ],
   "source": [
    "predictions = model.predict(X_test)\n",
    "accuracy = tf.keras.metrics.CategoricalAccuracy()(y_test, predictions).numpy()\n",
    "print(f'Accuracy: {accuracy*100:.2f}%')"
   ]
  },
  {
   "cell_type": "code",
   "execution_count": 26,
   "metadata": {},
   "outputs": [
    {
     "name": "stdout",
     "output_type": "stream",
     "text": [
      "Actual: 0 - Pred: 0\n",
      "Actual: 0 - Pred: 0\n",
      "Actual: 0 - Pred: 0\n",
      "Actual: 1 - Pred: 1\n",
      "Actual: 1 - Pred: 1\n",
      "Actual: 1 - Pred: 1\n",
      "Actual: 0 - Pred: 0\n",
      "Actual: 1 - Pred: 1\n",
      "Actual: 1 - Pred: 1\n",
      "Actual: 1 - Pred: 1\n",
      "Actual: 0 - Pred: 0\n",
      "Actual: 1 - Pred: 1\n",
      "Actual: 0 - Pred: 0\n",
      "Actual: 1 - Pred: 1\n",
      "Actual: 0 - Pred: 0\n",
      "Actual: 1 - Pred: 1\n",
      "Actual: 1 - Pred: 1\n",
      "Actual: 1 - Pred: 1\n",
      "Actual: 1 - Pred: 1\n",
      "Actual: 1 - Pred: 1\n"
     ]
    },
    {
     "name": "stderr",
     "output_type": "stream",
     "text": [
      "C:\\Users\\Kaleb\\AppData\\Local\\Temp\\ipykernel_3352\\574348693.py:4: DeprecationWarning: Conversion of an array with ndim > 0 to a scalar is deprecated, and will error in future. Ensure you extract a single element from your array before performing this operation. (Deprecated NumPy 1.25.)\n",
      "  print(f'Actual: %d - Pred: %d'%(y_test[i], binaryPred[i]))\n"
     ]
    }
   ],
   "source": [
    "binaryPred = (predictions > 0.5).astype(int)\n",
    "\n",
    "for i in range(len(y_test)):\n",
    "    print(f'Actual: %d - Pred: %d'%(y_test[i], binaryPred[i]))\n",
    "    "
   ]
  },
  {
   "cell_type": "code",
   "execution_count": 28,
   "metadata": {},
   "outputs": [
    {
     "name": "stdout",
     "output_type": "stream",
     "text": [
      "Generate a prediction for a single sample\n",
      "1/1 [==============================] - 0s 22ms/step\n",
      "Prediction: [[0.00507289]]\n",
      "Predictions: [[0]]\n"
     ]
    }
   ],
   "source": [
    "print(\"Generate a prediction for a single sample\")\n",
    "sample1 = np.array([5.1, 2.5, 3.0, 1.1])\n",
    "sample2 = np.array([4.4, 3.0, 1.3, .2])\n",
    "\n",
    "sample = sample2.reshape((1, len(sample2)))\n",
    "predSample = model.predict(sample)\n",
    "\n",
    "print(f\"Prediction: {predSample}\")\n",
    "print(f\"Predictions: {(predSample>0.5).astype(int)}\")"
   ]
  },
  {
   "cell_type": "code",
   "execution_count": 29,
   "metadata": {},
   "outputs": [
    {
     "name": "stdout",
     "output_type": "stream",
     "text": [
      "W1:\n",
      " [[ 0.5896717   0.4016144   0.47352844  0.75838816]\n",
      " [ 0.7856165  -0.84743446  0.15543866  0.24039821]\n",
      " [-0.63642335  0.63494784  0.09724827 -0.28013858]\n",
      " [-0.2762492   1.8590498   1.4797034  -0.9822325 ]] \n",
      "b1:\n",
      " [ 0.4978974  -0.37050658 -0.3764768   0.4444901 ]\n",
      "W2:\n",
      " [[-0.9852292]\n",
      " [ 1.5832086]\n",
      " [ 0.5895937]\n",
      " [-0.5005398]] \n",
      "b2:\n",
      " [-0.4184152]\n"
     ]
    }
   ],
   "source": [
    "W1, b1 = model.get_layer(\"layer1\").get_weights()\n",
    "W2, b2 = model.get_layer(\"layer2\").get_weights()\n",
    "print(\"W1:\\n\", W1, \"\\nb1:\\n\", b1)\n",
    "print(\"W2:\\n\", W2, \"\\nb2:\\n\", b2)"
   ]
  }
 ],
 "metadata": {
  "kernelspec": {
   "display_name": "Python 3",
   "language": "python",
   "name": "python3"
  },
  "language_info": {
   "codemirror_mode": {
    "name": "ipython",
    "version": 3
   },
   "file_extension": ".py",
   "mimetype": "text/x-python",
   "name": "python",
   "nbconvert_exporter": "python",
   "pygments_lexer": "ipython3",
   "version": "3.9.5"
  }
 },
 "nbformat": 4,
 "nbformat_minor": 2
}
